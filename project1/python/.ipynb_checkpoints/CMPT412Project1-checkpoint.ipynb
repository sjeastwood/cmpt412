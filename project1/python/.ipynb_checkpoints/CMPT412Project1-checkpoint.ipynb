{
 "cells": [
  {
   "cell_type": "code",
   "execution_count": 41,
   "metadata": {},
   "outputs": [],
   "source": [
    "import numpy as np\n",
    "import pandas as pd\n",
    "import matplotlib.pyplot as plt\n",
    "import os"
   ]
  },
  {
   "cell_type": "code",
   "execution_count": 42,
   "metadata": {},
   "outputs": [],
   "source": [
    "#GLOBALS\n",
    "resultsdir = '../results'\n",
    "os.makedirs(resultsdir, exist_ok=True)"
   ]
  },
  {
   "cell_type": "code",
   "execution_count": 6,
   "metadata": {},
   "outputs": [],
   "source": [
    "def display_results_2(input_data, output, params, testname):\n",
    "    global resultsdir\n",
    "    \n",
    "    fig, ax = plt.subplots(input_data['batch_size'], 1)\n",
    "    for batch in range(input_data['batch_size']):\n",
    "        # outputs\n",
    "        img = output['data'][:,batch].reshape(output['height'], output['width'])\n",
    "        \n",
    "        # middle\n",
    "        img = np.hstack([params['w'].T, np.ones(img.shape), params['b'].reshape(-1, 1), np.zeros(img.shape), img])\n",
    "        \n",
    "        # inputs\n",
    "        imgin = input_data['data'][:,batch].reshape(input_data['height'], input_data['width']).T\n",
    "        imgin_padded = np.hstack([imgin, np.zeros((imgin.shape[0], 4))])\n",
    "        img = np.vstack([imgin_padded, np.zeros(imgin_padded.shape), np.zeros(imgin_padded.shape), np.ones(imgin_padded.shape), img])\n",
    "        \n",
    "        ax[batch].imshow(img)\n",
    "        ax[batch].set_title(f'Batch {batch + 1}')\n",
    "        ax[batch].set_axis_off()\n",
    "        \n",
    "    fig.suptitle(testname)\n",
    "    \n",
    "    filename = f\"{resultsdir}/{testname}.png\"\n",
    "    plt.savefig(filename)"
   ]
  },
  {
   "cell_type": "code",
   "execution_count": 35,
   "metadata": {},
   "outputs": [],
   "source": [
    "def inner_product_forward(input, layer, param):\n",
    "    \"\"\"\n",
    "    Forward pass of inner product layer.\n",
    "\n",
    "    Parameters:\n",
    "    - input (dict): Contains the input data.\n",
    "    - layer (dict): Contains the configuration for the inner product layer.\n",
    "    - param (dict): Contains the weights and biases for the inner product layer.\n",
    "    \"\"\"\n",
    "\n",
    "    d, k = input[\"data\"].shape\n",
    "    n = param[\"w\"].shape[1]\n",
    "\n",
    "    ###### Fill in the code here ######\n",
    "    W = param[\"w\"]\n",
    "    X = input[\"data\"]\n",
    "    b = param[\"b\"]\n",
    "    \n",
    "    f = np.dot(W.T,X) + b.T\n",
    "    \n",
    "    # Initialize output data structure\n",
    "    output = {\n",
    "        \"height\": n,\n",
    "        \"width\": 1,\n",
    "        \"channel\": 1,\n",
    "        \"batch_size\": k,\n",
    "        \"data\": f #np.zeros((n, k)) # replace 'data' value with your implementation\n",
    "    }\n",
    "\n",
    "    return output"
   ]
  },
  {
   "cell_type": "code",
   "execution_count": 36,
   "metadata": {},
   "outputs": [],
   "source": [
    "def test_inner_1():\n",
    "    # Initialize the 'input' structure\n",
    "    input_data = {}\n",
    "    input_data['data'] = np.zeros((25,2))\n",
    "    input_data['data'] = input_data['data'].T\n",
    "    input_data['data'].flat[5::3] = 1.0\n",
    "    input_data['data'].flat[6::3] = 0.5\n",
    "    input_data['data'] = input_data['data'].T\n",
    "    input_data['height'] = 25\n",
    "    input_data['width'] = 1\n",
    "    input_data['channel'] = 1\n",
    "    input_data['batch_size'] = 2\n",
    "\n",
    "    # Initialize the 'layer' structure\n",
    "    layer = {}\n",
    "    layer['type'] = 'IP'\n",
    "    layer['num'] = 25\n",
    "\n",
    "    # Initialize the 'params' structure\n",
    "    params = {}\n",
    "    params['w'] = np.eye(25)\n",
    "    params['w'].flat[:25*10] = 0\n",
    "    params['w'][1, 4] = 0.5\n",
    "    params['w'][2, 3] = 0.5\n",
    "    params['b'] = np.zeros((1,25))\n",
    "    params['b'][0,1] = 0.5\n",
    "    params['b'][0,3] = 0.5\n",
    "\n",
    "    output = inner_product_forward(input_data, layer, params)\n",
    "\n",
    "    display_results_2(input_data, output, params, 'Inner Product Test')"
   ]
  },
  {
   "cell_type": "code",
   "execution_count": 44,
   "metadata": {},
   "outputs": [],
   "source": [
    "def test_pooling_1():\n",
    "    input_data = {'data': np.zeros((36*3,2))}\n",
    "    input_data['data'][12, 0] = 0.5\n",
    "    input_data['data'][13, 0] = 0.25\n",
    "    input_data['data'][14, 0] = 0.5\n",
    "    input_data['data'][19+72, 0] = 0.75\n",
    "\n",
    "    input_data['data'][14, 1] = 0.25\n",
    "    input_data['data'][15, 1] = 0.75\n",
    "    input_data['data'][5+36, 1] = 0.75\n",
    "    input_data['data'][11+72, 1] = 0.75\n",
    "    input_data['width'] = 6\n",
    "    input_data['height'] = 6\n",
    "    input_data['channel'] = 3\n",
    "    input_data['batch_size'] = 2\n",
    "\n",
    "    layer = {'type': 'POOLING', 'k': 2, 'stride': 2, 'pad': 0}\n",
    "\n",
    "    output = pooling_layer_forward(input_data, layer)\n",
    "    display_results(input_data, output, 'Pooling Test')"
   ]
  },
  {
   "cell_type": "code",
   "execution_count": 45,
   "metadata": {},
   "outputs": [],
   "source": [
    "def display_results(input_data, output, testname):\n",
    "    global resultsdir\n",
    "    \n",
    "    fig, ax = plt.subplots(input_data['batch_size'], 2)\n",
    "    for batch in range(input_data['batch_size']):\n",
    "        # outputs\n",
    "        img1 = output['data'][:,batch].reshape(output['channel'], output['height'], output['width'])\n",
    "        img1 = np.transpose(img1, (1, 2, 0))\n",
    "        ax[batch, 1].imshow(img1)\n",
    "        ax[batch, 1].set_title(f'Output {batch + 1}')\n",
    "        ax[batch, 1].set_axis_off()\n",
    "\n",
    "        # inputs\n",
    "        imgin1 = input_data['data'][:,batch].reshape(input_data['channel'], input_data['height'], input_data['width'])\n",
    "        imgin1 = np.transpose(imgin1, (1, 2, 0))\n",
    "        ax[batch, 0].imshow(imgin1)\n",
    "        ax[batch, 0].set_title(f'Input {batch + 1}')\n",
    "        ax[batch, 0].set_axis_off()\n",
    "\n",
    "    fig.suptitle(testname)\n",
    "    \n",
    "    filename = f\"{resultsdir}/{testname}.png\"\n",
    "    plt.savefig(filename)"
   ]
  },
  {
   "cell_type": "code",
   "execution_count": 43,
   "metadata": {},
   "outputs": [
    {
     "data": {
      "image/png": "[encoded data removed]",
      "text/plain": [
       "<Figure size 432x288 with 2 Axes>"
      ]
     },
     "metadata": {
      "needs_background": "light"
     },
     "output_type": "display_data"
    }
   ],
   "source": [
    "test_inner_1()"
   ]
  },
  {
   "cell_type": "code",
   "execution_count": 3,
   "metadata": {},
   "outputs": [],
   "source": [
    "test_pooling_1()"
   ]
  },
  {
   "cell_type": "code",
   "execution_count": 47,
   "metadata": {},
   "outputs": [],
   "source": [
    "input_data = {'data': np.zeros((36*3,2))}\n",
    "input_data['data'][12, 0] = 0.5\n",
    "input_data['data'][13, 0] = 0.25\n",
    "input_data['data'][14, 0] = 0.5\n",
    "input_data['data'][19+72, 0] = 0.75\n",
    "\n",
    "input_data['data'][14, 1] = 0.25\n",
    "input_data['data'][15, 1] = 0.75\n",
    "input_data['data'][5+36, 1] = 0.75\n",
    "input_data['data'][11+72, 1] = 0.75\n",
    "input_data['width'] = 6\n",
    "input_data['height'] = 6\n",
    "input_data['channel'] = 3\n",
    "input_data['batch_size'] = 2\n",
    "\n",
    "layer = {'type': 'POOLING', 'k': 2, 'stride': 2, 'pad': 0}"
   ]
  },
  {
   "cell_type": "code",
   "execution_count": 48,
   "metadata": {},
   "outputs": [],
   "source": [
    "\"\"\"\n",
    "Forward pass for the pooling layer.\n",
    "\n",
    "Parameters:\n",
    "- input (dict): Contains the input data.\n",
    "- layer (dict): Layer configuration containing parameters such as kernel size, padding, stride, etc.\n",
    "\"\"\"\n",
    "\n",
    "h_in = input_data['height']\n",
    "w_in = input_data['width']\n",
    "c = input_data['channel']\n",
    "batch_size = input_data['batch_size']\n",
    "k = layer['k']\n",
    "pad = layer['pad']\n",
    "stride = layer['stride']\n",
    "\n",
    "h_out = int((h_in + 2 * pad - k) / stride + 1)\n",
    "w_out = int((w_in + 2 * pad - k) / stride + 1)"
   ]
  },
  {
   "cell_type": "code",
   "execution_count": 49,
   "metadata": {},
   "outputs": [
    {
     "name": "stdout",
     "output_type": "stream",
     "text": [
      "hout = 3, wout = 3, h_in = 6, w_in=6\n"
     ]
    }
   ],
   "source": [
    "print(\"hout = {}, wout = {}, h_in = {}, w_in={}\".format(h_out,w_out,h_in,w_in))"
   ]
  },
  {
   "cell_type": "code",
   "execution_count": 55,
   "metadata": {},
   "outputs": [
    {
     "data": {
      "text/plain": [
       "(108, 2)"
      ]
     },
     "execution_count": 55,
     "metadata": {},
     "output_type": "execute_result"
    }
   ],
   "source": [
    "input_data['data'].shape"
   ]
  },
  {
   "cell_type": "code",
   "execution_count": null,
   "metadata": {},
   "outputs": [],
   "source": [
    "# This is two images of 6 x 6 x 3 \n",
    "# we need to reshape the data to get this for each channel in a 6 by 6 \n",
    "# - use the testing code as example 3,6,6 reshape\n",
    "\n",
    "# then we slide our kernel and grab max to populate the output and grab max to populate output\n",
    "# - initialize np.zeros(3,3,3)??\n",
    "\n",
    "#reshape to 2d after\n"
   ]
  },
  {
   "cell_type": "code",
   "execution_count": 58,
   "metadata": {},
   "outputs": [
    {
     "data": {
      "text/plain": [
       "(3, 3, 3, 2)"
      ]
     },
     "execution_count": 58,
     "metadata": {},
     "output_type": "execute_result"
    }
   ],
   "source": [
    "np.zeros((h_out, w_out, c, batch_size)).shape"
   ]
  },
  {
   "cell_type": "code",
   "execution_count": null,
   "metadata": {},
   "outputs": [],
   "source": []
  }
 ],
 "metadata": {
  "kernelspec": {
   "display_name": "Python 3 (ipykernel)",
   "language": "python",
   "name": "python3"
  },
  "language_info": {
   "codemirror_mode": {
    "name": "ipython",
    "version": 3
   },
   "file_extension": ".py",
   "mimetype": "text/x-python",
   "name": "python",
   "nbconvert_exporter": "python",
   "pygments_lexer": "ipython3",
   "version": "3.10.12"
  }
 },
 "nbformat": 4,
 "nbformat_minor": 2
}
