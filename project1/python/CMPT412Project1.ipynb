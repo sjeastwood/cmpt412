{
 "cells": [
  {
   "cell_type": "code",
   "execution_count": 11,
   "metadata": {},
   "outputs": [],
   "source": [
    "import numpy as np\n",
    "import pandas as pd\n",
    "import matplotlib.pyplot as plt\n",
    "import os"
   ]
  },
  {
   "cell_type": "code",
   "execution_count": 12,
   "metadata": {},
   "outputs": [],
   "source": [
    "#GLOBALS\n",
    "resultsdir = '../results'\n",
    "os.makedirs(resultsdir, exist_ok=True)"
   ]
  },
  {
   "cell_type": "code",
   "execution_count": 68,
   "metadata": {},
   "outputs": [],
   "source": [
    "def display_results_2(input_data, output, params, testname):\n",
    "    global resultsdir\n",
    "    \n",
    "    fig, ax = plt.subplots(input_data['batch_size'], 1)\n",
    "    for batch in range(input_data['batch_size']):\n",
    "        # outputs\n",
    "        img = output['data'][:,batch].reshape(output['height'], output['width'])\n",
    "        \n",
    "        # middle\n",
    "        img = np.hstack([params['w'].T, np.ones(img.shape), params['b'].reshape(-1, 1), np.zeros(img.shape), img])\n",
    "        \n",
    "        # inputs\n",
    "        imgin = input_data['data'][:,batch].reshape(input_data['height'], input_data['width']).T\n",
    "        imgin_padded = np.hstack([imgin, np.zeros((imgin.shape[0], 4))])\n",
    "        img = np.vstack([imgin_padded, np.zeros(imgin_padded.shape), np.zeros(imgin_padded.shape), np.ones(imgin_padded.shape), img])\n",
    "        \n",
    "        ax[batch].imshow(img)\n",
    "        ax[batch].set_title(f'Batch {batch + 1}')\n",
    "        ax[batch].set_axis_off()\n",
    "        \n",
    "    fig.suptitle(testname)\n",
    "    \n",
    "    filename = f\"{resultsdir}/{testname}.png\"\n",
    "    plt.savefig(filename)"
   ]
  },
  {
   "cell_type": "code",
   "execution_count": 69,
   "metadata": {},
   "outputs": [],
   "source": [
    "def inner_product_forward(input, layer, param):\n",
    "    \"\"\"\n",
    "    Forward pass of inner product layer.\n",
    "\n",
    "    Parameters:\n",
    "    - input (dict): Contains the input data.\n",
    "    - layer (dict): Contains the configuration for the inner product layer.\n",
    "    - param (dict): Contains the weights and biases for the inner product layer.\n",
    "    \"\"\"\n",
    "\n",
    "    d, k = input[\"data\"].shape\n",
    "    n = param[\"w\"].shape[1]\n",
    "\n",
    "    ###### Fill in the code here ######\n",
    "    W = param[\"w\"]\n",
    "    X = input[\"data\"]\n",
    "    b = param[\"b\"]\n",
    "    \n",
    "    f = np.dot(W.T,X) + b.T\n",
    "    \n",
    "    # Initialize output data structure\n",
    "    output = {\n",
    "        \"height\": n,\n",
    "        \"width\": 1,\n",
    "        \"channel\": 1,\n",
    "        \"batch_size\": k,\n",
    "        \"data\": f #np.zeros((n, k)) # replace 'data' value with your implementation\n",
    "    }\n",
    "\n",
    "    return output"
   ]
  },
  {
   "cell_type": "code",
   "execution_count": 70,
   "metadata": {},
   "outputs": [],
   "source": [
    "def test_inner_1():\n",
    "    # Initialize the 'input' structure\n",
    "    input_data = {}\n",
    "    input_data['data'] = np.zeros((25,2))\n",
    "    input_data['data'] = input_data['data'].T\n",
    "    input_data['data'].flat[5::3] = 1.0\n",
    "    input_data['data'].flat[6::3] = 0.5\n",
    "    input_data['data'] = input_data['data'].T\n",
    "    input_data['height'] = 25\n",
    "    input_data['width'] = 1\n",
    "    input_data['channel'] = 1\n",
    "    input_data['batch_size'] = 2\n",
    "\n",
    "    # Initialize the 'layer' structure\n",
    "    layer = {}\n",
    "    layer['type'] = 'IP'\n",
    "    layer['num'] = 25\n",
    "\n",
    "    # Initialize the 'params' structure\n",
    "    params = {}\n",
    "    params['w'] = np.eye(25)\n",
    "    params['w'].flat[:25*10] = 0\n",
    "    params['w'][1, 4] = 0.5\n",
    "    params['w'][2, 3] = 0.5\n",
    "    params['b'] = np.zeros((1,25))\n",
    "    params['b'][0,1] = 0.5\n",
    "    params['b'][0,3] = 0.5\n",
    "\n",
    "    output = inner_product_forward(input_data, layer, params)\n",
    "\n",
    "    display_results_2(input_data, output, params, 'Inner Product Test')"
   ]
  },
  {
   "cell_type": "code",
   "execution_count": 71,
   "metadata": {},
   "outputs": [],
   "source": [
    "def test_pooling_1():\n",
    "    input_data = {'data': np.zeros((36*3,2))}\n",
    "    input_data['data'][12, 0] = 0.5\n",
    "    input_data['data'][13, 0] = 0.25\n",
    "    input_data['data'][14, 0] = 0.5\n",
    "    input_data['data'][19+72, 0] = 0.75\n",
    "\n",
    "    input_data['data'][14, 1] = 0.25\n",
    "    input_data['data'][15, 1] = 0.75\n",
    "    input_data['data'][5+36, 1] = 0.75\n",
    "    input_data['data'][11+72, 1] = 0.75\n",
    "    input_data['width'] = 6\n",
    "    input_data['height'] = 6\n",
    "    input_data['channel'] = 3\n",
    "    input_data['batch_size'] = 2\n",
    "\n",
    "    layer = {'type': 'POOLING', 'k': 2, 'stride': 2, 'pad': 0}\n",
    "\n",
    "    output = pooling_layer_forward(input_data, layer)\n",
    "    display_results(input_data, output, 'Pooling Test')"
   ]
  },
  {
   "cell_type": "code",
   "execution_count": 72,
   "metadata": {},
   "outputs": [],
   "source": [
    "def display_results(input_data, output, testname):\n",
    "    global resultsdir\n",
    "    \n",
    "    fig, ax = plt.subplots(input_data['batch_size'], 2)\n",
    "    for batch in range(input_data['batch_size']):\n",
    "        # outputs\n",
    "        img1 = output['data'][:,batch].reshape(output['channel'], output['height'], output['width'])\n",
    "        img1 = np.transpose(img1, (1, 2, 0))\n",
    "        ax[batch, 1].imshow(img1)\n",
    "        ax[batch, 1].set_title(f'Output {batch + 1}')\n",
    "        ax[batch, 1].set_axis_off()\n",
    "\n",
    "        # inputs\n",
    "        imgin1 = input_data['data'][:,batch].reshape(input_data['channel'], input_data['height'], input_data['width'])\n",
    "        imgin1 = np.transpose(imgin1, (1, 2, 0))\n",
    "        ax[batch, 0].imshow(imgin1)\n",
    "        ax[batch, 0].set_title(f'Input {batch + 1}')\n",
    "        ax[batch, 0].set_axis_off()\n",
    "\n",
    "    fig.suptitle(testname)\n",
    "    \n",
    "    filename = f\"{resultsdir}/{testname}.png\"\n",
    "    plt.savefig(filename)"
   ]
  },
  {
   "cell_type": "code",
   "execution_count": 76,
   "metadata": {},
   "outputs": [],
   "source": [
    "def pooling_layer_forward(input, layer):\n",
    "    \"\"\"\n",
    "    Forward pass for the pooling layer.\n",
    "\n",
    "    Parameters:\n",
    "    - input (dict): Contains the input data.\n",
    "    - layer (dict): Layer configuration containing parameters such as kernel size, padding, stride, etc.\n",
    "    \"\"\"\n",
    "    \n",
    "    h_in = input['height']\n",
    "    w_in = input['width']\n",
    "    c = input['channel']\n",
    "    batch_size = input['batch_size']\n",
    "    k = layer['k']\n",
    "    pad = layer['pad']\n",
    "    stride = layer['stride']\n",
    "\n",
    "    h_out = int((h_in + 2 * pad - k) / stride + 1)\n",
    "    w_out = int((w_in + 2 * pad - k) / stride + 1)\n",
    "    \n",
    "    ###### Fill in the code here ######\n",
    "    output_data = np.zeros((c*h_out*w_out,batch_size))\n",
    "\n",
    "    for batch in range(batch_size):\n",
    "        #input image reshaped\n",
    "        img = input_data['data'][:,batch].reshape(c, h_in, w_in) #need to account for padding\n",
    "\n",
    "        # add padding if it exists\n",
    "        pad_img = np.zeros((c,pad*2+h_in,pad*2+w_in))\n",
    "        for chan in range(c):\n",
    "            pad_img[chan] = np.pad(img[chan],pad)\n",
    "\n",
    "        #matrix to hold the pooled layers\n",
    "        pool_mtx = np.zeros((c,h_out,w_out))\n",
    "\n",
    "        #slide kernel across pad_img and grab max\n",
    "\n",
    "        row = 0\n",
    "        col = 0 #to control the pool_mtx row and col to be filled in\n",
    "        #go across rows with j\n",
    "        for j in range(0,pad_img.shape[1],stride): #stride is 2\n",
    "\n",
    "            col = 0 #reset column for next row\n",
    "\n",
    "            #go across columns with i\n",
    "            for i in range(0,pad_img.shape[2],stride):\n",
    "\n",
    "                #go across channels\n",
    "                for chan in range(c):\n",
    "                    #grab max from the kernel slice of image mtx\n",
    "                    pool_mtx[chan,row,col] = np.max(pad_img[chan,j:j+stride,i:i+stride])\n",
    "\n",
    "                col = col + 1 # move on to the next coumn\n",
    "\n",
    "            row = row + 1 # increment row when columns are done\n",
    "\n",
    "        output_data[:,batch] = pool_mtx.reshape(1,c*h_out*w_out)[0]\n",
    "    \n",
    "    output = {}\n",
    "    output['height'] = h_out\n",
    "    output['width'] = w_out\n",
    "    output['channel'] = c\n",
    "    output['batch_size'] = batch_size\n",
    "    output['data'] = output_data#np.zeros((h_out, w_out, c, batch_size)) # replace with your implementation\n",
    "\n",
    "    return output"
   ]
  },
  {
   "cell_type": "code",
   "execution_count": 77,
   "metadata": {},
   "outputs": [
    {
     "data": {
      "image/png": "[encoded data removed]",
      "text/plain": [
       "<Figure size 640x480 with 2 Axes>"
      ]
     },
     "metadata": {},
     "output_type": "display_data"
    }
   ],
   "source": [
    "test_inner_1()"
   ]
  },
  {
   "cell_type": "code",
   "execution_count": 78,
   "metadata": {},
   "outputs": [
    {
     "data": {
      "image/png": "[encoded data removed]",
      "text/plain": [
       "<Figure size 640x480 with 4 Axes>"
      ]
     },
     "metadata": {},
     "output_type": "display_data"
    }
   ],
   "source": [
    "test_pooling_1()"
   ]
  },
  {
   "cell_type": "code",
   "execution_count": null,
   "metadata": {},
   "outputs": [],
   "source": []
  },
  {
   "cell_type": "code",
   "execution_count": null,
   "metadata": {},
   "outputs": [],
   "source": []
  },
  {
   "cell_type": "code",
   "execution_count": null,
   "metadata": {},
   "outputs": [],
   "source": []
  },
  {
   "cell_type": "code",
   "execution_count": null,
   "metadata": {},
   "outputs": [],
   "source": []
  },
  {
   "cell_type": "code",
   "execution_count": null,
   "metadata": {},
   "outputs": [],
   "source": []
  },
  {
   "cell_type": "code",
   "execution_count": null,
   "metadata": {},
   "outputs": [],
   "source": []
  },
  {
   "cell_type": "code",
   "execution_count": null,
   "metadata": {},
   "outputs": [],
   "source": []
  },
  {
   "cell_type": "code",
   "execution_count": null,
   "metadata": {},
   "outputs": [],
   "source": []
  },
  {
   "cell_type": "code",
   "execution_count": null,
   "metadata": {},
   "outputs": [],
   "source": []
  },
  {
   "cell_type": "code",
   "execution_count": null,
   "metadata": {},
   "outputs": [],
   "source": []
  },
  {
   "cell_type": "code",
   "execution_count": null,
   "metadata": {},
   "outputs": [],
   "source": []
  },
  {
   "cell_type": "code",
   "execution_count": null,
   "metadata": {},
   "outputs": [],
   "source": []
  },
  {
   "cell_type": "code",
   "execution_count": null,
   "metadata": {},
   "outputs": [],
   "source": []
  },
  {
   "cell_type": "code",
   "execution_count": null,
   "metadata": {},
   "outputs": [],
   "source": []
  },
  {
   "cell_type": "code",
   "execution_count": null,
   "metadata": {},
   "outputs": [],
   "source": []
  },
  {
   "cell_type": "code",
   "execution_count": null,
   "metadata": {},
   "outputs": [],
   "source": []
  },
  {
   "cell_type": "markdown",
   "metadata": {},
   "source": [
    "### Test Code"
   ]
  },
  {
   "cell_type": "code",
   "execution_count": 21,
   "metadata": {},
   "outputs": [
    {
     "name": "stdout",
     "output_type": "stream",
     "text": [
      "[[ 1  2  3  4  5]\n",
      " [ 6  7  8  9 10]]\n",
      "[[2 3 4]\n",
      " [7 8 9]]\n",
      "(2, 3)\n",
      "[2 3 4 7 8 9]\n",
      "9\n"
     ]
    }
   ],
   "source": [
    "arr = np.array([[1, 2, 3, 4, 5], [6, 7, 8, 9, 10]])\n",
    "print(arr)\n",
    "\n",
    "#2D slicing\n",
    "mtx = arr[:2, 1:4]\n",
    "\n",
    "print(mtx)\n",
    "\n",
    "\n",
    "print(mtx.shape)\n",
    "\n",
    "ar = mtx.reshape(1,mtx.shape[0]*mtx.shape[1])[0]\n",
    "\n",
    "print(ar)\n",
    "\n",
    "print(np.max(mtx))\n"
   ]
  },
  {
   "cell_type": "markdown",
   "metadata": {},
   "source": [
    "### Padding the matrix"
   ]
  },
  {
   "cell_type": "code",
   "execution_count": 48,
   "metadata": {},
   "outputs": [
    {
     "data": {
      "text/plain": [
       "array([[0.  , 0.  , 0.  , 0.  , 0.  , 0.  ],\n",
       "       [0.  , 0.  , 0.  , 0.  , 0.  , 0.  ],\n",
       "       [0.  , 0.  , 0.  , 0.  , 0.  , 0.  ],\n",
       "       [0.  , 0.75, 0.  , 0.  , 0.  , 0.  ],\n",
       "       [0.  , 0.  , 0.  , 0.  , 0.  , 0.  ],\n",
       "       [0.  , 0.  , 0.  , 0.  , 0.  , 0.  ]])"
      ]
     },
     "execution_count": 48,
     "metadata": {},
     "output_type": "execute_result"
    }
   ],
   "source": [
    "test = input_data['data'][:,0].reshape(c, h_in, w_in)[2]\n",
    "test"
   ]
  },
  {
   "cell_type": "code",
   "execution_count": 51,
   "metadata": {},
   "outputs": [
    {
     "data": {
      "text/plain": [
       "array([[0.  , 0.  , 0.  , 0.  , 0.  , 0.  , 0.  , 0.  ],\n",
       "       [0.  , 0.  , 0.  , 0.  , 0.  , 0.  , 0.  , 0.  ],\n",
       "       [0.  , 0.  , 0.  , 0.  , 0.  , 0.  , 0.  , 0.  ],\n",
       "       [0.  , 0.  , 0.  , 0.  , 0.  , 0.  , 0.  , 0.  ],\n",
       "       [0.  , 0.  , 0.75, 0.  , 0.  , 0.  , 0.  , 0.  ],\n",
       "       [0.  , 0.  , 0.  , 0.  , 0.  , 0.  , 0.  , 0.  ],\n",
       "       [0.  , 0.  , 0.  , 0.  , 0.  , 0.  , 0.  , 0.  ],\n",
       "       [0.  , 0.  , 0.  , 0.  , 0.  , 0.  , 0.  , 0.  ]])"
      ]
     },
     "execution_count": 51,
     "metadata": {},
     "output_type": "execute_result"
    }
   ],
   "source": [
    "pad_test = np.pad(test,1)\n",
    "pad_test"
   ]
  },
  {
   "cell_type": "code",
   "execution_count": 68,
   "metadata": {},
   "outputs": [],
   "source": [
    "pad=0"
   ]
  },
  {
   "cell_type": "code",
   "execution_count": 69,
   "metadata": {},
   "outputs": [
    {
     "data": {
      "text/plain": [
       "array([[[0., 0., 0., 0., 0., 0.],\n",
       "        [0., 0., 0., 0., 0., 0.],\n",
       "        [0., 0., 0., 0., 0., 0.],\n",
       "        [0., 0., 0., 0., 0., 0.],\n",
       "        [0., 0., 0., 0., 0., 0.],\n",
       "        [0., 0., 0., 0., 0., 0.]],\n",
       "\n",
       "       [[0., 0., 0., 0., 0., 0.],\n",
       "        [0., 0., 0., 0., 0., 0.],\n",
       "        [0., 0., 0., 0., 0., 0.],\n",
       "        [0., 0., 0., 0., 0., 0.],\n",
       "        [0., 0., 0., 0., 0., 0.],\n",
       "        [0., 0., 0., 0., 0., 0.]],\n",
       "\n",
       "       [[0., 0., 0., 0., 0., 0.],\n",
       "        [0., 0., 0., 0., 0., 0.],\n",
       "        [0., 0., 0., 0., 0., 0.],\n",
       "        [0., 0., 0., 0., 0., 0.],\n",
       "        [0., 0., 0., 0., 0., 0.],\n",
       "        [0., 0., 0., 0., 0., 0.]]])"
      ]
     },
     "execution_count": 69,
     "metadata": {},
     "output_type": "execute_result"
    }
   ],
   "source": [
    "pad_img = np.zeros((c,pad*2+h_in,pad*2+w_in))\n",
    "pad_img"
   ]
  },
  {
   "cell_type": "code",
   "execution_count": 70,
   "metadata": {},
   "outputs": [],
   "source": [
    "for chan in range(c):\n",
    "    pad_img[chan] = np.pad(img[chan],pad)"
   ]
  },
  {
   "cell_type": "code",
   "execution_count": 80,
   "metadata": {},
   "outputs": [
    {
     "data": {
      "text/plain": [
       "(3, 6, 6)"
      ]
     },
     "execution_count": 80,
     "metadata": {},
     "output_type": "execute_result"
    }
   ],
   "source": [
    "pad_img.shape"
   ]
  },
  {
   "cell_type": "markdown",
   "metadata": {},
   "source": [
    "### Navigating the matrix"
   ]
  },
  {
   "cell_type": "code",
   "execution_count": 82,
   "metadata": {},
   "outputs": [
    {
     "name": "stdout",
     "output_type": "stream",
     "text": [
      "0 0\n",
      "0 2\n",
      "0 4\n",
      "2 0\n",
      "2 2\n",
      "2 4\n",
      "4 0\n",
      "4 2\n",
      "4 4\n"
     ]
    }
   ],
   "source": [
    "for j in range(0,pad_img.shape[1],stride): #stride is 2\n",
    "        \n",
    "        #go across columns with i\n",
    "        for i in range(0,pad_img.shape[2], stride):\n",
    "            print(j,i)"
   ]
  },
  {
   "cell_type": "code",
   "execution_count": null,
   "metadata": {},
   "outputs": [],
   "source": []
  },
  {
   "cell_type": "code",
   "execution_count": null,
   "metadata": {},
   "outputs": [],
   "source": []
  },
  {
   "cell_type": "code",
   "execution_count": null,
   "metadata": {},
   "outputs": [],
   "source": []
  },
  {
   "cell_type": "code",
   "execution_count": null,
   "metadata": {},
   "outputs": [],
   "source": []
  },
  {
   "cell_type": "code",
   "execution_count": null,
   "metadata": {},
   "outputs": [],
   "source": []
  },
  {
   "cell_type": "code",
   "execution_count": null,
   "metadata": {},
   "outputs": [],
   "source": []
  }
 ],
 "metadata": {
  "kernelspec": {
   "display_name": "Python 3 (ipykernel)",
   "language": "python",
   "name": "python3"
  },
  "language_info": {
   "codemirror_mode": {
    "name": "ipython",
    "version": 3
   },
   "file_extension": ".py",
   "mimetype": "text/x-python",
   "name": "python",
   "nbconvert_exporter": "python",
   "pygments_lexer": "ipython3",
   "version": "3.10.9"
  }
 },
 "nbformat": 4,
 "nbformat_minor": 4
}
