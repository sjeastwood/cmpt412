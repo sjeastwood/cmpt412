{
 "cells": [
  {
   "cell_type": "code",
   "execution_count": 2,
   "metadata": {},
   "outputs": [],
   "source": [
    "import numpy as np\n",
    "import pandas as pd\n",
    "import matplotlib.pyplot as plt\n",
    "import os\n",
    "from utils import im2col_conv, col2im_conv, im2col_conv_batch"
   ]
  },
  {
   "cell_type": "code",
   "execution_count": 3,
   "metadata": {},
   "outputs": [],
   "source": [
    "#GLOBALS\n",
    "resultsdir = '../results'\n",
    "os.makedirs(resultsdir, exist_ok=True)"
   ]
  },
  {
   "cell_type": "code",
   "execution_count": 4,
   "metadata": {},
   "outputs": [],
   "source": [
    "def display_results_2(input_data, output, params, testname):\n",
    "    global resultsdir\n",
    "    \n",
    "    fig, ax = plt.subplots(input_data['batch_size'], 1)\n",
    "    for batch in range(input_data['batch_size']):\n",
    "        # outputs\n",
    "        img = output['data'][:,batch].reshape(output['height'], output['width'])\n",
    "        \n",
    "        # middle\n",
    "        img = np.hstack([params['w'].T, np.ones(img.shape), params['b'].reshape(-1, 1), np.zeros(img.shape), img])\n",
    "        \n",
    "        # inputs\n",
    "        imgin = input_data['data'][:,batch].reshape(input_data['height'], input_data['width']).T\n",
    "        imgin_padded = np.hstack([imgin, np.zeros((imgin.shape[0], 4))])\n",
    "        img = np.vstack([imgin_padded, np.zeros(imgin_padded.shape), np.zeros(imgin_padded.shape), np.ones(imgin_padded.shape), img])\n",
    "        \n",
    "        ax[batch].imshow(img)\n",
    "        ax[batch].set_title(f'Batch {batch + 1}')\n",
    "        ax[batch].set_axis_off()\n",
    "        \n",
    "    fig.suptitle(testname)\n",
    "    \n",
    "    filename = f\"{resultsdir}/{testname}.png\"\n",
    "    plt.savefig(filename)"
   ]
  },
  {
   "cell_type": "code",
   "execution_count": 5,
   "metadata": {},
   "outputs": [],
   "source": [
    "def inner_product_forward(input, layer, param):\n",
    "    \"\"\"\n",
    "    Forward pass of inner product layer.\n",
    "\n",
    "    Parameters:\n",
    "    - input (dict): Contains the input data.\n",
    "    - layer (dict): Contains the configuration for the inner product layer.\n",
    "    - param (dict): Contains the weights and biases for the inner product layer.\n",
    "    \"\"\"\n",
    "\n",
    "    d, k = input[\"data\"].shape\n",
    "    n = param[\"w\"].shape[1]\n",
    "\n",
    "    ###### Fill in the code here ######\n",
    "    W = param[\"w\"]\n",
    "    X = input[\"data\"]\n",
    "    b = param[\"b\"]\n",
    "    \n",
    "    f = np.dot(W.T,X) + b.T\n",
    "    \n",
    "    # Initialize output data structure\n",
    "    output = {\n",
    "        \"height\": n,\n",
    "        \"width\": 1,\n",
    "        \"channel\": 1,\n",
    "        \"batch_size\": k,\n",
    "        \"data\": f #np.zeros((n, k)) # replace 'data' value with your implementation\n",
    "    }\n",
    "\n",
    "    return output"
   ]
  },
  {
   "cell_type": "code",
   "execution_count": 6,
   "metadata": {},
   "outputs": [],
   "source": [
    "def test_inner_1():\n",
    "    # Initialize the 'input' structure\n",
    "    input_data = {}\n",
    "    input_data['data'] = np.zeros((25,2))\n",
    "    input_data['data'] = input_data['data'].T\n",
    "    input_data['data'].flat[5::3] = 1.0\n",
    "    input_data['data'].flat[6::3] = 0.5\n",
    "    input_data['data'] = input_data['data'].T\n",
    "    input_data['height'] = 25\n",
    "    input_data['width'] = 1\n",
    "    input_data['channel'] = 1\n",
    "    input_data['batch_size'] = 2\n",
    "\n",
    "    # Initialize the 'layer' structure\n",
    "    layer = {}\n",
    "    layer['type'] = 'IP'\n",
    "    layer['num'] = 25\n",
    "\n",
    "    # Initialize the 'params' structure\n",
    "    params = {}\n",
    "    params['w'] = np.eye(25)\n",
    "    params['w'].flat[:25*10] = 0\n",
    "    params['w'][1, 4] = 0.5\n",
    "    params['w'][2, 3] = 0.5\n",
    "    params['b'] = np.zeros((1,25))\n",
    "    params['b'][0,1] = 0.5\n",
    "    params['b'][0,3] = 0.5\n",
    "\n",
    "    output = inner_product_forward(input_data, layer, params)\n",
    "\n",
    "    display_results_2(input_data, output, params, 'Inner Product Test')"
   ]
  },
  {
   "cell_type": "code",
   "execution_count": 7,
   "metadata": {},
   "outputs": [],
   "source": [
    "def test_pooling_1():\n",
    "    input_data = {'data': np.zeros((36*3,2))}\n",
    "    input_data['data'][12, 0] = 0.5\n",
    "    input_data['data'][13, 0] = 0.25\n",
    "    input_data['data'][14, 0] = 0.5\n",
    "    input_data['data'][19+72, 0] = 0.75\n",
    "\n",
    "    input_data['data'][14, 1] = 0.25\n",
    "    input_data['data'][15, 1] = 0.75\n",
    "    input_data['data'][5+36, 1] = 0.75\n",
    "    input_data['data'][11+72, 1] = 0.75\n",
    "    input_data['width'] = 6\n",
    "    input_data['height'] = 6\n",
    "    input_data['channel'] = 3\n",
    "    input_data['batch_size'] = 2\n",
    "\n",
    "    layer = {'type': 'POOLING', 'k': 2, 'stride': 2, 'pad': 0}\n",
    "\n",
    "    output = pooling_layer_forward(input_data, layer)\n",
    "    display_results(input_data, output, 'Pooling Test')"
   ]
  },
  {
   "cell_type": "code",
   "execution_count": 8,
   "metadata": {},
   "outputs": [],
   "source": [
    "def display_results(input_data, output, testname):\n",
    "    global resultsdir\n",
    "    \n",
    "    fig, ax = plt.subplots(input_data['batch_size'], 2)\n",
    "    for batch in range(input_data['batch_size']):\n",
    "        # outputs\n",
    "        img1 = output['data'][:,batch].reshape(output['channel'], output['height'], output['width'])\n",
    "        img1 = np.transpose(img1, (1, 2, 0))\n",
    "        ax[batch, 1].imshow(img1)\n",
    "        ax[batch, 1].set_title(f'Output {batch + 1}')\n",
    "        ax[batch, 1].set_axis_off()\n",
    "\n",
    "        # inputs\n",
    "        imgin1 = input_data['data'][:,batch].reshape(input_data['channel'], input_data['height'], input_data['width'])\n",
    "        imgin1 = np.transpose(imgin1, (1, 2, 0))\n",
    "        ax[batch, 0].imshow(imgin1)\n",
    "        ax[batch, 0].set_title(f'Input {batch + 1}')\n",
    "        ax[batch, 0].set_axis_off()\n",
    "\n",
    "    fig.suptitle(testname)\n",
    "    \n",
    "    filename = f\"{resultsdir}/{testname}.png\"\n",
    "    plt.savefig(filename)"
   ]
  },
  {
   "cell_type": "code",
   "execution_count": 9,
   "metadata": {},
   "outputs": [],
   "source": [
    "def pooling_layer_forward(input, layer):\n",
    "    \"\"\"\n",
    "    Forward pass for the pooling layer.\n",
    "\n",
    "    Parameters:\n",
    "    - input (dict): Contains the input data.\n",
    "    - layer (dict): Layer configuration containing parameters such as kernel size, padding, stride, etc.\n",
    "    \"\"\"\n",
    "    \n",
    "    h_in = input['height']\n",
    "    w_in = input['width']\n",
    "    c = input['channel']\n",
    "    batch_size = input['batch_size']\n",
    "    k = layer['k']\n",
    "    pad = layer['pad']\n",
    "    stride = layer['stride']\n",
    "\n",
    "    h_out = int((h_in + 2 * pad - k) / stride + 1)\n",
    "    w_out = int((w_in + 2 * pad - k) / stride + 1)\n",
    "    \n",
    "    ###### Fill in the code here ######\n",
    "    output_data = np.zeros((c*h_out*w_out,batch_size))\n",
    "\n",
    "    for batch in range(batch_size):\n",
    "        #input image reshaped\n",
    "        img = input['data'][:,batch].reshape(c, h_in, w_in) #need to account for padding\n",
    "\n",
    "        # add padding if it exists\n",
    "        pad_img = np.zeros((c,pad*2+h_in,pad*2+w_in))\n",
    "        for chan in range(c):\n",
    "            pad_img[chan] = np.pad(img[chan],pad)\n",
    "\n",
    "        #matrix to hold the pooled layers\n",
    "        pool_mtx = np.zeros((c,h_out,w_out))\n",
    "\n",
    "        #slide kernel across pad_img and grab max\n",
    "\n",
    "        row = 0\n",
    "        col = 0 #to control the pool_mtx row and col to be filled in\n",
    "        #go across rows with j\n",
    "        for j in range(0,pad_img.shape[1],stride): #stride is 2\n",
    "\n",
    "            col = 0 #reset column for next row\n",
    "\n",
    "            #go across columns with i\n",
    "            for i in range(0,pad_img.shape[2],stride):\n",
    "\n",
    "                #go across channels\n",
    "                for chan in range(c):\n",
    "                    #grab max from the kernel slice of image mtx\n",
    "                    pool_mtx[chan,row,col] = np.max(pad_img[chan,j:j+stride,i:i+stride])\n",
    "\n",
    "                col = col + 1 # move on to the next coumn\n",
    "\n",
    "            row = row + 1 # increment row when columns are done\n",
    "\n",
    "        output_data[:,batch] = pool_mtx.reshape(1,c*h_out*w_out)[0]\n",
    "    \n",
    "    output = {}\n",
    "    output['height'] = h_out\n",
    "    output['width'] = w_out\n",
    "    output['channel'] = c\n",
    "    output['batch_size'] = batch_size\n",
    "    output['data'] = output_data#np.zeros((h_out, w_out, c, batch_size)) # replace with your implementation\n",
    "\n",
    "    return output"
   ]
  },
  {
   "cell_type": "code",
   "execution_count": 10,
   "metadata": {},
   "outputs": [
    {
     "data": {
      "image/png": "[encoded data removed]",
      "text/plain": [
       "<Figure size 432x288 with 2 Axes>"
      ]
     },
     "metadata": {
      "needs_background": "light"
     },
     "output_type": "display_data"
    }
   ],
   "source": [
    "test_inner_1()"
   ]
  },
  {
   "cell_type": "code",
   "execution_count": 11,
   "metadata": {},
   "outputs": [
    {
     "data": {
      "image/png": "[encoded data removed]",
      "text/plain": [
       "<Figure size 432x288 with 4 Axes>"
      ]
     },
     "metadata": {
      "needs_background": "light"
     },
     "output_type": "display_data"
    }
   ],
   "source": [
    "test_pooling_1()"
   ]
  },
  {
   "cell_type": "markdown",
   "metadata": {},
   "source": [
    "### Convolution Test"
   ]
  },
  {
   "cell_type": "code",
   "execution_count": 12,
   "metadata": {},
   "outputs": [],
   "source": [
    "def conv_layer_forward(input_data, layer, param):\n",
    "    \"\"\"\n",
    "    Forward pass for a convolutional layer.\n",
    "\n",
    "    Parameters:\n",
    "    - input_data (dict): A dictionary containing the input data.\n",
    "    - layer (dict): Layer configuration containing parameters such as kernel size, padding, stride, etc.\n",
    "    - param (dict): A dictionary containing the parameters 'b' and 'w'.\n",
    "    \"\"\"\n",
    "    h_in = input_data['height']\n",
    "    w_in = input_data['width']\n",
    "    c = input_data['channel']\n",
    "    batch_size = input_data['batch_size']\n",
    "    k = layer['k']\n",
    "    pad = layer['pad']\n",
    "    stride = layer['stride']\n",
    "    num = layer['num']\n",
    "\n",
    "    # resolve output shape\n",
    "    h_out = (h_in + 2*pad - k) // stride + 1\n",
    "    w_out = (w_in + 2*pad - k) // stride + 1\n",
    "\n",
    "    assert h_out == int(h_out), 'h_out is not integer'\n",
    "    assert w_out == int(w_out), 'w_out is not integer'\n",
    "\n",
    "    input_n = {\n",
    "        'height': h_in,\n",
    "        'width': w_in,\n",
    "        'channel': c,\n",
    "        'data': input_data['data'],\n",
    "        'batch_size': batch_size\n",
    "    }\n",
    "\n",
    "    ############# Fill in the code here ###############\n",
    "    # Hint: use im2col_conv_batch for faster computation\n",
    "    \n",
    "    #empty output_data\n",
    "    output_data = np.zeros((h_out*w_out*num,batch_size))\n",
    "    \n",
    "    #declare empty output to be filled in\n",
    "    conv_img = np.zeros((num,h_out,w_out))\n",
    "    \n",
    "    #prepare the data for convolution\n",
    "    pre_conv = im2col_conv_batch(input_n, layer, h_out, w_out)\n",
    "    \n",
    "    #learning parameters\n",
    "    W = param['w']\n",
    "    b = param['b']\n",
    "    \n",
    "    for batch in range(batch_size):\n",
    "        #grab per image of batch\n",
    "        pre_conv_img = pre_conv[:,:,batch]\n",
    "\n",
    "        #convolving over the number of filters\n",
    "        for n in range(num):\n",
    "            for row in range(h_out):\n",
    "                for col in range(w_out):\n",
    "                    conv_img[n,row,col] = np.dot(pre_conv_img[:,row*w_out+col], W[:,n]) + b[n]\n",
    "                                \n",
    "        output_data[:,batch] = conv_img.reshape(1,h_out*w_out*num)\n",
    "    \n",
    "    output = {\n",
    "        'height': h_out,\n",
    "        'width': w_out,\n",
    "        'channel': num,\n",
    "        'batch_size': batch_size,\n",
    "        'data': output_data#np.zeros((h_out, w_out, num, batch_size)) # replace 'data' value with your implementation\n",
    "    }\n",
    "    \n",
    "    \n",
    "    return output"
   ]
  },
  {
   "cell_type": "code",
   "execution_count": 13,
   "metadata": {},
   "outputs": [],
   "source": [
    "def test_conv_1():\n",
    "    # Initialize the 'input' structure\n",
    "    input_data = {}\n",
    "    input_data['data'] = np.zeros((25, 2))\n",
    "    input_data['data'][12, 0] = 1\n",
    "    input_data['data'][13, 1] = 1\n",
    "    input_data['width'] = 5\n",
    "    input_data['height'] = 5\n",
    "    input_data['channel'] = 1\n",
    "    input_data['batch_size'] = 2\n",
    "\n",
    "    # Initialize the 'conv_layer' structure\n",
    "    conv_layer = {}\n",
    "    conv_layer['type'] = 'CONV'\n",
    "    conv_layer['num'] = 3\n",
    "    conv_layer['k'] = 5\n",
    "    conv_layer['stride'] = 1\n",
    "    conv_layer['pad'] = 2\n",
    "\n",
    "    # Initialize the 'params' structure\n",
    "    params = {}\n",
    "    params['w'] = np.zeros((25, 3))\n",
    "    params['w'][13, 0] = 0.5  # move image left by one pixel on red channel\n",
    "    params['w'][11+5, 2] = 0.5  # move image top-right dir on blue channel\n",
    "    params['b'] = np.array([0.25, 0.0, 0.25])\n",
    "\n",
    "    # Call the conv_layer_forward function (you would need to define this function in Python)\n",
    "    output = conv_layer_forward(input_data, conv_layer, params)\n",
    "\n",
    "    # Call the display_results function (you would need to define this function in Python)\n",
    "    display_results(input_data, output, 'Convolution Test 1')"
   ]
  },
  {
   "cell_type": "code",
   "execution_count": 14,
   "metadata": {},
   "outputs": [
    {
     "data": {
      "image/png": "[encoded data removed]",
      "text/plain": [
       "<Figure size 432x288 with 4 Axes>"
      ]
     },
     "metadata": {
      "needs_background": "light"
     },
     "output_type": "display_data"
    }
   ],
   "source": [
    "test_conv_1()"
   ]
  },
  {
   "cell_type": "code",
   "execution_count": 15,
   "metadata": {},
   "outputs": [],
   "source": [
    "def test_conv_2():\n",
    "    # Initialize the 'input' structure\n",
    "    input_data = {}\n",
    "    input_data['data'] = np.zeros((75, 4))\n",
    "\n",
    "    input_data['data'][12, 0] = 1\n",
    "    input_data['data'][12+25, 1] = 1\n",
    "    input_data['data'][13+50, 2] = 1\n",
    "\n",
    "    input_data['data'][0, 3] = 1\n",
    "    input_data['data'][21, 3] = 1\n",
    "    input_data['data'][12, 3] = 1\n",
    "    input_data['data'][13, 3] = 1\n",
    "    input_data['data'][13+25, 3] = 1\n",
    "    input_data['data'][14+25, 3] = 1\n",
    "    input_data['data'][24+50, 3] = 1\n",
    "\n",
    "    input_data['width'] = 5\n",
    "    input_data['height'] = 5\n",
    "    input_data['channel'] = 3\n",
    "    input_data['batch_size'] = 4\n",
    "\n",
    "    # Initialize the 'conv_layer' structure\n",
    "    conv_layer = {}\n",
    "    conv_layer['type'] = 'CONV'\n",
    "    conv_layer['num'] = 3\n",
    "    conv_layer['k'] = 5\n",
    "    conv_layer['stride'] = 1\n",
    "    conv_layer['pad'] = 2\n",
    "\n",
    "    # Initialize the 'params' structure\n",
    "    params = {}\n",
    "    params['w'] = np.zeros((75, 3))\n",
    "    # What it does to red\n",
    "    params['w'][13, 0] = 1.  # move image left by one pixel on red channel\n",
    "    params['w'][11+5, 2] = 1.  # move image top-right dir on blue channel\n",
    "    # What it does to green\n",
    "    params['w'][12+25, 2] = 1.  # stay in place on blue\n",
    "    params['w'][12+5+25, 1] = 1.    # move top on green\n",
    "    # What it does to blue\n",
    "    params['w'][12+50, 0] = 1.0  # stay in place\n",
    "    params['w'][12+50, 1] = 1.0  # stay in place\n",
    "    params['w'][12+50, 2] = 1.0  # stay in place\n",
    "    # Bias\n",
    "    params['b'] = np.array([0., 0.0, 0.])\n",
    "\n",
    "    # Call the conv_layer_forward function (you would need to define this function in Python)\n",
    "    output = conv_layer_forward(input_data, conv_layer, params)\n",
    "\n",
    "    # Call the display_results function (you would need to define this function in Python)\n",
    "    display_results(input_data, output, 'Convolution Test 2')\n"
   ]
  },
  {
   "cell_type": "code",
   "execution_count": 16,
   "metadata": {},
   "outputs": [
    {
     "data": {
      "image/png": "[encoded data removed]",
      "text/plain": [
       "<Figure size 432x288 with 8 Axes>"
      ]
     },
     "metadata": {
      "needs_background": "light"
     },
     "output_type": "display_data"
    }
   ],
   "source": [
    "test_conv_2()"
   ]
  },
  {
   "cell_type": "markdown",
   "metadata": {},
   "source": [
    "# RELU Test Code\n"
   ]
  },
  {
   "cell_type": "code",
   "execution_count": 17,
   "metadata": {},
   "outputs": [],
   "source": [
    "#Test Data\n",
    "input_data = {}\n",
    "input_data['data'] = np.zeros((75, 4))\n",
    "\n",
    "input_data['data'][12, 0] = 1\n",
    "input_data['data'][12+25, 1] = 1\n",
    "input_data['data'][13+50, 2] = 1\n",
    "\n",
    "input_data['data'][0, 3] = 1\n",
    "input_data['data'][21, 3] = 1\n",
    "input_data['data'][12, 3] = 1\n",
    "input_data['data'][13, 3] = 1\n",
    "input_data['data'][13+25, 3] = 1\n",
    "input_data['data'][14+25, 3] = 1\n",
    "input_data['data'][24+50, 3] = 1\n",
    "\n",
    "input_data['width'] = 5\n",
    "input_data['height'] = 5\n",
    "input_data['channel'] = 3\n",
    "input_data['batch_size'] = 4"
   ]
  },
  {
   "cell_type": "code",
   "execution_count": 18,
   "metadata": {},
   "outputs": [],
   "source": [
    "output = {\n",
    "    'height': input_data['height'], \n",
    "    'width': input_data['width'],\n",
    "    'channel': input_data['channel'],\n",
    "    'batch_size': input_data['batch_size'],\n",
    "}"
   ]
  },
  {
   "cell_type": "code",
   "execution_count": 21,
   "metadata": {},
   "outputs": [],
   "source": [
    "def activate(x):\n",
    "    if x > 0:\n",
    "        return x\n",
    "    else:\n",
    "        return 0"
   ]
  },
  {
   "cell_type": "code",
   "execution_count": 22,
   "metadata": {},
   "outputs": [],
   "source": [
    "relu_activate = np.vectorize(activate)"
   ]
  },
  {
   "cell_type": "code",
   "execution_count": 26,
   "metadata": {},
   "outputs": [],
   "source": [
    "output['data'] = relu_activate(input_data['data'])"
   ]
  },
  {
   "cell_type": "code",
   "execution_count": 27,
   "metadata": {},
   "outputs": [
    {
     "data": {
      "text/plain": [
       "array([[0, 0, 0, 1],\n",
       "       [0, 0, 0, 0],\n",
       "       [0, 0, 0, 0],\n",
       "       [0, 0, 0, 0],\n",
       "       [0, 0, 0, 0],\n",
       "       [0, 0, 0, 0],\n",
       "       [0, 0, 0, 0],\n",
       "       [0, 0, 0, 0],\n",
       "       [0, 0, 0, 0],\n",
       "       [0, 0, 0, 0],\n",
       "       [0, 0, 0, 0],\n",
       "       [0, 0, 0, 0],\n",
       "       [1, 0, 0, 1],\n",
       "       [0, 0, 0, 1],\n",
       "       [0, 0, 0, 0],\n",
       "       [0, 0, 0, 0],\n",
       "       [0, 0, 0, 0],\n",
       "       [0, 0, 0, 0],\n",
       "       [0, 0, 0, 0],\n",
       "       [0, 0, 0, 0],\n",
       "       [0, 0, 0, 0],\n",
       "       [0, 0, 0, 1],\n",
       "       [0, 0, 0, 0],\n",
       "       [0, 0, 0, 0],\n",
       "       [0, 0, 0, 0],\n",
       "       [0, 0, 0, 0],\n",
       "       [0, 0, 0, 0],\n",
       "       [0, 0, 0, 0],\n",
       "       [0, 0, 0, 0],\n",
       "       [0, 0, 0, 0],\n",
       "       [0, 0, 0, 0],\n",
       "       [0, 0, 0, 0],\n",
       "       [0, 0, 0, 0],\n",
       "       [0, 0, 0, 0],\n",
       "       [0, 0, 0, 0],\n",
       "       [0, 0, 0, 0],\n",
       "       [0, 0, 0, 0],\n",
       "       [0, 1, 0, 0],\n",
       "       [0, 0, 0, 1],\n",
       "       [0, 0, 0, 1],\n",
       "       [0, 0, 0, 0],\n",
       "       [0, 0, 0, 0],\n",
       "       [0, 0, 0, 0],\n",
       "       [0, 0, 0, 0],\n",
       "       [0, 0, 0, 0],\n",
       "       [0, 0, 0, 0],\n",
       "       [0, 0, 0, 0],\n",
       "       [0, 0, 0, 0],\n",
       "       [0, 0, 0, 0],\n",
       "       [0, 0, 0, 0],\n",
       "       [0, 0, 0, 0],\n",
       "       [0, 0, 0, 0],\n",
       "       [0, 0, 0, 0],\n",
       "       [0, 0, 0, 0],\n",
       "       [0, 0, 0, 0],\n",
       "       [0, 0, 0, 0],\n",
       "       [0, 0, 0, 0],\n",
       "       [0, 0, 0, 0],\n",
       "       [0, 0, 0, 0],\n",
       "       [0, 0, 0, 0],\n",
       "       [0, 0, 0, 0],\n",
       "       [0, 0, 0, 0],\n",
       "       [0, 0, 0, 0],\n",
       "       [0, 0, 1, 0],\n",
       "       [0, 0, 0, 0],\n",
       "       [0, 0, 0, 0],\n",
       "       [0, 0, 0, 0],\n",
       "       [0, 0, 0, 0],\n",
       "       [0, 0, 0, 0],\n",
       "       [0, 0, 0, 0],\n",
       "       [0, 0, 0, 0],\n",
       "       [0, 0, 0, 0],\n",
       "       [0, 0, 0, 0],\n",
       "       [0, 0, 0, 0],\n",
       "       [0, 0, 0, 1]])"
      ]
     },
     "execution_count": 27,
     "metadata": {},
     "output_type": "execute_result"
    }
   ],
   "source": [
    "output['data']"
   ]
  },
  {
   "cell_type": "markdown",
   "metadata": {},
   "source": [
    "### Convolution Testing Code"
   ]
  },
  {
   "cell_type": "code",
   "execution_count": 34,
   "metadata": {},
   "outputs": [],
   "source": [
    "# Initialize the 'input' structure\n",
    "input_data = {}\n",
    "input_data['data'] = np.zeros((75, 4))\n",
    "\n",
    "input_data['data'][12, 0] = 1\n",
    "input_data['data'][12+25, 1] = 1\n",
    "input_data['data'][13+50, 2] = 1\n",
    "\n",
    "input_data['data'][0, 3] = 1\n",
    "input_data['data'][21, 3] = 1\n",
    "input_data['data'][12, 3] = 1\n",
    "input_data['data'][13, 3] = 1\n",
    "input_data['data'][13+25, 3] = 1\n",
    "input_data['data'][14+25, 3] = 1\n",
    "input_data['data'][24+50, 3] = 1\n",
    "\n",
    "input_data['width'] = 5\n",
    "input_data['height'] = 5\n",
    "input_data['channel'] = 3\n",
    "input_data['batch_size'] = 4\n",
    "\n",
    "# Initialize the 'conv_layer' structure\n",
    "conv_layer = {}\n",
    "conv_layer['type'] = 'CONV'\n",
    "conv_layer['num'] = 3\n",
    "conv_layer['k'] = 5\n",
    "conv_layer['stride'] = 1\n",
    "conv_layer['pad'] = 2\n",
    "\n",
    "# Initialize the 'params' structure\n",
    "params = {}\n",
    "params['w'] = np.zeros((75, 3))\n",
    "# What it does to red\n",
    "params['w'][13, 0] = 1.  # move image left by one pixel on red channel\n",
    "params['w'][11+5, 2] = 1.  # move image top-right dir on blue channel\n",
    "# What it does to green\n",
    "params['w'][12+25, 2] = 1.  # stay in place on blue\n",
    "params['w'][12+5+25, 1] = 1.    # move top on green\n",
    "# What it does to blue\n",
    "params['w'][12+50, 0] = 1.0  # stay in place\n",
    "params['w'][12+50, 1] = 1.0  # stay in place\n",
    "params['w'][12+50, 2] = 1.0  # stay in place\n",
    "# Bias\n",
    "params['b'] = np.array([0., 0.0, 0.])"
   ]
  },
  {
   "cell_type": "code",
   "execution_count": 35,
   "metadata": {},
   "outputs": [],
   "source": [
    "layer = conv_layer\n",
    "input_data = input_data\n",
    "param = params"
   ]
  },
  {
   "cell_type": "code",
   "execution_count": 36,
   "metadata": {},
   "outputs": [],
   "source": [
    "#from forward_conv_layer function\n",
    "h_in = input_data['height']\n",
    "w_in = input_data['width']\n",
    "c = input_data['channel']\n",
    "batch_size = input_data['batch_size']\n",
    "k = layer['k']\n",
    "pad = layer['pad']\n",
    "stride = layer['stride']\n",
    "num = layer['num']\n",
    "\n",
    "# resolve output shape\n",
    "h_out = (h_in + 2*pad - k) // stride + 1\n",
    "w_out = (w_in + 2*pad - k) // stride + 1\n",
    "\n",
    "assert h_out == int(h_out), 'h_out is not integer'\n",
    "assert w_out == int(w_out), 'w_out is not integer'\n",
    "\n",
    "input_n = {\n",
    "    'height': h_in,\n",
    "    'width': w_in,\n",
    "    'channel': c,\n",
    "    'data': input_data['data'],\n",
    "    'batch_size': batch_size\n",
    "}"
   ]
  },
  {
   "cell_type": "code",
   "execution_count": 31,
   "metadata": {},
   "outputs": [],
   "source": [
    "pre_conv = im2col_conv_batch(input_n, layer, h_out, w_out)"
   ]
  },
  {
   "cell_type": "markdown",
   "metadata": {},
   "source": [
    "What the above function does is slide the kernel mask around and grab all the relevant pixels that will be used in the convolution and create a bunch of columns that will make up an array for the image. \n",
    "\n",
    "Convolution can easily be performed across the columns and populate a 5x5 across the depth of the filters, given by the 'num' variable."
   ]
  },
  {
   "cell_type": "code",
   "execution_count": 38,
   "metadata": {},
   "outputs": [
    {
     "data": {
      "text/plain": [
       "(75, 25, 4)"
      ]
     },
     "execution_count": 38,
     "metadata": {},
     "output_type": "execute_result"
    }
   ],
   "source": [
    "pre_conv.shape"
   ]
  },
  {
   "cell_type": "code",
   "execution_count": 39,
   "metadata": {},
   "outputs": [
    {
     "data": {
      "text/plain": [
       "array([[0., 0., 0., ..., 0., 0., 0.],\n",
       "       [0., 0., 0., ..., 0., 0., 0.],\n",
       "       [0., 0., 0., ..., 0., 0., 0.],\n",
       "       ...,\n",
       "       [0., 0., 0., ..., 0., 0., 0.],\n",
       "       [0., 0., 0., ..., 0., 0., 0.],\n",
       "       [0., 0., 0., ..., 0., 0., 0.]])"
      ]
     },
     "execution_count": 39,
     "metadata": {},
     "output_type": "execute_result"
    }
   ],
   "source": [
    "pre_conv[:,:,1] #the output of this agrees with what I should be seeing"
   ]
  },
  {
   "cell_type": "markdown",
   "metadata": {},
   "source": [
    "This is the 5x5 image for a batch of 2 converted into columns for computation"
   ]
  },
  {
   "cell_type": "code",
   "execution_count": 40,
   "metadata": {},
   "outputs": [],
   "source": [
    "#declare empty output to be filled in\n",
    "conv_img = np.zeros((num,h_out,w_out))\n",
    "output_data = np.zeros((h_out*w_out*num,batch_size))"
   ]
  },
  {
   "cell_type": "code",
   "execution_count": 41,
   "metadata": {},
   "outputs": [
    {
     "data": {
      "text/plain": [
       "(3, 5, 5)"
      ]
     },
     "execution_count": 41,
     "metadata": {},
     "output_type": "execute_result"
    }
   ],
   "source": [
    "conv_img.shape #this is the convolved image to a depth"
   ]
  },
  {
   "cell_type": "code",
   "execution_count": 42,
   "metadata": {},
   "outputs": [
    {
     "data": {
      "text/plain": [
       "(75, 4)"
      ]
     },
     "execution_count": 42,
     "metadata": {},
     "output_type": "execute_result"
    }
   ],
   "source": [
    "output_data.shape #this is the convolved images arranged as column vectors"
   ]
  },
  {
   "cell_type": "code",
   "execution_count": 43,
   "metadata": {},
   "outputs": [],
   "source": [
    "W = param['w']\n",
    "b = param['b']"
   ]
  },
  {
   "cell_type": "code",
   "execution_count": 45,
   "metadata": {},
   "outputs": [
    {
     "data": {
      "text/plain": [
       "(75,)"
      ]
     },
     "execution_count": 45,
     "metadata": {},
     "output_type": "execute_result"
    }
   ],
   "source": [
    "W[:,0].shape"
   ]
  },
  {
   "cell_type": "code",
   "execution_count": null,
   "metadata": {},
   "outputs": [],
   "source": []
  },
  {
   "cell_type": "code",
   "execution_count": 61,
   "metadata": {},
   "outputs": [
    {
     "ename": "ValueError",
     "evalue": "shapes (25,) and (75,) not aligned: 25 (dim 0) != 75 (dim 0)",
     "output_type": "error",
     "traceback": [
      "\u001b[0;31m---------------------------------------------------------------------------\u001b[0m",
      "\u001b[0;31mValueError\u001b[0m                                Traceback (most recent call last)",
      "Cell \u001b[0;32mIn[61], line 10\u001b[0m\n\u001b[1;32m      8\u001b[0m \u001b[38;5;28;01mfor\u001b[39;00m row \u001b[38;5;129;01min\u001b[39;00m \u001b[38;5;28mrange\u001b[39m(h_out):\n\u001b[1;32m      9\u001b[0m     \u001b[38;5;28;01mfor\u001b[39;00m col \u001b[38;5;129;01min\u001b[39;00m \u001b[38;5;28mrange\u001b[39m(w_out): \n\u001b[0;32m---> 10\u001b[0m         conv_img[n,row,col] \u001b[38;5;241m=\u001b[39m \u001b[43mnp\u001b[49m\u001b[38;5;241;43m.\u001b[39;49m\u001b[43mdot\u001b[49m\u001b[43m(\u001b[49m\u001b[43mpre_conv_img\u001b[49m\u001b[43m[\u001b[49m\u001b[43mrow\u001b[49m\u001b[38;5;241;43m*\u001b[39;49m\u001b[38;5;241;43m5\u001b[39;49m\u001b[38;5;241;43m+\u001b[39;49m\u001b[43mcol\u001b[49m\u001b[43m]\u001b[49m\u001b[38;5;241;43m.\u001b[39;49m\u001b[43mT\u001b[49m\u001b[43m,\u001b[49m\u001b[43m \u001b[49m\u001b[43mW\u001b[49m\u001b[43m[\u001b[49m\u001b[43m:\u001b[49m\u001b[43m,\u001b[49m\u001b[43mn\u001b[49m\u001b[43m]\u001b[49m\u001b[43m)\u001b[49m\n",
      "File \u001b[0;32m<__array_function__ internals>:180\u001b[0m, in \u001b[0;36mdot\u001b[0;34m(*args, **kwargs)\u001b[0m\n",
      "\u001b[0;31mValueError\u001b[0m: shapes (25,) and (75,) not aligned: 25 (dim 0) != 75 (dim 0)"
     ]
    }
   ],
   "source": [
    "#original loop\n",
    "for batch in range(batch_size):\n",
    "    #grab per image of batch\n",
    "    pre_conv_img = pre_conv[:,:,batch]\n",
    "\n",
    "    #convolving over the number of filters\n",
    "    for n in range(num):\n",
    "        for row in range(h_out):\n",
    "            for col in range(w_out): \n",
    "                conv_img[n,row,col] = np.dot(pre_conv_img[row*5+col].T, W[:,n]) #+ b[n]\n",
    "\n",
    "#     output_data[:,batch] = conv_img.reshape(1,h_out*w_out*num)\n"
   ]
  },
  {
   "cell_type": "code",
   "execution_count": 63,
   "metadata": {},
   "outputs": [
    {
     "ename": "ValueError",
     "evalue": "shapes (25,) and (75,) not aligned: 25 (dim 0) != 75 (dim 0)",
     "output_type": "error",
     "traceback": [
      "\u001b[0;31m---------------------------------------------------------------------------\u001b[0m",
      "\u001b[0;31mValueError\u001b[0m                                Traceback (most recent call last)",
      "Cell \u001b[0;32mIn[63], line 7\u001b[0m\n\u001b[1;32m      5\u001b[0m \u001b[38;5;28;01mfor\u001b[39;00m row \u001b[38;5;129;01min\u001b[39;00m \u001b[38;5;28mrange\u001b[39m(h_out):\n\u001b[1;32m      6\u001b[0m     \u001b[38;5;28;01mfor\u001b[39;00m col \u001b[38;5;129;01min\u001b[39;00m \u001b[38;5;28mrange\u001b[39m(w_out): \n\u001b[0;32m----> 7\u001b[0m         conv_img[n,row,col] \u001b[38;5;241m=\u001b[39m \u001b[43mnp\u001b[49m\u001b[38;5;241;43m.\u001b[39;49m\u001b[43mdot\u001b[49m\u001b[43m(\u001b[49m\u001b[43mpre_conv_img\u001b[49m\u001b[43m[\u001b[49m\u001b[43mrow\u001b[49m\u001b[38;5;241;43m*\u001b[39;49m\u001b[38;5;241;43m5\u001b[39;49m\u001b[38;5;241;43m+\u001b[39;49m\u001b[43mcol\u001b[49m\u001b[43m]\u001b[49m\u001b[43m,\u001b[49m\u001b[43m \u001b[49m\u001b[43mW\u001b[49m\u001b[43m[\u001b[49m\u001b[43m:\u001b[49m\u001b[43m,\u001b[49m\u001b[43mn\u001b[49m\u001b[43m]\u001b[49m\u001b[43m)\u001b[49m \u001b[38;5;241m+\u001b[39m b[n]\n",
      "File \u001b[0;32m<__array_function__ internals>:180\u001b[0m, in \u001b[0;36mdot\u001b[0;34m(*args, **kwargs)\u001b[0m\n",
      "\u001b[0;31mValueError\u001b[0m: shapes (25,) and (75,) not aligned: 25 (dim 0) != 75 (dim 0)"
     ]
    }
   ],
   "source": [
    "pre_conv_img = pre_conv[:,:,1]\n",
    "\n",
    "#convolving over the number of filters\n",
    "for n in range(num):\n",
    "    for row in range(h_out):\n",
    "        for col in range(w_out): \n",
    "            conv_img[n,row,col] = np.dot(pre_conv_img[row*5+col], W[:,n]) + b[n]\n",
    "            \n"
   ]
  },
  {
   "cell_type": "code",
   "execution_count": 71,
   "metadata": {},
   "outputs": [],
   "source": [
    "test=pre_conv[:,:,0]"
   ]
  },
  {
   "cell_type": "code",
   "execution_count": 80,
   "metadata": {},
   "outputs": [
    {
     "data": {
      "text/plain": [
       "(75,)"
      ]
     },
     "execution_count": 80,
     "metadata": {},
     "output_type": "execute_result"
    }
   ],
   "source": [
    "test[:,0].T.shape"
   ]
  },
  {
   "cell_type": "code",
   "execution_count": null,
   "metadata": {},
   "outputs": [],
   "source": []
  },
  {
   "cell_type": "markdown",
   "metadata": {},
   "source": [
    "## Test Display"
   ]
  },
  {
   "cell_type": "code",
   "execution_count": null,
   "metadata": {},
   "outputs": [],
   "source": [
    "fig, ax = plt.subplots(input_data['batch_size'], 2)\n",
    "for batch in range(input_data['batch_size']):\n",
    "#         # outputs\n",
    "#         img1 = output['data'][:,batch].reshape(output['channel'], output['height'], output['width'])\n",
    "#         img1 = np.transpose(img1, (1, 2, 0))\n",
    "#         ax[batch, 1].imshow(img1)\n",
    "#         ax[batch, 1].set_title(f'Output {batch + 1}')\n",
    "#         ax[batch, 1].set_axis_off()\n",
    "\n",
    "    # inputs\n",
    "    imgin1 = input_data['data'][:,batch].reshape(input_data['channel'], input_data['height'], input_data['width'])\n",
    "    imgin1 = np.transpose(imgin1, (1, 2, 0))\n",
    "    ax[batch, 0].imshow(imgin1)\n",
    "    ax[batch, 0].set_title(f'Input {batch + 1}')\n",
    "    ax[batch, 0].set_axis_off()\n"
   ]
  },
  {
   "cell_type": "markdown",
   "metadata": {},
   "source": [
    "## Test Code"
   ]
  },
  {
   "cell_type": "code",
   "execution_count": null,
   "metadata": {},
   "outputs": [],
   "source": [
    "arr = np.array([[1, 2, 3, 4, 5], [6, 7, 8, 9, 10]])\n",
    "print(arr)\n",
    "\n",
    "#2D slicing\n",
    "mtx = arr[:2, 1:4]\n",
    "\n",
    "print(mtx)\n",
    "\n",
    "\n",
    "print(mtx.shape)\n",
    "\n",
    "ar = mtx.reshape(1,mtx.shape[0]*mtx.shape[1])[0]\n",
    "\n",
    "print(ar)\n",
    "\n",
    "print(np.max(mtx))\n"
   ]
  },
  {
   "cell_type": "markdown",
   "metadata": {},
   "source": [
    "### Padding the matrix"
   ]
  },
  {
   "cell_type": "code",
   "execution_count": null,
   "metadata": {},
   "outputs": [],
   "source": [
    "test = input_data['data'][:,0].reshape(c, h_in, w_in)[2]\n",
    "test"
   ]
  },
  {
   "cell_type": "code",
   "execution_count": null,
   "metadata": {},
   "outputs": [],
   "source": [
    "pad_test = np.pad(test,1)\n",
    "pad_test"
   ]
  },
  {
   "cell_type": "code",
   "execution_count": null,
   "metadata": {},
   "outputs": [],
   "source": [
    "pad=0"
   ]
  },
  {
   "cell_type": "code",
   "execution_count": null,
   "metadata": {},
   "outputs": [],
   "source": [
    "pad_img = np.zeros((c,pad*2+h_in,pad*2+w_in))\n",
    "pad_img"
   ]
  },
  {
   "cell_type": "code",
   "execution_count": null,
   "metadata": {},
   "outputs": [],
   "source": [
    "for chan in range(c):\n",
    "    pad_img[chan] = np.pad(img[chan],pad)"
   ]
  },
  {
   "cell_type": "code",
   "execution_count": null,
   "metadata": {},
   "outputs": [],
   "source": [
    "pad_img.shape"
   ]
  },
  {
   "cell_type": "markdown",
   "metadata": {},
   "source": [
    "### Navigating the matrix"
   ]
  },
  {
   "cell_type": "code",
   "execution_count": null,
   "metadata": {},
   "outputs": [],
   "source": [
    "for j in range(0,pad_img.shape[1],stride): #stride is 2\n",
    "        \n",
    "        #go across columns with i\n",
    "        for i in range(0,pad_img.shape[2], stride):\n",
    "            print(j,i)"
   ]
  },
  {
   "cell_type": "code",
   "execution_count": null,
   "metadata": {},
   "outputs": [],
   "source": []
  }
 ],
 "metadata": {
  "kernelspec": {
   "display_name": "Python 3 (ipykernel)",
   "language": "python",
   "name": "python3"
  },
  "language_info": {
   "codemirror_mode": {
    "name": "ipython",
    "version": 3
   },
   "file_extension": ".py",
   "mimetype": "text/x-python",
   "name": "python",
   "nbconvert_exporter": "python",
   "pygments_lexer": "ipython3",
   "version": "3.10.12"
  }
 },
 "nbformat": 4,
 "nbformat_minor": 4
}
