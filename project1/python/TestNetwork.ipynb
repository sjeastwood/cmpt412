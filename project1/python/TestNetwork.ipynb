{
 "cells": [
  {
   "cell_type": "code",
   "execution_count": 80,
   "metadata": {},
   "outputs": [],
   "source": [
    "import numpy as np\n",
    "from utils import get_lenet\n",
    "from load_mnist import load_mnist\n",
    "from scipy.io import loadmat\n",
    "from conv_net import convnet_forward\n",
    "from init_convnet import init_convnet\n",
    "import matplotlib.pyplot as plt\n",
    "from sklearn.metrics import confusion_matrix, ConfusionMatrixDisplay"
   ]
  },
  {
   "cell_type": "code",
   "execution_count": 2,
   "metadata": {},
   "outputs": [],
   "source": [
    "# Load the model architecture\n",
    "layers = get_lenet()\n",
    "params = init_convnet(layers)"
   ]
  },
  {
   "cell_type": "code",
   "execution_count": 3,
   "metadata": {},
   "outputs": [],
   "source": [
    "# Load the network\n",
    "data = loadmat('../results/lenet.mat')\n",
    "params_raw = data['params']"
   ]
  },
  {
   "cell_type": "code",
   "execution_count": 4,
   "metadata": {},
   "outputs": [],
   "source": [
    "for params_idx in range(len(params)):\n",
    "    raw_w = params_raw[0,params_idx][0,0][0]\n",
    "    raw_b = params_raw[0,params_idx][0,0][1]\n",
    "    assert params[params_idx]['w'].shape == raw_w.shape, 'weights do not have the same shape'\n",
    "    assert params[params_idx]['b'].shape == raw_b.shape, 'biases do not have the same shape'\n",
    "    params[params_idx]['w'] = raw_w\n",
    "    params[params_idx]['b'] = raw_b"
   ]
  },
  {
   "cell_type": "code",
   "execution_count": 5,
   "metadata": {},
   "outputs": [],
   "source": [
    "# Load data\n",
    "fullset = False\n",
    "xtrain, ytrain, xvalidate, yvalidate, xtest, ytest = load_mnist(fullset)"
   ]
  },
  {
   "cell_type": "code",
   "execution_count": 6,
   "metadata": {},
   "outputs": [
    {
     "data": {
      "text/plain": [
       "(784, 500)"
      ]
     },
     "execution_count": 6,
     "metadata": {},
     "output_type": "execute_result"
    }
   ],
   "source": [
    "xtest.shape"
   ]
  },
  {
   "cell_type": "code",
   "execution_count": 20,
   "metadata": {},
   "outputs": [],
   "source": [
    "# Testing the network\n",
    "#### Modify the code to get the confusion matrix ####\n",
    "all_preds = []\n",
    "true_labels = []"
   ]
  },
  {
   "cell_type": "code",
   "execution_count": 21,
   "metadata": {},
   "outputs": [],
   "source": [
    "for i in range(0, xtest.shape[1], 100):\n",
    "    # print(i)\n",
    "    cptest, P = convnet_forward(params, layers, xtest[:,i:i+100], test=True)\n",
    "    all_preds.append(P)\n",
    "    true_labels.extend(ytest[:, i:i+100])"
   ]
  },
  {
   "cell_type": "code",
   "execution_count": 22,
   "metadata": {},
   "outputs": [
    {
     "data": {
      "text/plain": [
       "(10, 100)"
      ]
     },
     "execution_count": 22,
     "metadata": {},
     "output_type": "execute_result"
    }
   ],
   "source": [
    "all_preds[4].shape # 5 tests of batches 100"
   ]
  },
  {
   "cell_type": "code",
   "execution_count": 23,
   "metadata": {},
   "outputs": [],
   "source": [
    "# # Combine all the predictions into a single numpy array\n",
    "y_pred = np.concatenate(all_preds, axis=1)\n"
   ]
  },
  {
   "cell_type": "code",
   "execution_count": 50,
   "metadata": {},
   "outputs": [
    {
     "data": {
      "text/plain": [
       "array([4.20297599e-10, 8.11964638e-10, 9.99999991e-01, 5.86572527e-10,\n",
       "       2.30634835e-17, 3.81776191e-18, 3.57956640e-23, 3.01997537e-14,\n",
       "       6.99427501e-09, 1.91509439e-12])"
      ]
     },
     "execution_count": 50,
     "metadata": {},
     "output_type": "execute_result"
    }
   ],
   "source": [
    "y_pred[:,1]"
   ]
  },
  {
   "cell_type": "code",
   "execution_count": 32,
   "metadata": {},
   "outputs": [],
   "source": [
    "\n",
    "y_true = np.array(true_labels).flatten()"
   ]
  },
  {
   "cell_type": "code",
   "execution_count": 73,
   "metadata": {},
   "outputs": [
    {
     "data": {
      "text/plain": [
       "(500,)"
      ]
     },
     "execution_count": 73,
     "metadata": {},
     "output_type": "execute_result"
    }
   ],
   "source": [
    "y_true.shape"
   ]
  },
  {
   "cell_type": "code",
   "execution_count": 67,
   "metadata": {},
   "outputs": [
    {
     "data": {
      "text/plain": [
       "2.0"
      ]
     },
     "execution_count": 67,
     "metadata": {},
     "output_type": "execute_result"
    }
   ],
   "source": [
    "y_true[1]"
   ]
  },
  {
   "cell_type": "code",
   "execution_count": 61,
   "metadata": {},
   "outputs": [
    {
     "data": {
      "text/plain": [
       "array([6.52987340e-02, 3.54851120e-14, 1.24387071e-09, 1.04290730e-10,\n",
       "       1.26545076e-16, 1.38166496e-09, 5.50614385e-11, 1.69524217e-18,\n",
       "       9.34701247e-01, 1.57188246e-08])"
      ]
     },
     "execution_count": 61,
     "metadata": {},
     "output_type": "execute_result"
    }
   ],
   "source": [
    "y_pred[:,0]"
   ]
  },
  {
   "cell_type": "code",
   "execution_count": 68,
   "metadata": {},
   "outputs": [
    {
     "data": {
      "text/plain": [
       "500"
      ]
     },
     "execution_count": 68,
     "metadata": {},
     "output_type": "execute_result"
    }
   ],
   "source": [
    "y_pred.shape[1]"
   ]
  },
  {
   "cell_type": "code",
   "execution_count": 69,
   "metadata": {},
   "outputs": [],
   "source": [
    "#find the index of max value in y_pred array\n",
    "np.argmax(y_pred[:,1])\n",
    "\n",
    "y_pred_val = []\n",
    "\n",
    "# go through all the y_preds and get the index representing the predicted digit and store it\n",
    "for i in range(y_pred.shape[1]):\n",
    "    y_pred_val.append(np.argmax(y_pred[:,i]))\n"
   ]
  },
  {
   "cell_type": "code",
   "execution_count": 54,
   "metadata": {},
   "outputs": [],
   "source": [
    "labels=[0,1,2,3,4,5,6,7,8,9]"
   ]
  },
  {
   "cell_type": "code",
   "execution_count": 72,
   "metadata": {},
   "outputs": [
    {
     "data": {
      "text/plain": [
       "(500,)"
      ]
     },
     "execution_count": 72,
     "metadata": {},
     "output_type": "execute_result"
    }
   ],
   "source": [
    "\n",
    "y_pred_flatten = np.array(y_pred_val).flatten()\n",
    "y_pred_flatten.shape"
   ]
  },
  {
   "cell_type": "code",
   "execution_count": 74,
   "metadata": {},
   "outputs": [],
   "source": [
    "cm = confusion_matrix(y_true, y_pred_flatten, labels=labels)"
   ]
  },
  {
   "cell_type": "code",
   "execution_count": 75,
   "metadata": {},
   "outputs": [
    {
     "name": "stdout",
     "output_type": "stream",
     "text": [
      "[[47  0  0  0  0  0  2  0  0  0]\n",
      " [ 0 50  0  0  0  0  0  0  0  0]\n",
      " [ 0  0 47  2  0  0  0  1  0  0]\n",
      " [ 0  0  3 60  0  3  0  2  0  0]\n",
      " [ 0  1  1  0 40  1  0  0  1  2]\n",
      " [ 1  0  0  1  0 38  0  1  0  2]\n",
      " [ 0  1  0  0  0  0 41  0  0  0]\n",
      " [ 0  0  1  0  0  0  0 48  0  1]\n",
      " [ 1  0  0  0  0  0  0  0 48  2]\n",
      " [ 0  1  0  0  3  0  0  1  2 44]]\n"
     ]
    }
   ],
   "source": [
    "print(cm)"
   ]
  },
  {
   "cell_type": "code",
   "execution_count": 83,
   "metadata": {},
   "outputs": [],
   "source": [
    "cm_disp = ConfusionMatrixDisplay(confusion_matrix=cm, display_labels=labels)"
   ]
  },
  {
   "cell_type": "code",
   "execution_count": 90,
   "metadata": {},
   "outputs": [
    {
     "data": {
      "text/plain": [
       "<sklearn.metrics._plot.confusion_matrix.ConfusionMatrixDisplay at 0x7fe257bbc190>"
      ]
     },
     "execution_count": 90,
     "metadata": {},
     "output_type": "execute_result"
    },
    {
     "data": {
      "image/png": "[encoded data removed]",
      "text/plain": [
       "<Figure size 640x480 with 2 Axes>"
      ]
     },
     "metadata": {},
     "output_type": "display_data"
    }
   ],
   "source": [
    "cm_disp.plot()"
   ]
  },
  {
   "cell_type": "code",
   "execution_count": 94,
   "metadata": {},
   "outputs": [
    {
     "data": {
      "text/plain": [
       "Text(0.5, 0.98, 'Confusion Matrix')"
      ]
     },
     "execution_count": 94,
     "metadata": {},
     "output_type": "execute_result"
    }
   ],
   "source": [
    "cm_disp.figure_.suptitle('Confusion Matrix')"
   ]
  },
  {
   "cell_type": "code",
   "execution_count": 88,
   "metadata": {},
   "outputs": [],
   "source": [
    "plt.show()"
   ]
  },
  {
   "cell_type": "code",
   "execution_count": 95,
   "metadata": {},
   "outputs": [],
   "source": [
    "cm_disp.figure_.savefig('../results/confusion_matrix.png',dpi=300)"
   ]
  },
  {
   "cell_type": "code",
   "execution_count": null,
   "metadata": {},
   "outputs": [],
   "source": [
    "# # Initialize an empty list to store all the predictions and true labels\n",
    "# all_preds = []\n",
    "# true_labels = []\n",
    "\n",
    "# # Loop through the test data in batches of 100 as you did before\n",
    "# for i in range(0, xtest.shape[1], 100):\n",
    "#     cptest, P = convnet_forward(params, layers, xtest[:, i:i+100], test=True)\n",
    "    \n",
    "#     # Append the batch predictions to the list of predictions\n",
    "#     all_preds.append(P)\n",
    "    \n",
    "#     # Append the true labels of this batch to the list of true labels\n",
    "#     true_labels.extend(ytest[:, i:i+100])\n",
    "\n",
    "# # Combine all the predictions into a single numpy array\n",
    "# y_pred = np.concatenate(all_preds, axis=1)\n",
    "\n",
    "# # Flatten the list of true labels into a 1D numpy array\n",
    "# y_true = np.array(true_labels).flatten()\n",
    "\n",
    "# # Calculate the confusion matrix\n",
    "# confusion = confusion_matrix(y_true, np.argmax(y_pred, axis=0))\n",
    "\n",
    "# # Print or use the confusion matrix as needed\n",
    "# print(confusion)"
   ]
  }
 ],
 "metadata": {
  "kernelspec": {
   "display_name": "Python 3",
   "language": "python",
   "name": "python3"
  },
  "language_info": {
   "codemirror_mode": {
    "name": "ipython",
    "version": 3
   },
   "file_extension": ".py",
   "mimetype": "text/x-python",
   "name": "python",
   "nbconvert_exporter": "python",
   "pygments_lexer": "ipython3",
   "version": "3.10.9"
  },
  "orig_nbformat": 4
 },
 "nbformat": 4,
 "nbformat_minor": 2
}
