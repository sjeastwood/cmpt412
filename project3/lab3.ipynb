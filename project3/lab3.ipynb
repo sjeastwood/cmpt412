{
  "cells": [
    {
      "cell_type": "markdown",
      "metadata": {
        "id": "QHnVupBBn9eR"
      },
      "source": [
        "\n",
        "# Assignment 3\n",
        "\n",
        "This is a template notebook for Assignment 3.\n"
      ]
    },
    {
      "cell_type": "markdown",
      "metadata": {
        "id": "vM54r6jlKTII"
      },
      "source": [
        "## Install dependencies and initialization"
      ]
    },
    {
      "cell_type": "code",
      "execution_count": null,
      "metadata": {
        "id": "9_FzH13EjseR"
      },
      "outputs": [],
      "source": [
        "# # The next 8 lines added to be compatible with version changes (2022/10/13).\n",
        "# # change cuda to 11.1\n",
        "# import os\n",
        "# p = os.getenv('PATH')\n",
        "# ld = os.getenv('LD_LIBRARY_PATH')\n",
        "# os.environ['PATH'] = f\"/usr/local/cuda-11.1/bin:{p}\"\n",
        "# os.environ['LD_LIBRARY_PATH'] = f\"/usr/local/cuda-11.1/lib64:{ld}\"\n",
        "# # change pytorch to 1.9.0 compiled with cuda 11.1\n",
        "# !pip install torch==1.9.0+cu111 torchvision==0.10.0+cu111 -f https://download.pytorch.org/whl/torch_stable.html\n",
        "\n",
        "\n",
        "# # install dependencies:\n",
        "# !pip install pyyaml==5.1 pycocotools>=2.0.1\n",
        "# # !pip install detectron2 -f https://dl.fbaipublicfiles.com/detectron2/wheels/cu101/torch1.6/index.html\n",
        "# !pip install detectron2 -f https://dl.fbaipublicfiles.com/detectron2/wheels/cu111/torch1.9/index.html"
      ]
    },
    {
      "cell_type": "code",
      "execution_count": 1,
      "metadata": {
        "colab": {
          "base_uri": "https://localhost:8080/"
        },
        "id": "cu2h_6e5_GTH",
        "outputId": "76933e48-91f2-48a4-d485-15420d3b6416"
      },
      "outputs": [
        {
          "name": "stdout",
          "output_type": "stream",
          "text": [
            "Collecting pyyaml==5.1\n",
            "  Downloading PyYAML-5.1.tar.gz (274 kB)\n",
            "\u001b[2K     \u001b[38;2;114;156;31m━━━━━━━━━━━━━━━━━━━━━━━━━━━━━━━━━━━━━━━\u001b[0m \u001b[32m274.2/274.2 kB\u001b[0m \u001b[31m4.5 MB/s\u001b[0m eta \u001b[36m0:00:00\u001b[0m MB/s\u001b[0m eta \u001b[36m0:00:01\u001b[0m\n",
            "\u001b[?25h  Preparing metadata (setup.py) ... \u001b[?25ldone\n",
            "\u001b[?25hBuilding wheels for collected packages: pyyaml\n",
            "  Building wheel for pyyaml (setup.py) ... \u001b[?25ldone\n",
            "\u001b[?25h  Created wheel for pyyaml: filename=PyYAML-5.1-cp39-cp39-linux_x86_64.whl size=44090 sha256=a8211a95c7cb47ed7bc6625c6db95656dbe69ef2d41f729e2facf7c480634541\n",
            "  Stored in directory: /home/shane/.cache/pip/wheels/68/be/8f/b6c454cd264e0b349b47f8ee00755511f277618af9e5dae20d\n",
            "Successfully built pyyaml\n",
            "Installing collected packages: pyyaml\n",
            "  Attempting uninstall: pyyaml\n",
            "    Found existing installation: PyYAML 6.0.1\n",
            "    Uninstalling PyYAML-6.0.1:\n",
            "      Successfully uninstalled PyYAML-6.0.1\n",
            "\u001b[31mERROR: pip's dependency resolver does not currently take into account all the packages that are installed. This behaviour is the source of the following dependency conflicts.\n",
            "jupyter-events 0.8.0 requires pyyaml>=5.3, but you have pyyaml 5.1 which is incompatible.\u001b[0m\u001b[31m\n",
            "\u001b[0mSuccessfully installed pyyaml-5.1\n",
            "Cloning into 'detectron2'...\n",
            "remote: Enumerating objects: 15270, done.\u001b[K\n",
            "remote: Counting objects: 100% (291/291), done.\u001b[K\n",
            "remote: Compressing objects: 100% (210/210), done.\u001b[K\n",
            "remote: Total 15270 (delta 152), reused 149 (delta 81), pack-reused 14979\u001b[K\n",
            "Receiving objects: 100% (15270/15270), 6.29 MiB | 10.43 MiB/s, done.\n",
            "Resolving deltas: 100% (11014/11014), done.\n",
            "Requirement already satisfied: Pillow>=7.1 in /home/shane/miniconda3/envs/torch_env/lib/python3.9/site-packages (10.1.0)\n",
            "Requirement already satisfied: matplotlib in /home/shane/miniconda3/envs/torch_env/lib/python3.9/site-packages (3.8.0)\n",
            "Collecting pycocotools>=2.0.2\n",
            "  Downloading pycocotools-2.0.7-cp39-cp39-manylinux_2_17_x86_64.manylinux2014_x86_64.whl.metadata (1.1 kB)\n",
            "Collecting termcolor>=1.1\n",
            "  Downloading termcolor-2.3.0-py3-none-any.whl (6.9 kB)\n",
            "Collecting yacs>=0.1.8\n",
            "  Downloading yacs-0.1.8-py3-none-any.whl (14 kB)\n",
            "Collecting tabulate\n",
            "  Downloading tabulate-0.9.0-py3-none-any.whl (35 kB)\n",
            "Collecting cloudpickle\n",
            "  Downloading cloudpickle-3.0.0-py3-none-any.whl.metadata (7.0 kB)\n",
            "Collecting tqdm>4.29.0\n",
            "  Downloading tqdm-4.66.1-py3-none-any.whl.metadata (57 kB)\n",
            "\u001b[2K     \u001b[38;2;114;156;31m━━━━━━━━━━━━━━━━━━━━━━━━━━━━━━━━━━━━━━━━\u001b[0m \u001b[32m57.6/57.6 kB\u001b[0m \u001b[31m3.6 MB/s\u001b[0m eta \u001b[36m0:00:00\u001b[0m\n",
            "\u001b[?25hCollecting tensorboard\n",
            "  Downloading tensorboard-2.15.0-py3-none-any.whl.metadata (1.7 kB)\n",
            "Collecting fvcore<0.1.6,>=0.1.5\n",
            "  Downloading fvcore-0.1.5.post20221221.tar.gz (50 kB)\n",
            "\u001b[2K     \u001b[38;2;114;156;31m━━━━━━━━━━━━━━━━━━━━━━━━━━━━━━━━━━━━━━━━\u001b[0m \u001b[32m50.2/50.2 kB\u001b[0m \u001b[31m5.7 MB/s\u001b[0m eta \u001b[36m0:00:00\u001b[0m\n",
            "\u001b[?25h  Preparing metadata (setup.py) ... \u001b[?25ldone\n",
            "\u001b[?25hCollecting iopath<0.1.10,>=0.1.7\n",
            "  Downloading iopath-0.1.9-py3-none-any.whl (27 kB)\n",
            "Collecting omegaconf<2.4,>=2.1\n",
            "  Downloading omegaconf-2.3.0-py3-none-any.whl (79 kB)\n",
            "\u001b[2K     \u001b[38;2;114;156;31m━━━━━━━━━━━━━━━━━━━━━━━━━━━━━━━━━━━━━━━━\u001b[0m \u001b[32m79.5/79.5 kB\u001b[0m \u001b[31m8.8 MB/s\u001b[0m eta \u001b[36m0:00:00\u001b[0m\n",
            "\u001b[?25hCollecting hydra-core>=1.1\n",
            "  Downloading hydra_core-1.3.2-py3-none-any.whl (154 kB)\n",
            "\u001b[2K     \u001b[38;2;114;156;31m━━━━━━━━━━━━━━━━━━━━━━━━━━━━━━━━━━━━━━\u001b[0m \u001b[32m154.5/154.5 kB\u001b[0m \u001b[31m11.8 MB/s\u001b[0m eta \u001b[36m0:00:00\u001b[0m\n",
            "\u001b[?25hCollecting black\n",
            "  Downloading black-23.10.0-cp39-cp39-manylinux_2_17_x86_64.manylinux2014_x86_64.whl.metadata (66 kB)\n",
            "\u001b[2K     \u001b[38;2;114;156;31m━━━━━━━━━━━━━━━━━━━━━━━━━━━━━━━━━━━━━━━━\u001b[0m \u001b[32m66.2/66.2 kB\u001b[0m \u001b[31m8.2 MB/s\u001b[0m eta \u001b[36m0:00:00\u001b[0m\n",
            "\u001b[?25hRequirement already satisfied: packaging in /home/shane/miniconda3/envs/torch_env/lib/python3.9/site-packages (23.2)\n",
            "Requirement already satisfied: contourpy>=1.0.1 in /home/shane/miniconda3/envs/torch_env/lib/python3.9/site-packages (from matplotlib) (1.1.1)\n",
            "Requirement already satisfied: cycler>=0.10 in /home/shane/miniconda3/envs/torch_env/lib/python3.9/site-packages (from matplotlib) (0.12.1)\n",
            "Requirement already satisfied: fonttools>=4.22.0 in /home/shane/miniconda3/envs/torch_env/lib/python3.9/site-packages (from matplotlib) (4.43.1)\n",
            "Requirement already satisfied: kiwisolver>=1.0.1 in /home/shane/miniconda3/envs/torch_env/lib/python3.9/site-packages (from matplotlib) (1.4.5)\n",
            "Requirement already satisfied: numpy<2,>=1.21 in /home/shane/miniconda3/envs/torch_env/lib/python3.9/site-packages (from matplotlib) (1.26.1)\n",
            "Requirement already satisfied: pyparsing>=2.3.1 in /home/shane/miniconda3/envs/torch_env/lib/python3.9/site-packages (from matplotlib) (3.1.1)\n",
            "Requirement already satisfied: python-dateutil>=2.7 in /home/shane/miniconda3/envs/torch_env/lib/python3.9/site-packages (from matplotlib) (2.8.2)\n",
            "Requirement already satisfied: importlib-resources>=3.2.0 in /home/shane/miniconda3/envs/torch_env/lib/python3.9/site-packages (from matplotlib) (6.1.0)\n",
            "Requirement already satisfied: PyYAML in /home/shane/miniconda3/envs/torch_env/lib/python3.9/site-packages (from yacs>=0.1.8) (5.1)\n",
            "Collecting absl-py>=0.4 (from tensorboard)\n",
            "  Downloading absl_py-2.0.0-py3-none-any.whl.metadata (2.3 kB)\n",
            "Collecting grpcio>=1.48.2 (from tensorboard)\n",
            "  Downloading grpcio-1.59.0-cp39-cp39-manylinux_2_17_x86_64.manylinux2014_x86_64.whl.metadata (4.0 kB)\n",
            "Collecting google-auth<3,>=1.6.3 (from tensorboard)\n",
            "  Downloading google_auth-2.23.3-py2.py3-none-any.whl.metadata (4.2 kB)\n",
            "Collecting google-auth-oauthlib<2,>=0.5 (from tensorboard)\n",
            "  Downloading google_auth_oauthlib-1.1.0-py2.py3-none-any.whl.metadata (2.7 kB)\n",
            "Collecting markdown>=2.6.8 (from tensorboard)\n",
            "  Downloading Markdown-3.5-py3-none-any.whl.metadata (7.1 kB)\n",
            "Collecting protobuf<4.24,>=3.19.6 (from tensorboard)\n",
            "  Downloading protobuf-4.23.4-cp37-abi3-manylinux2014_x86_64.whl.metadata (540 bytes)\n",
            "Requirement already satisfied: requests<3,>=2.21.0 in /home/shane/miniconda3/envs/torch_env/lib/python3.9/site-packages (from tensorboard) (2.31.0)\n",
            "Requirement already satisfied: setuptools>=41.0.0 in /home/shane/miniconda3/envs/torch_env/lib/python3.9/site-packages (from tensorboard) (68.0.0)\n",
            "Requirement already satisfied: six>1.9 in /home/shane/miniconda3/envs/torch_env/lib/python3.9/site-packages (from tensorboard) (1.16.0)\n",
            "Collecting tensorboard-data-server<0.8.0,>=0.7.0 (from tensorboard)\n",
            "  Downloading tensorboard_data_server-0.7.1-py3-none-manylinux2014_x86_64.whl.metadata (1.1 kB)\n",
            "Collecting werkzeug>=1.0.1 (from tensorboard)\n",
            "  Downloading werkzeug-3.0.0-py3-none-any.whl.metadata (4.1 kB)\n",
            "Collecting portalocker (from iopath<0.1.10,>=0.1.7)\n",
            "  Downloading portalocker-2.8.2-py3-none-any.whl.metadata (8.5 kB)\n",
            "Collecting antlr4-python3-runtime==4.9.* (from omegaconf<2.4,>=2.1)\n",
            "  Downloading antlr4-python3-runtime-4.9.3.tar.gz (117 kB)\n",
            "\u001b[2K     \u001b[38;2;114;156;31m━━━━━━━━━━━━━━━━━━━━━━━━━━━━━━━━━━━━━━\u001b[0m \u001b[32m117.0/117.0 kB\u001b[0m \u001b[31m14.6 MB/s\u001b[0m eta \u001b[36m0:00:00\u001b[0m\n",
            "\u001b[?25h  Preparing metadata (setup.py) ... \u001b[?25ldone\n",
            "\u001b[?25hCollecting click>=8.0.0 (from black)\n",
            "  Downloading click-8.1.7-py3-none-any.whl.metadata (3.0 kB)\n",
            "Collecting mypy-extensions>=0.4.3 (from black)\n",
            "  Downloading mypy_extensions-1.0.0-py3-none-any.whl (4.7 kB)\n",
            "Collecting pathspec>=0.9.0 (from black)\n",
            "  Downloading pathspec-0.11.2-py3-none-any.whl.metadata (19 kB)\n",
            "Requirement already satisfied: platformdirs>=2 in /home/shane/miniconda3/envs/torch_env/lib/python3.9/site-packages (from black) (3.11.0)\n",
            "Requirement already satisfied: tomli>=1.1.0 in /home/shane/miniconda3/envs/torch_env/lib/python3.9/site-packages (from black) (2.0.1)\n",
            "Requirement already satisfied: typing-extensions>=4.0.1 in /home/shane/miniconda3/envs/torch_env/lib/python3.9/site-packages (from black) (4.8.0)\n",
            "Collecting cachetools<6.0,>=2.0.0 (from google-auth<3,>=1.6.3->tensorboard)\n",
            "  Downloading cachetools-5.3.1-py3-none-any.whl.metadata (5.2 kB)\n",
            "Collecting pyasn1-modules>=0.2.1 (from google-auth<3,>=1.6.3->tensorboard)\n",
            "  Downloading pyasn1_modules-0.3.0-py2.py3-none-any.whl (181 kB)\n",
            "\u001b[2K     \u001b[38;2;114;156;31m━━━━━━━━━━━━━━━━━━━━━━━━━━━━━━━━━━━━━━\u001b[0m \u001b[32m181.3/181.3 kB\u001b[0m \u001b[31m14.2 MB/s\u001b[0m eta \u001b[36m0:00:00\u001b[0m\n",
            "\u001b[?25hCollecting rsa<5,>=3.1.4 (from google-auth<3,>=1.6.3->tensorboard)\n",
            "  Downloading rsa-4.9-py3-none-any.whl (34 kB)\n",
            "Collecting requests-oauthlib>=0.7.0 (from google-auth-oauthlib<2,>=0.5->tensorboard)\n",
            "  Downloading requests_oauthlib-1.3.1-py2.py3-none-any.whl (23 kB)\n",
            "Requirement already satisfied: zipp>=3.1.0 in /home/shane/miniconda3/envs/torch_env/lib/python3.9/site-packages (from importlib-resources>=3.2.0->matplotlib) (3.17.0)\n",
            "Requirement already satisfied: importlib-metadata>=4.4 in /home/shane/miniconda3/envs/torch_env/lib/python3.9/site-packages (from markdown>=2.6.8->tensorboard) (6.8.0)\n",
            "Requirement already satisfied: charset-normalizer<4,>=2 in /home/shane/miniconda3/envs/torch_env/lib/python3.9/site-packages (from requests<3,>=2.21.0->tensorboard) (3.3.0)\n",
            "Requirement already satisfied: idna<4,>=2.5 in /home/shane/miniconda3/envs/torch_env/lib/python3.9/site-packages (from requests<3,>=2.21.0->tensorboard) (3.4)\n",
            "Requirement already satisfied: urllib3<3,>=1.21.1 in /home/shane/miniconda3/envs/torch_env/lib/python3.9/site-packages (from requests<3,>=2.21.0->tensorboard) (2.0.7)\n",
            "Requirement already satisfied: certifi>=2017.4.17 in /home/shane/miniconda3/envs/torch_env/lib/python3.9/site-packages (from requests<3,>=2.21.0->tensorboard) (2023.7.22)\n",
            "Requirement already satisfied: MarkupSafe>=2.1.1 in /home/shane/miniconda3/envs/torch_env/lib/python3.9/site-packages (from werkzeug>=1.0.1->tensorboard) (2.1.3)\n",
            "Collecting pyasn1<0.6.0,>=0.4.6 (from pyasn1-modules>=0.2.1->google-auth<3,>=1.6.3->tensorboard)\n",
            "  Downloading pyasn1-0.5.0-py2.py3-none-any.whl (83 kB)\n",
            "\u001b[2K     \u001b[38;2;114;156;31m━━━━━━━━━━━━━━━━━━━━━━━━━━━━━━━━━━━━━━━━\u001b[0m \u001b[32m83.9/83.9 kB\u001b[0m \u001b[31m11.4 MB/s\u001b[0m eta \u001b[36m0:00:00\u001b[0m\n",
            "\u001b[?25hCollecting oauthlib>=3.0.0 (from requests-oauthlib>=0.7.0->google-auth-oauthlib<2,>=0.5->tensorboard)\n",
            "  Downloading oauthlib-3.2.2-py3-none-any.whl (151 kB)\n",
            "\u001b[2K     \u001b[38;2;114;156;31m━━━━━━━━━━━━━━━━━━━━━━━━━━━━━━━━━━━━━━\u001b[0m \u001b[32m151.7/151.7 kB\u001b[0m \u001b[31m13.6 MB/s\u001b[0m eta \u001b[36m0:00:00\u001b[0m\n",
            "\u001b[?25hDownloading pycocotools-2.0.7-cp39-cp39-manylinux_2_17_x86_64.manylinux2014_x86_64.whl (435 kB)\n",
            "\u001b[2K   \u001b[38;2;114;156;31m━━━━━━━━━━━━━━━━━━━━━━━━━━━━━━━━━━━━━━━━\u001b[0m \u001b[32m435.1/435.1 kB\u001b[0m \u001b[31m15.3 MB/s\u001b[0m eta \u001b[36m0:00:00\u001b[0m\n",
            "\u001b[?25hDownloading cloudpickle-3.0.0-py3-none-any.whl (20 kB)\n",
            "Downloading tqdm-4.66.1-py3-none-any.whl (78 kB)\n",
            "\u001b[2K   \u001b[38;2;114;156;31m━━━━━━━━━━━━━━━━━━━━━━━━━━━━━━━━━━━━━━━━\u001b[0m \u001b[32m78.3/78.3 kB\u001b[0m \u001b[31m8.2 MB/s\u001b[0m eta \u001b[36m0:00:00\u001b[0m\n",
            "\u001b[?25hDownloading tensorboard-2.15.0-py3-none-any.whl (5.6 MB)\n",
            "\u001b[2K   \u001b[38;2;114;156;31m━━━━━━━━━━━━━━━━━━━━━━━━━━━━━━━━━━━━━━━━\u001b[0m \u001b[32m5.6/5.6 MB\u001b[0m \u001b[31m29.7 MB/s\u001b[0m eta \u001b[36m0:00:00\u001b[0mm eta \u001b[36m0:00:01\u001b[0m[36m0:00:01\u001b[0m\n",
            "\u001b[?25hDownloading black-23.10.0-cp39-cp39-manylinux_2_17_x86_64.manylinux2014_x86_64.whl (1.6 MB)\n",
            "\u001b[2K   \u001b[38;2;114;156;31m━━━━━━━━━━━━━━━━━━━━━━━━━━━━━━━━━━━━━━━━\u001b[0m \u001b[32m1.6/1.6 MB\u001b[0m \u001b[31m22.2 MB/s\u001b[0m eta \u001b[36m0:00:00\u001b[0mm eta \u001b[36m0:00:01\u001b[0m0:01\u001b[0m\n",
            "\u001b[?25hDownloading absl_py-2.0.0-py3-none-any.whl (130 kB)\n",
            "\u001b[2K   \u001b[38;2;114;156;31m━━━━━━━━━━━━━━━━━━━━━━━━━━━━━━━━━━━━━━━━\u001b[0m \u001b[32m130.2/130.2 kB\u001b[0m \u001b[31m8.2 MB/s\u001b[0m eta \u001b[36m0:00:00\u001b[0m\n",
            "\u001b[?25hDownloading click-8.1.7-py3-none-any.whl (97 kB)\n",
            "\u001b[2K   \u001b[38;2;114;156;31m━━━━━━━━━━━━━━━━━━━━━━━━━━━━━━━━━━━━━━━━\u001b[0m \u001b[32m97.9/97.9 kB\u001b[0m \u001b[31m12.5 MB/s\u001b[0m eta \u001b[36m0:00:00\u001b[0m\n",
            "\u001b[?25hDownloading google_auth-2.23.3-py2.py3-none-any.whl (182 kB)\n",
            "\u001b[2K   \u001b[38;2;114;156;31m━━━━━━━━━━━━━━━━━━━━━━━━━━━━━━━━━━━━━━━━\u001b[0m \u001b[32m182.3/182.3 kB\u001b[0m \u001b[31m12.9 MB/s\u001b[0m eta \u001b[36m0:00:00\u001b[0m\n",
            "\u001b[?25hDownloading google_auth_oauthlib-1.1.0-py2.py3-none-any.whl (19 kB)\n",
            "Downloading grpcio-1.59.0-cp39-cp39-manylinux_2_17_x86_64.manylinux2014_x86_64.whl (5.3 MB)\n",
            "\u001b[2K   \u001b[38;2;114;156;31m━━━━━━━━━━━━━━━━━━━━━━━━━━━━━━━━━━━━━━━━\u001b[0m \u001b[32m5.3/5.3 MB\u001b[0m \u001b[31m31.3 MB/s\u001b[0m eta \u001b[36m0:00:00\u001b[0m[36m0:00:01\u001b[0m[36m0:00:01\u001b[0m:01\u001b[0m\n",
            "\u001b[?25hDownloading Markdown-3.5-py3-none-any.whl (101 kB)\n",
            "\u001b[2K   \u001b[38;2;114;156;31m━━━━━━━━━━━━━━━━━━━━━━━━━━━━━━━━━━━━━━━━\u001b[0m \u001b[32m101.7/101.7 kB\u001b[0m \u001b[31m14.0 MB/s\u001b[0m eta \u001b[36m0:00:00\u001b[0m\n",
            "\u001b[?25hDownloading pathspec-0.11.2-py3-none-any.whl (29 kB)\n",
            "Downloading protobuf-4.23.4-cp37-abi3-manylinux2014_x86_64.whl (304 kB)\n",
            "\u001b[2K   \u001b[38;2;114;156;31m━━━━━━━━━━━━━━━━━━━━━━━━━━━━━━━━━━━━━━━━\u001b[0m \u001b[32m304.5/304.5 kB\u001b[0m \u001b[31m18.2 MB/s\u001b[0m eta \u001b[36m0:00:00\u001b[0m\n",
            "\u001b[?25hDownloading tensorboard_data_server-0.7.1-py3-none-manylinux2014_x86_64.whl (6.6 MB)\n",
            "\u001b[2K   \u001b[38;2;114;156;31m━━━━━━━━━━━━━━━━━━━━━━━━━━━━━━━━━━━━━━━━\u001b[0m \u001b[32m6.6/6.6 MB\u001b[0m \u001b[31m31.7 MB/s\u001b[0m eta \u001b[36m0:00:00\u001b[0mm eta \u001b[36m0:00:01\u001b[0m[36m0:00:01\u001b[0m\n",
            "\u001b[?25hDownloading werkzeug-3.0.0-py3-none-any.whl (226 kB)\n",
            "\u001b[2K   \u001b[38;2;114;156;31m━━━━━━━━━━━━━━━━━━━━━━━━━━━━━━━━━━━━━━━━\u001b[0m \u001b[32m226.6/226.6 kB\u001b[0m \u001b[31m16.9 MB/s\u001b[0m eta \u001b[36m0:00:00\u001b[0m\n",
            "\u001b[?25hDownloading portalocker-2.8.2-py3-none-any.whl (17 kB)\n",
            "Downloading cachetools-5.3.1-py3-none-any.whl (9.3 kB)\n",
            "Building wheels for collected packages: fvcore, antlr4-python3-runtime\n",
            "  Building wheel for fvcore (setup.py) ... \u001b[?25ldone\n",
            "\u001b[?25h  Created wheel for fvcore: filename=fvcore-0.1.5.post20221221-py3-none-any.whl size=61400 sha256=01a1c94bf3a748645a1b407e9d7e95cc1b1adfde299773051642f96a7e1ad266\n",
            "  Stored in directory: /home/shane/.cache/pip/wheels/83/42/02/66178d16e5c44dc26d309931834956baeda371956e86fbd876\n",
            "  Building wheel for antlr4-python3-runtime (setup.py) ... \u001b[?25ldone\n",
            "\u001b[?25h  Created wheel for antlr4-python3-runtime: filename=antlr4_python3_runtime-4.9.3-py3-none-any.whl size=144554 sha256=579fb276cc95cf244288057cc0e61e777b21f6a68bb7643dbb19539e322db5d6\n",
            "  Stored in directory: /home/shane/.cache/pip/wheels/23/cf/80/f3efa822e6ab23277902ee9165fe772eeb1dfb8014f359020a\n",
            "Successfully built fvcore antlr4-python3-runtime\n",
            "Installing collected packages: antlr4-python3-runtime, yacs, werkzeug, tqdm, termcolor, tensorboard-data-server, tabulate, pyasn1, protobuf, portalocker, pathspec, omegaconf, oauthlib, mypy-extensions, grpcio, cloudpickle, click, cachetools, absl-py, rsa, requests-oauthlib, pyasn1-modules, markdown, iopath, hydra-core, black, pycocotools, google-auth, fvcore, google-auth-oauthlib, tensorboard\n",
            "Successfully installed absl-py-2.0.0 antlr4-python3-runtime-4.9.3 black-23.10.0 cachetools-5.3.1 click-8.1.7 cloudpickle-3.0.0 fvcore-0.1.5.post20221221 google-auth-2.23.3 google-auth-oauthlib-1.1.0 grpcio-1.59.0 hydra-core-1.3.2 iopath-0.1.9 markdown-3.5 mypy-extensions-1.0.0 oauthlib-3.2.2 omegaconf-2.3.0 pathspec-0.11.2 portalocker-2.8.2 protobuf-4.23.4 pyasn1-0.5.0 pyasn1-modules-0.3.0 pycocotools-2.0.7 requests-oauthlib-1.3.1 rsa-4.9 tabulate-0.9.0 tensorboard-2.15.0 tensorboard-data-server-0.7.1 termcolor-2.3.0 tqdm-4.66.1 werkzeug-3.0.0 yacs-0.1.8\n"
          ]
        }
      ],
      "source": [
        "!python -m pip install pyyaml==5.1\n",
        "import sys, os, distutils.core\n",
        "# Note: This is a faster way to install detectron2 in Colab, but it does not include all functionalities (e.g. compiled operators).\n",
        "# See https://detectron2.readthedocs.io/tutorials/install.html for full installation instructions\n",
        "!git clone 'https://github.com/facebookresearch/detectron2'\n",
        "dist = distutils.core.run_setup(\"./detectron2/setup.py\")\n",
        "!python -m pip install {' '.join([f\"'{x}'\" for x in dist.install_requires])}\n",
        "sys.path.insert(0, os.path.abspath('./detectron2'))"
      ]
    },
    {
      "cell_type": "code",
      "execution_count": 2,
      "metadata": {
        "colab": {
          "base_uri": "https://localhost:8080/"
        },
        "id": "dqAUb5Y12qXt",
        "outputId": "2ca169f5-5d9d-40cc-9f48-945990f7f32e"
      },
      "outputs": [
        {
          "name": "stdout",
          "output_type": "stream",
          "text": [
            "/home/shane/cmpt412/project3\n",
            "detectron2  lab3.ipynb\n",
            "Thu Oct 19 13:18:18 2023       \n",
            "+---------------------------------------------------------------------------------------+\n",
            "| NVIDIA-SMI 535.113.01             Driver Version: 535.113.01   CUDA Version: 12.2     |\n",
            "|-----------------------------------------+----------------------+----------------------+\n",
            "| GPU  Name                 Persistence-M | Bus-Id        Disp.A | Volatile Uncorr. ECC |\n",
            "| Fan  Temp   Perf          Pwr:Usage/Cap |         Memory-Usage | GPU-Util  Compute M. |\n",
            "|                                         |                      |               MIG M. |\n",
            "|=========================================+======================+======================|\n",
            "|   0  NVIDIA GeForce RTX 3090        Off | 00000000:09:00.0  On |                  N/A |\n",
            "| 53%   47C    P8              48W / 350W |    603MiB / 24576MiB |     20%      Default |\n",
            "|                                         |                      |                  N/A |\n",
            "+-----------------------------------------+----------------------+----------------------+\n",
            "                                                                                         \n",
            "+---------------------------------------------------------------------------------------+\n",
            "| Processes:                                                                            |\n",
            "|  GPU   GI   CI        PID   Type   Process name                            GPU Memory |\n",
            "|        ID   ID                                                             Usage      |\n",
            "|=======================================================================================|\n",
            "|    0   N/A  N/A      2333      G   /usr/lib/xorg/Xorg                          146MiB |\n",
            "|    0   N/A  N/A      2406    C+G   ...libexec/gnome-remote-desktop-daemon      258MiB |\n",
            "|    0   N/A  N/A      2443      G   /usr/bin/gnome-shell                         38MiB |\n",
            "|    0   N/A  N/A      3699      G   ...7455484,12981267166469075923,262144       59MiB |\n",
            "|    0   N/A  N/A      7988      G   ...sion,SpareRendererForSitePerProcess       76MiB |\n",
            "+---------------------------------------------------------------------------------------+\n"
          ]
        }
      ],
      "source": [
        "!pwd # shows current directory\n",
        "!ls  # shows all files in this directory\n",
        "!nvidia-smi # shows the specs and the current status of the allocated GPU"
      ]
    },
    {
      "cell_type": "code",
      "execution_count": 4,
      "metadata": {
        "colab": {
          "base_uri": "https://localhost:8080/"
        },
        "id": "b-i4hmGYk1dL",
        "outputId": "69d195b5-22d8-486c-9164-384c4a9a1ef8"
      },
      "outputs": [
        {
          "name": "stdout",
          "output_type": "stream",
          "text": [
            "matplotlib data path: /home/shane/miniconda3/envs/torch_env/lib/python3.9/site-packages/matplotlib/mpl-data\n",
            "CONFIGDIR=/home/shane/.config/matplotlib\n",
            "interactive is False\n",
            "platform is linux\n",
            "CACHEDIR=/home/shane/.cache/matplotlib\n",
            "Using fontManager instance from /home/shane/.cache/matplotlib/fontlist-v330.json\n"
          ]
        },
        {
          "data": {
            "text/plain": [
              "<Logger detectron2 (DEBUG)>"
            ]
          },
          "execution_count": 4,
          "metadata": {},
          "output_type": "execute_result"
        }
      ],
      "source": [
        "# import some common libraries\n",
        "# from google.colab.patches import cv2_imshow\n",
        "from sklearn.metrics import jaccard_score\n",
        "from PIL import Image, ImageDraw\n",
        "from tqdm.notebook import tqdm\n",
        "import pandas as pd\n",
        "import numpy as np\n",
        "import datetime\n",
        "import random\n",
        "import json\n",
        "import cv2\n",
        "import csv\n",
        "import os\n",
        "\n",
        "# import some common pytorch utilities\n",
        "from torch.utils.data import Dataset, DataLoader\n",
        "import torchvision.transforms as transforms\n",
        "from torch.autograd import Variable\n",
        "import torch.nn.functional as F\n",
        "import torch.nn as nn\n",
        "import torch\n",
        "\n",
        "# import some common detectron2 utilities\n",
        "import detectron2\n",
        "from detectron2 import model_zoo\n",
        "from detectron2.config import get_cfg\n",
        "from detectron2.structures import BoxMode\n",
        "from detectron2.engine import DefaultTrainer\n",
        "from detectron2.engine import DefaultPredictor\n",
        "from detectron2.utils.logger import setup_logger\n",
        "from detectron2.utils.visualizer import ColorMode\n",
        "from detectron2.utils.visualizer import Visualizer\n",
        "from detectron2.data import build_detection_test_loader\n",
        "from detectron2.data import MetadataCatalog, DatasetCatalog\n",
        "from detectron2.evaluation import COCOEvaluator, inference_on_dataset\n",
        "setup_logger()"
      ]
    },
    {
      "cell_type": "code",
      "execution_count": 5,
      "metadata": {
        "colab": {
          "base_uri": "https://localhost:8080/"
        },
        "id": "tUA_j6AF1L5Y",
        "outputId": "4b85217e-b142-4cdc-bd0f-78c5474a04ae"
      },
      "outputs": [
        {
          "data": {
            "text/plain": [
              "True"
            ]
          },
          "execution_count": 5,
          "metadata": {},
          "output_type": "execute_result"
        }
      ],
      "source": [
        "# Make sure that GPU is available for your notebook.\n",
        "# Otherwise, you need to update the settungs in Runtime -> Change runtime type -> Hardware accelerator\n",
        "torch.cuda.is_available()"
      ]
    },
    {
      "cell_type": "code",
      "execution_count": null,
      "metadata": {
        "colab": {
          "base_uri": "https://localhost:8080/"
        },
        "id": "ZyAvNCJMmvFF",
        "outputId": "de38bd7b-8233-4a46-fb84-b320798096b5"
      },
      "outputs": [
        {
          "name": "stdout",
          "output_type": "stream",
          "text": [
            "Mounted at /content/drive\n"
          ]
        }
      ],
      "source": [
        "# You need to mount your google drive in order to load the data:\n",
        "from google.colab import drive\n",
        "drive.mount('/content/drive')\n",
        "# Put all the corresponding data files in a data folder and put the data folder in a same directory with this notebook.\n",
        "# Also create an output directory for your files such as the trained models and the output images."
      ]
    },
    {
      "cell_type": "code",
      "execution_count": null,
      "metadata": {
        "id": "A_Di_fgL4HSv"
      },
      "outputs": [],
      "source": [
        "# Define the location of current directory, which should contain data/train, data/test, and data/train.json.\n",
        "# TODO: approx 1 line\n",
        "BASE_DIR = '/content/drive/My Drive/CMPT_CV_lab3'\n",
        "OUTPUT_DIR = '{}/output'.format(BASE_DIR)\n",
        "os.makedirs(OUTPUT_DIR, exist_ok=True)"
      ]
    },
    {
      "cell_type": "code",
      "execution_count": null,
      "metadata": {
        "id": "CQ2yt7UT_mD5"
      },
      "outputs": [],
      "source": [
        "# !mkdir /data\n",
        "# !cp -r '/content/drive/My Drive/CMPT_CV_lab3/data/train' /data/\n",
        "!cp -r '/content/drive/My Drive/CMPT_CV_lab3/data/test' /data/"
      ]
    },
    {
      "cell_type": "code",
      "execution_count": 6,
      "metadata": {},
      "outputs": [],
      "source": [
        "BASE_DIR = '/home/shane/lab3'\n",
        "OUTPUT_DIR = '{}/output'.format(BASE_DIR)\n",
        "os.makedirs(OUTPUT_DIR, exist_ok=True)"
      ]
    },
    {
      "cell_type": "markdown",
      "metadata": {
        "id": "Vk4gID50K03a"
      },
      "source": [
        "## Part 1: Object Detection"
      ]
    },
    {
      "cell_type": "markdown",
      "metadata": {
        "id": "xRV-KFJzlur4"
      },
      "source": [
        "### Data Loader"
      ]
    },
    {
      "cell_type": "code",
      "execution_count": 7,
      "metadata": {
        "id": "WB9xgEaPAvnt"
      },
      "outputs": [],
      "source": [
        "data_dirs = '{}/data'.format(BASE_DIR)\n",
        "train_dirs = '{}/train'.format(data_dirs)\n",
        "test = '{}/test'.format(data_dirs)\n",
        "dataset = []\n",
        "json_file = os.path.join(data_dirs, \"train.json\")\n",
        "with open(json_file) as jf:\n",
        "    img_ann = json.load(jf)"
      ]
    },
    {
      "cell_type": "code",
      "execution_count": 8,
      "metadata": {
        "colab": {
          "base_uri": "https://localhost:8080/",
          "height": 245
        },
        "id": "-BH6yRpuBC5U",
        "outputId": "68a014d0-b28c-4097-931e-6a5d50b50cfe"
      },
      "outputs": [],
      "source": [
        "\n",
        "for i, v in enumerate(img_ann):\n",
        "    filename = os.path.join(train_dirs,v['file_name'])\n",
        "    # images.append(cv2.imread(filename))\n",
        "    # height, width = cv2.imread(filename).shape[:2]\n"
      ]
    },
    {
      "cell_type": "code",
      "execution_count": null,
      "metadata": {
        "id": "dq9GY37ml1kr"
      },
      "outputs": [],
      "source": [
        "'''\n",
        "# This function should return a list of data samples in which each sample is a dictionary.\n",
        "# Make sure to select the correct bbox_mode for the data\n",
        "# For the test data, you only have access to the images, therefore, the annotations should be empty.\n",
        "# Other values could be obtained from the image files.\n",
        "# TODO: approx 35 lines\n",
        "'''\n",
        "\n",
        "def get_detection_data(set_name):\n",
        "  data_dirs = '{}/data'.format(BASE_DIR)\n",
        "  dataset = []\n",
        "\n",
        "  return dataset"
      ]
    },
    {
      "cell_type": "code",
      "execution_count": null,
      "metadata": {
        "id": "xCH-2mWxDVVu"
      },
      "outputs": [],
      "source": [
        "'''\n",
        "# Remember to add your dataset to DatasetCatalog and MetadataCatalog\n",
        "# Consdier \"data_detection_train\" and \"data_detection_test\" for registration\n",
        "# You can also add an optional \"data_detection_val\" for your validation by spliting the training data\n",
        "# TODO: approx 5 lines\n",
        "'''\n",
        "\n"
      ]
    },
    {
      "cell_type": "code",
      "execution_count": null,
      "metadata": {
        "id": "qNSdXCL_DVAz"
      },
      "outputs": [],
      "source": [
        "'''\n",
        "# Visualize some samples using Visualizer to make sure that the function works correctly\n",
        "# TODO: approx 5 lines\n",
        "'''\n",
        "\n"
      ]
    },
    {
      "cell_type": "markdown",
      "metadata": {
        "id": "uM1thbN-ntjI"
      },
      "source": [
        "### Set Configs"
      ]
    },
    {
      "cell_type": "code",
      "execution_count": null,
      "metadata": {
        "id": "HUjkwRsOn1O0"
      },
      "outputs": [],
      "source": [
        "'''\n",
        "# Set the configs for the detection part in here.\n",
        "# TODO: approx 15 lines\n",
        "'''\n",
        "cfg = get_cfg()\n",
        "cfg.OUTPUT_DIR = \"{}/output/\".format(BASE_DIR)\n",
        "\n"
      ]
    },
    {
      "cell_type": "markdown",
      "metadata": {
        "id": "P4rql8pNokE4"
      },
      "source": [
        "### Training"
      ]
    },
    {
      "cell_type": "code",
      "execution_count": null,
      "metadata": {
        "id": "7d3KxiHO_0gb"
      },
      "outputs": [],
      "source": [
        "'''\n",
        "# Create a DefaultTrainer using the above config and train the model\n",
        "# TODO: approx 5 lines\n",
        "'''\n",
        "\n"
      ]
    },
    {
      "cell_type": "markdown",
      "metadata": {
        "id": "fRVEiICco3SV"
      },
      "source": [
        "### Evaluation and Visualization"
      ]
    },
    {
      "cell_type": "code",
      "execution_count": null,
      "metadata": {
        "id": "VYCIXdMZvDYL"
      },
      "outputs": [],
      "source": [
        "'''\n",
        "# After training the model, you need to update cfg.MODEL.WEIGHTS\n",
        "# Define a DefaultPredictor\n",
        "'''\n"
      ]
    },
    {
      "cell_type": "code",
      "execution_count": null,
      "metadata": {
        "id": "_hRCf86KGi5v"
      },
      "outputs": [],
      "source": [
        "'''\n",
        "# Visualize the output for 3 random test samples\n",
        "# TODO: approx 10 lines\n",
        "'''"
      ]
    },
    {
      "cell_type": "code",
      "execution_count": null,
      "metadata": {
        "id": "D0wRdlcKo6BD"
      },
      "outputs": [],
      "source": [
        "'''\n",
        "# Use COCOEvaluator and build_detection_train_loader\n",
        "# You can save the output predictions using inference_on_dataset\n",
        "# TODO: approx 5 lines\n",
        "'''\n",
        "\n"
      ]
    },
    {
      "cell_type": "markdown",
      "metadata": {
        "id": "EwYvbwcjpKBk"
      },
      "source": [
        "### Improvements\n",
        "\n",
        "For this part, you can bring any improvement which you have by adding new input parameters to the previous functions or defining new functions and variables."
      ]
    },
    {
      "cell_type": "code",
      "execution_count": null,
      "metadata": {
        "id": "xdR6KbCZpOlk"
      },
      "outputs": [],
      "source": [
        "'''\n",
        "# Bring any changes and updates regarding the improvement in here\n",
        "'''\n"
      ]
    },
    {
      "cell_type": "markdown",
      "metadata": {
        "id": "98_M4TooqSs2"
      },
      "source": [
        "## Part 2: Semantic Segmentation"
      ]
    },
    {
      "cell_type": "markdown",
      "metadata": {
        "id": "ByAEsMtIPLrO"
      },
      "source": [
        "### Data Loader"
      ]
    },
    {
      "cell_type": "code",
      "execution_count": null,
      "metadata": {
        "id": "peQ95zLuIpkk"
      },
      "outputs": [],
      "source": [
        "'''\n",
        "# Write a function that returns the cropped image and corresponding mask regarding the target bounding box\n",
        "# idx is the index of the target bbox in the data\n",
        "# high-resolution image could be passed or could be load from data['file_name']\n",
        "# You can use the mask attribute of detectron2.utils.visualizer.GenericMask\n",
        "#     to convert the segmentation annotations to binary masks\n",
        "# TODO: approx 10 lines\n",
        "'''\n",
        "\n",
        "def get_instance_sample(data, idx, img=None):\n",
        "\n",
        "  return obj_img, obj_mask"
      ]
    },
    {
      "cell_type": "code",
      "execution_count": null,
      "metadata": {
        "id": "sxrc9X_pjzj-"
      },
      "outputs": [],
      "source": [
        "'''\n",
        "# We have provided a template data loader for your segmentation training\n",
        "# You need to complete the __getitem__() function before running the code\n",
        "# You may also need to add data augmentation or normalization in here\n",
        "'''\n",
        "\n",
        "class PlaneDataset(Dataset):\n",
        "  def __init__(self, set_name, data_list):\n",
        "      self.transforms = transforms.Compose([\n",
        "          transforms.ToTensor(), # Converting the image to tensor and change the image format (Channels-Last => Channels-First)\n",
        "      ])\n",
        "      self.set_name = set_name\n",
        "      self.data = data_list\n",
        "      self.instance_map = []\n",
        "      for i, d in enumerate(self.data):\n",
        "        for j in range(len(d['annotations'])):\n",
        "          self.instance_map.append([i,j])\n",
        "\n",
        "  '''\n",
        "  # you can change the value of length to a small number like 10 for debugging of your training procedure and overfeating\n",
        "  # make sure to use the correct length for the final training\n",
        "  '''\n",
        "  def __len__(self):\n",
        "      return len(self.instance_map)\n",
        "\n",
        "  def numpy_to_tensor(self, img, mask):\n",
        "    if self.transforms is not None:\n",
        "        img = self.transforms(img)\n",
        "    img = torch.tensor(img, dtype=torch.float)\n",
        "    mask = torch.tensor(mask, dtype=torch.float)\n",
        "    return img, mask\n",
        "\n",
        "  '''\n",
        "  # Complete this part by using get_instance_sample function\n",
        "  # make sure to resize the img and mask to a fixed size (for example 128*128)\n",
        "  # you can use \"interpolate\" function of pytorch or \"numpy.resize\"\n",
        "  # TODO: 5 lines\n",
        "  '''\n",
        "  def __getitem__(self, idx):\n",
        "    if torch.is_tensor(idx):\n",
        "        idx = idx.tolist()\n",
        "    idx = self.instance_map[idx]\n",
        "    data = self.data[idx[0]]\n",
        "\n",
        "\n",
        "    return img, mask\n",
        "\n",
        "def get_plane_dataset(set_name='train', batch_size=2):\n",
        "    my_data_list = DatasetCatalog.get(\"data_detection_{}\".format(set_name))\n",
        "    dataset = PlaneDataset(set_name, my_data_list)\n",
        "    loader = DataLoader(dataset, batch_size=batch_size, num_workers=4,\n",
        "                                              pin_memory=True, shuffle=True)\n",
        "    return loader, dataset"
      ]
    },
    {
      "cell_type": "markdown",
      "metadata": {
        "id": "m6eH3NKaQQfc"
      },
      "source": [
        "### Network"
      ]
    },
    {
      "cell_type": "code",
      "execution_count": null,
      "metadata": {
        "id": "PeqR3s3dSBPN"
      },
      "outputs": [],
      "source": [
        "'''\n",
        "# convolution module as a template layer consists of conv2d layer, batch normalization, and relu activation\n",
        "'''\n",
        "class conv(nn.Module):\n",
        "    def __init__(self, in_ch, out_ch, activation=True):\n",
        "        super(conv, self).__init__()\n",
        "        if(activation):\n",
        "          self.layer = nn.Sequential(\n",
        "             nn.Conv2d(in_ch, out_ch, 3, padding=1),\n",
        "             nn.BatchNorm2d(out_ch),\n",
        "             nn.ReLU(inplace=True)\n",
        "          )\n",
        "        else:\n",
        "          self.layer = nn.Sequential(\n",
        "             nn.Conv2d(in_ch, out_ch, 3, padding=1)\n",
        "             )\n",
        "\n",
        "    def forward(self, x):\n",
        "        x = self.layer(x)\n",
        "        return x\n",
        "\n",
        "'''\n",
        "# downsampling module equal to a conv module followed by a max-pool layer\n",
        "'''\n",
        "class down(nn.Module):\n",
        "    def __init__(self, in_ch, out_ch):\n",
        "        super(down, self).__init__()\n",
        "        self.layer = nn.Sequential(\n",
        "            conv(in_ch, out_ch),\n",
        "            nn.MaxPool2d(2)\n",
        "            )\n",
        "\n",
        "    def forward(self, x):\n",
        "        x = self.layer(x)\n",
        "        return x\n",
        "\n",
        "'''\n",
        "# upsampling module equal to a upsample function followed by a conv module\n",
        "'''\n",
        "class up(nn.Module):\n",
        "    def __init__(self, in_ch, out_ch, bilinear=False):\n",
        "        super(up, self).__init__()\n",
        "        if bilinear:\n",
        "            self.up = nn.Upsample(scale_factor=2, mode='bilinear', align_corners=True)\n",
        "        else:\n",
        "            self.up = nn.ConvTranspose2d(in_ch, in_ch, 2, stride=2)\n",
        "\n",
        "        self.conv = conv(in_ch, out_ch)\n",
        "\n",
        "    def forward(self, x):\n",
        "        y = self.up(x)\n",
        "        y = self.conv(y)\n",
        "        return y\n",
        "\n",
        "'''\n",
        "# the main model which you need to complete by using above modules.\n",
        "# you can also modify the above modules in order to improve your results.\n",
        "'''\n",
        "class MyModel(nn.Module):\n",
        "    def __init__(self):\n",
        "        super(MyModel, self).__init__()\n",
        "\n",
        "        # Encoder\n",
        "\n",
        "        self.input_conv = conv(3, 4)\n",
        "        self.down = down(4, 8)\n",
        "\n",
        "        # Decoder\n",
        "\n",
        "        self.up = up(8, 4)\n",
        "        self.output_conv = conv(4, 1, False) # ReLu activation is removed to keep the logits for the loss function\n",
        "\n",
        "\n",
        "    def forward(self, input):\n",
        "      y = self.input_conv(input)\n",
        "      y = self.down(y)\n",
        "      y = self.up(y)\n",
        "      output = self.output_conv(y)\n",
        "      return output"
      ]
    },
    {
      "cell_type": "markdown",
      "metadata": {
        "id": "rQj86vD9QT_Z"
      },
      "source": [
        "### Training"
      ]
    },
    {
      "cell_type": "code",
      "execution_count": null,
      "metadata": {
        "id": "MaZuO4SKSBuF"
      },
      "outputs": [],
      "source": [
        "'''\n",
        "# The following is a basic training procedure to train the network\n",
        "# You need to update the code to get the best performance\n",
        "# TODO: approx ? lines\n",
        "'''\n",
        "\n",
        "# Set the hyperparameters\n",
        "num_epochs = 5\n",
        "batch_size = 4\n",
        "learning_rate = 0.01\n",
        "weight_decay = 1e-5\n",
        "\n",
        "model = MyModel() # initialize the model\n",
        "model = model.cuda() # move the model to GPU\n",
        "loader, _ = get_plane_dataset('train', batch_size) # initialize data_loader\n",
        "crit = nn.BCEWithLogitsLoss() # Define the loss function\n",
        "optim = torch.optim.SGD(model.parameters(), lr=learning_rate, weight_decay=weight_decay) # Initialize the optimizer as SGD\n",
        "\n",
        "# start the training procedure\n",
        "for epoch in range(num_epochs):\n",
        "  total_loss = 0\n",
        "  for (img, mask) in tqdm(loader):\n",
        "    img = torch.tensor(img, device=torch.device('cuda'), requires_grad = True)\n",
        "    mask = torch.tensor(mask, device=torch.device('cuda'), requires_grad = True)\n",
        "    pred = model(img)\n",
        "    loss = crit(pred, mask)\n",
        "    optim.zero_grad()\n",
        "    loss.backward()\n",
        "    optim.step()\n",
        "    total_loss += loss.cpu().data\n",
        "  print(\"Epoch: {}, Loss: {}\".format(epoch, total_loss/len(loader)))\n",
        "  torch.save(model.state_dict(), '{}/output/{}_segmentation_model.pth'.format(BASE_DIR, epoch))\n",
        "\n",
        "'''\n",
        "# Saving the final model\n",
        "'''\n",
        "torch.save(model.state_dict(), '{}/output/final_segmentation_model.pth'.format(BASE_DIR))\n"
      ]
    },
    {
      "cell_type": "markdown",
      "metadata": {
        "id": "0dyez1fyQYw7"
      },
      "source": [
        "### Evaluation and Visualization"
      ]
    },
    {
      "cell_type": "code",
      "execution_count": null,
      "metadata": {
        "id": "TDeViryUSCL2"
      },
      "outputs": [],
      "source": [
        "'''\n",
        "# Before starting the evaluation, you need to set the model mode to eval\n",
        "# You may load the trained model again, in case if you want to continue your code later\n",
        "# TODO: approx 15 lines\n",
        "'''\n",
        "batch_size = 8\n",
        "model = MyModel().cuda()\n",
        "model.load_state_dict(torch.load('{}/output/final_segmentation_model.pth'.format(BASE_DIR)))\n",
        "model = model.eval() # chaning the model to evaluation mode will fix the bachnorm layers\n",
        "loader, dataset = get_plane_dataset('train', batch_size)\n",
        "\n",
        "total_iou = 0\n",
        "for (img, mask) in tqdm(loader):\n",
        "  with torch.no_grad():\n",
        "    img = img.cuda()\n",
        "    mask = mask.cuda()\n",
        "    mask = torch.unsqueeze(mask,1)\n",
        "    pred = model(img)\n",
        "\n",
        "    '''\n",
        "    ## Complete the code by obtaining the IoU for each img and print the final Mean IoU\n",
        "    '''\n",
        "\n",
        "\n",
        "print(\"\\n #images: {}, Mean IoU: {}\".format(_, _))\n"
      ]
    },
    {
      "cell_type": "code",
      "execution_count": null,
      "metadata": {
        "id": "jbmTj9JICiKz"
      },
      "outputs": [],
      "source": [
        "'''\n",
        "# Visualize 3 sample outputs\n",
        "# TODO: approx 5 lines\n",
        "'''\n"
      ]
    },
    {
      "cell_type": "markdown",
      "metadata": {
        "id": "navoiGdrqaZT"
      },
      "source": [
        "## Part 3: Instance Segmentation\n",
        "\n",
        "In this part, you need to obtain the instance segmentation results for the test data by using the trained segmentation model in the previous part and the detection model in Part 1."
      ]
    },
    {
      "cell_type": "markdown",
      "metadata": {
        "id": "vBwk33DGBowP"
      },
      "source": [
        "### Get Prediction"
      ]
    },
    {
      "cell_type": "code",
      "execution_count": null,
      "metadata": {
        "id": "crrZ8TG-Ot2J"
      },
      "outputs": [],
      "source": [
        "'''\n",
        "# Define a new function to obtain the prediction mask by passing a sample data\n",
        "# For this part, you need to use all the previous parts (predictor, get_instance_sample, data preprocessings, etc)\n",
        "# It is better to keep everything (as well as the output of this funcion) on gpu as tensors to speed up the operations.\n",
        "# pred_mask is the instance segmentation result and should have different values for different planes.\n",
        "# TODO: approx 35 lines\n",
        "'''\n",
        "\n",
        "def get_prediction_mask(data):\n",
        "\n",
        "  return img, gt_mask, pred_mask # gt_mask could be all zero when the ground truth is not given.\n"
      ]
    },
    {
      "cell_type": "markdown",
      "metadata": {
        "id": "fc7TSK6EBi9u"
      },
      "source": [
        "### Visualization and Submission"
      ]
    },
    {
      "cell_type": "code",
      "execution_count": null,
      "metadata": {
        "id": "H7T2YX8MBiGO"
      },
      "outputs": [],
      "source": [
        "'''\n",
        "# Visualise the output prediction as well as the GT Mask and Input image for a sample input\n",
        "# TODO: approx 10 lines\n",
        "'''\n",
        "\n"
      ]
    },
    {
      "cell_type": "code",
      "execution_count": null,
      "metadata": {
        "id": "uPo_03up-g_f"
      },
      "outputs": [],
      "source": [
        "'''\n",
        "# ref: https://www.kaggle.com/rakhlin/fast-run-length-encoding-python\n",
        "# https://www.kaggle.com/c/airbus-ship-detection/overview/evaluation\n",
        "'''\n",
        "def rle_encoding(x):\n",
        "    '''\n",
        "    x: pytorch tensor on gpu, 1 - mask, 0 - background\n",
        "    Returns run length as list\n",
        "    '''\n",
        "    dots = torch.where(torch.flatten(x.long())==1)[0]\n",
        "    if(len(dots)==0):\n",
        "      return []\n",
        "    inds = torch.where(dots[1:]!=dots[:-1]+1)[0]+1\n",
        "    inds = torch.cat((torch.tensor([0], device=torch.device('cuda'), dtype=torch.long), inds))\n",
        "    tmpdots = dots[inds]\n",
        "    inds = torch.cat((inds, torch.tensor([len(dots)], device=torch.device('cuda'))))\n",
        "    inds = inds[1:] - inds[:-1]\n",
        "    runs = torch.cat((tmpdots, inds)).reshape((2,-1))\n",
        "    runs = torch.flatten(torch.transpose(runs, 0, 1)).cpu().data.numpy()\n",
        "    return ' '.join([str(i) for i in runs])"
      ]
    },
    {
      "cell_type": "code",
      "execution_count": null,
      "metadata": {
        "id": "zv0rab2LJev-"
      },
      "outputs": [],
      "source": [
        "'''\n",
        "# You need to upload the csv file on kaggle\n",
        "# The speed of your code in the previous parts highly affects the running time of this part\n",
        "'''\n",
        "\n",
        "preddic = {\"ImageId\": [], \"EncodedPixels\": []}\n",
        "\n",
        "'''\n",
        "# Writing the predictions of the training set\n",
        "'''\n",
        "my_data_list = DatasetCatalog.get(\"data_detection_{}\".format('train'))\n",
        "for i in tqdm(range(len(my_data_list)), position=0, leave=True):\n",
        "  sample = my_data_list[i]\n",
        "  sample['image_id'] = sample['file_name'].split(\"/\")[-1][:-4]\n",
        "  img, true_mask, pred_mask = get_prediction_mask(sample)\n",
        "  inds = torch.unique(pred_mask)\n",
        "  if(len(inds)==1):\n",
        "    preddic['ImageId'].append(sample['image_id'])\n",
        "    preddic['EncodedPixels'].append([])\n",
        "  else:\n",
        "    for index in inds:\n",
        "      if(index == 0):\n",
        "        continue\n",
        "      tmp_mask = (pred_mask==index)\n",
        "      encPix = rle_encoding(tmp_mask)\n",
        "      preddic['ImageId'].append(sample['image_id'])\n",
        "      preddic['EncodedPixels'].append(encPix)\n",
        "\n",
        "'''\n",
        "# Writing the predictions of the test set\n",
        "'''\n",
        "\n",
        "my_data_list = DatasetCatalog.get(\"data_detection_{}\".format('test'))\n",
        "for i in tqdm(range(len(my_data_list)), position=0, leave=True):\n",
        "  sample = my_data_list[i]\n",
        "  sample['image_id'] = sample['file_name'].split(\"/\")[-1][:-4]\n",
        "  img, true_mask, pred_mask = get_prediction_mask(sample)\n",
        "  inds = torch.unique(pred_mask)\n",
        "  if(len(inds)==1):\n",
        "    preddic['ImageId'].append(sample['image_id'])\n",
        "    preddic['EncodedPixels'].append([])\n",
        "  else:\n",
        "    for j, index in enumerate(inds):\n",
        "      if(index == 0):\n",
        "        continue\n",
        "      tmp_mask = (pred_mask==index).double()\n",
        "      encPix = rle_encoding(tmp_mask)\n",
        "      preddic['ImageId'].append(sample['image_id'])\n",
        "      preddic['EncodedPixels'].append(encPix)\n",
        "\n",
        "pred_file = open(\"{}/pred.csv\".format(BASE_DIR), 'w')\n",
        "pd.DataFrame(preddic).to_csv(pred_file, index=False)\n",
        "pred_file.close()\n"
      ]
    },
    {
      "cell_type": "markdown",
      "metadata": {
        "id": "p7nN4SduqrpI"
      },
      "source": [
        "## Part 4: Mask R-CNN\n",
        "\n",
        "For this part you need to follow a same procedure to part 2 with the configs of Mask R-CNN, other parts are generally the same as part 2."
      ]
    },
    {
      "cell_type": "markdown",
      "metadata": {
        "id": "axWf7drKNXYd"
      },
      "source": [
        "### Data Loader"
      ]
    },
    {
      "cell_type": "code",
      "execution_count": null,
      "metadata": {
        "id": "yC1FDCcQN2LH"
      },
      "outputs": [],
      "source": []
    },
    {
      "cell_type": "markdown",
      "metadata": {
        "id": "lG5slAhQNjE7"
      },
      "source": [
        "### Network"
      ]
    },
    {
      "cell_type": "code",
      "execution_count": null,
      "metadata": {
        "id": "KG1pnKLMOcjS"
      },
      "outputs": [],
      "source": []
    },
    {
      "cell_type": "markdown",
      "metadata": {
        "id": "t7ifeV1sNvtt"
      },
      "source": [
        "### Training"
      ]
    },
    {
      "cell_type": "code",
      "execution_count": null,
      "metadata": {
        "id": "tc4K0Nz5OeKk"
      },
      "outputs": [],
      "source": []
    },
    {
      "cell_type": "markdown",
      "metadata": {
        "id": "298QruFnNxyn"
      },
      "source": [
        "### Evaluation and Visualization"
      ]
    },
    {
      "cell_type": "code",
      "execution_count": null,
      "metadata": {
        "id": "KcGwV5-9Oetp"
      },
      "outputs": [],
      "source": []
    },
    {
      "cell_type": "code",
      "execution_count": null,
      "metadata": {
        "id": "l_3wS2BFLLGp"
      },
      "outputs": [],
      "source": []
    }
  ],
  "metadata": {
    "accelerator": "GPU",
    "colab": {
      "gpuType": "T4",
      "machine_shape": "hm",
      "provenance": []
    },
    "kernelspec": {
      "display_name": "Python 3",
      "name": "python3"
    },
    "language_info": {
      "codemirror_mode": {
        "name": "ipython",
        "version": 3
      },
      "file_extension": ".py",
      "mimetype": "text/x-python",
      "name": "python",
      "nbconvert_exporter": "python",
      "pygments_lexer": "ipython3",
      "version": "3.9.18"
    }
  },
  "nbformat": 4,
  "nbformat_minor": 0
}
