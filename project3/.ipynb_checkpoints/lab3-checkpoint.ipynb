{
 "cells": [
  {
   "cell_type": "markdown",
   "metadata": {
    "id": "QHnVupBBn9eR"
   },
   "source": [
    "\n",
    "# Assignment 3\n",
    "\n",
    "This is a template notebook for Assignment 3.\n"
   ]
  },
  {
   "cell_type": "markdown",
   "metadata": {
    "id": "vM54r6jlKTII"
   },
   "source": [
    "## Install dependencies and initialization"
   ]
  },
  {
   "cell_type": "code",
   "execution_count": null,
   "metadata": {
    "id": "9_FzH13EjseR"
   },
   "outputs": [],
   "source": [
    "# # The next 8 lines added to be compatible with version changes (2022/10/13).\n",
    "# # change cuda to 11.1\n",
    "# import os\n",
    "# p = os.getenv('PATH')\n",
    "# ld = os.getenv('LD_LIBRARY_PATH')\n",
    "# os.environ['PATH'] = f\"/usr/local/cuda-11.1/bin:{p}\"\n",
    "# os.environ['LD_LIBRARY_PATH'] = f\"/usr/local/cuda-11.1/lib64:{ld}\"\n",
    "# # change pytorch to 1.9.0 compiled with cuda 11.1\n",
    "# !pip install torch==1.9.0+cu111 torchvision==0.10.0+cu111 -f https://download.pytorch.org/whl/torch_stable.html\n",
    "\n",
    "\n",
    "# # install dependencies:\n",
    "# !pip install pyyaml==5.1 pycocotools>=2.0.1\n",
    "# # !pip install detectron2 -f https://dl.fbaipublicfiles.com/detectron2/wheels/cu101/torch1.6/index.html\n",
    "# !pip install detectron2 -f https://dl.fbaipublicfiles.com/detectron2/wheels/cu111/torch1.9/index.html"
   ]
  },
  {
   "cell_type": "code",
   "execution_count": null,
   "metadata": {
    "colab": {
     "base_uri": "https://localhost:8080/"
    },
    "id": "cu2h_6e5_GTH",
    "outputId": "8a1722f8-92d6-4cb0-c459-f3a05298bcd2"
   },
   "outputs": [],
   "source": [
    "!python3 -m pip install pyyaml==5.1\n",
    "import sys, os, distutils.core\n",
    "# Note: This is a faster way to install detectron2 in Colab, but it does not include all functionalities (e.g. compiled operators).\n",
    "# See https://detectron2.readthedocs.io/tutorials/install.html for full installation instructions\n",
    "!git clone 'https://github.com/facebookresearch/detectron2'\n",
    "dist = distutils.core.run_setup(\"./detectron2/setup.py\")\n",
    "!python3 -m pip install {' '.join([f\"'{x}'\" for x in dist.install_requires])}\n",
    "sys.path.insert(0, os.path.abspath('./detectron2'))"
   ]
  },
  {
   "cell_type": "code",
   "execution_count": null,
   "metadata": {},
   "outputs": [],
   "source": [
    "torch.cuda.empty_cache()"
   ]
  },
  {
   "cell_type": "code",
   "execution_count": null,
   "metadata": {
    "colab": {
     "base_uri": "https://localhost:8080/"
    },
    "id": "dqAUb5Y12qXt",
    "outputId": "0075b94a-2416-4e91-b8f2-c8fa52820272"
   },
   "outputs": [],
   "source": [
    "!pwd # shows current directory\n",
    "!ls  # shows all files in this directory\n",
    "!nvidia-smi # shows the specs and the current status of the allocated GPU"
   ]
  },
  {
   "cell_type": "code",
   "execution_count": null,
   "metadata": {
    "colab": {
     "base_uri": "https://localhost:8080/"
    },
    "id": "b-i4hmGYk1dL",
    "outputId": "8fd1d357-487f-467f-b965-49a51137df63"
   },
   "outputs": [],
   "source": [
    "# import some common libraries\n",
    "# from google.colab.patches import cv2_imshow\n",
    "from sklearn.metrics import jaccard_score\n",
    "from PIL import Image, ImageDraw\n",
    "from tqdm.notebook import tqdm\n",
    "import pandas as pd\n",
    "import numpy as np\n",
    "import datetime\n",
    "import random\n",
    "import json\n",
    "import cv2\n",
    "import csv\n",
    "import os\n",
    "import logging\n",
    "logging.getLogger('matplotlib').setLevel(logging.WARNING)\n",
    "logging.getLogger(\"PIL\").setLevel(logging.ERROR)\n",
    "%matplotlib inline\n",
    "import matplotlib.pyplot as plt\n",
    "\n",
    "# import some common pytorch utilities\n",
    "from torch.utils.data import Dataset, DataLoader\n",
    "import torchvision.transforms as transforms\n",
    "from torch.autograd import Variable\n",
    "import torch.nn.functional as F\n",
    "import torch.nn as nn\n",
    "import torch\n",
    "\n",
    "# import some common detectron2 utilities\n",
    "import detectron2\n",
    "from detectron2 import model_zoo\n",
    "from detectron2.config import get_cfg\n",
    "from detectron2.structures import BoxMode\n",
    "from detectron2.engine import DefaultTrainer\n",
    "from detectron2.engine import DefaultPredictor\n",
    "from detectron2.utils.logger import setup_logger\n",
    "from detectron2.utils.visualizer import ColorMode\n",
    "from detectron2.utils.visualizer import Visualizer\n",
    "from detectron2.data import build_detection_test_loader\n",
    "from detectron2.data import MetadataCatalog, DatasetCatalog\n",
    "from detectron2.evaluation import COCOEvaluator, inference_on_dataset\n",
    "setup_logger()"
   ]
  },
  {
   "cell_type": "code",
   "execution_count": null,
   "metadata": {
    "colab": {
     "base_uri": "https://localhost:8080/"
    },
    "id": "tUA_j6AF1L5Y",
    "outputId": "120592f7-6a06-4ba4-ce1b-5ee09763b3e7"
   },
   "outputs": [],
   "source": [
    "# Make sure that GPU is available for your notebook.\n",
    "# Otherwise, you need to update the settungs in Runtime -> Change runtime type -> Hardware accelerator\n",
    "torch.cuda.is_available()"
   ]
  },
  {
   "cell_type": "code",
   "execution_count": null,
   "metadata": {
    "colab": {
     "base_uri": "https://localhost:8080/"
    },
    "id": "ZyAvNCJMmvFF",
    "outputId": "a8c7942a-a45c-4d43-f9d1-9e339dd9b56b"
   },
   "outputs": [],
   "source": [
    "# # You need to mount your google drive in order to load the data:\n",
    "# from google.colab import drive\n",
    "# drive.mount('/content/drive')\n",
    "# Put all the corresponding data files in a data folder and put the data folder in a same directory with this notebook.\n",
    "# Also create an output directory for your files such as the trained models and the output images."
   ]
  },
  {
   "cell_type": "code",
   "execution_count": null,
   "metadata": {
    "id": "A_Di_fgL4HSv"
   },
   "outputs": [],
   "source": [
    "# Define the location of current directory, which should contain data/train, data/test, and data/train.json.\n",
    "# TODO: approx 1 line\n",
    "#-------------POPOS LOCAL\n",
    "BASE_DIR = '/home/shane/lab3/data'#'/content/drive/My Drive/CMPT_CV_lab3'\n",
    "OUTPUT_DIR = '{}/output'.format(BASE_DIR)#'{}/output'.format('/content/drive/My Drive/CMPT_CV_lab3')#'{}/output'.format(BASE_DIR)\n",
    "os.makedirs(OUTPUT_DIR, exist_ok=True)\n",
    "\n",
    "#------------WSL2 LOCAL\n",
    "# BASE_DIR = '/mnt/c/Users/shane/Downloads/lab3-data'#'/content/drive/My Drive/CMPT_CV_lab3'\n",
    "# OUTPUT_DIR = '{}/output'.format(BASE_DIR)#'/home/shane/lab3/output'#'{}/output'.format(BASE_DIR)#'{}/output'.format('/content/drive/My Drive/CMPT_CV_lab3')#'{}/output'.format(BASE_DIR)\n",
    "# os.makedirs(OUTPUT_DIR, exist_ok=True)\n"
   ]
  },
  {
   "cell_type": "code",
   "execution_count": null,
   "metadata": {
    "id": "CQ2yt7UT_mD5"
   },
   "outputs": [],
   "source": [
    "# !mkdir /data\n",
    "# !cp -r '/content/drive/My Drive/CMPT_CV_lab3/data/' /data\n",
    "# # !cp -r '/content/drive/My Drive/CMPT_CV_lab3/data/test' /data/"
   ]
  },
  {
   "cell_type": "markdown",
   "metadata": {
    "id": "Vk4gID50K03a"
   },
   "source": [
    "## Part 1: Object Detection"
   ]
  },
  {
   "cell_type": "markdown",
   "metadata": {
    "id": "xRV-KFJzlur4"
   },
   "source": [
    "### Data Loader"
   ]
  },
  {
   "cell_type": "code",
   "execution_count": null,
   "metadata": {
    "id": "WB9xgEaPAvnt"
   },
   "outputs": [],
   "source": [
    "'''\n",
    "# This function should return a list of data samples in which each sample is a dictionary.\n",
    "# Make sure to select the correct bbox_mode for the data\n",
    "# For the test data, you only have access to the images, therefore, the annotations should be empty.\n",
    "# Other values could be obtained from the image files.\n",
    "# TODO: approx 35 lines\n",
    "'''\n",
    "\n",
    "def get_detection_data(set_name):\n",
    "    data_dirs = BASE_DIR#'{}/data'.format(BASE_DIR)\n",
    "    set_dirs = '{}/{}'.format(data_dirs,set_name)\n",
    "    dataset = []\n",
    "\n",
    "\n",
    "    if set_name == 'train':\n",
    "        json_file = os.path.join(data_dirs, \"train.json\")\n",
    "\n",
    "        with open(json_file) as jf:\n",
    "            img_ann = json.load(jf)\n",
    "\n",
    "        for i, v in enumerate(img_ann):\n",
    "            record={}\n",
    "            file_name = os.path.join(set_dirs,v['file_name'])\n",
    "            find_flag = False\n",
    "\n",
    "            d_idx = 0\n",
    "            for d in dataset: #look through the dataset list to make sure image does exit\n",
    "                if d.get('file_name') == file_name:#v['file_name'] in d:\n",
    "                    find_flag = True\n",
    "                    break\n",
    "                d_idx += 1\n",
    "\n",
    "            if find_flag:\n",
    "                d = dataset[d_idx]\n",
    "                #this image is already part the growing dictionary list\n",
    "                # file_name, height and width are already there\n",
    "                #grab the list of annotations\n",
    "                annos = d['annotations']\n",
    "                obj = {\n",
    "                    'bbox': v['bbox'],\n",
    "            #             'bbox_mode': BoxMode.XYXY_ABS,\n",
    "                    'bbox_mode': BoxMode.XYWH_ABS,\n",
    "                    'segmentation': v['segmentation'],\n",
    "                    'category_name': v['category_name'],\n",
    "                    'category_id' : 0, #v['category_id'],\n",
    "                }\n",
    "                annos.append(obj) #add the annotations to existing\n",
    "\n",
    "            else:\n",
    "                #this json record is not part of the growing dataset dict so add it\n",
    "                image = cv2.imread(file_name)\n",
    "                height, width = image.shape[:2]\n",
    "                record['file_name'] = file_name\n",
    "                # record['image_id'] = i\n",
    "                record['image_id'] = v['image_id']\n",
    "                #record['image_id'] = v['id']\n",
    "                record['height'] = height\n",
    "                record['width'] = width\n",
    "                record['image_data'] = image\n",
    "                objs = []\n",
    "                obj = {\n",
    "                    'bbox': v['bbox'],\n",
    "            #             'bbox_mode': BoxMode.XYXY_ABS,\n",
    "                    'bbox_mode': BoxMode.XYWH_ABS,\n",
    "                    'segmentation': v['segmentation'],\n",
    "                    'category_name': v['category_name'],\n",
    "                    'category_id' : 0, #v['category_id'],\n",
    "                }\n",
    "                objs.append(obj)\n",
    "                record['annotations'] = objs\n",
    "                dataset.append(record)\n",
    "\n",
    "    else: # load the test data\n",
    "        set_files = os.listdir(set_dirs)\n",
    "        im_files = [i for i in set_files if i.lower().endswith(('.png','jpg','jpeg'))]\n",
    "\n",
    "        idx = 0\n",
    "        \n",
    "        for im in im_files:\n",
    "            record={}\n",
    "            \n",
    "\n",
    "            file_name = os.path.join(set_dirs,im)\n",
    "\n",
    "#             if im not in image_dict:\n",
    "#                 image = cv2.imread(file_name)\n",
    "#                 image_dict[file_name] = image\n",
    "\n",
    "            image = cv2.imread(file_name)\n",
    "            height, width = image.shape[:2]\n",
    "            record['file_name'] = file_name\n",
    "            record['image_id'] = idx\n",
    "            record['height'] = height\n",
    "            record['width'] = width\n",
    "            record['image_data'] = image\n",
    "            objs = []\n",
    "            record['annotations'] = objs\n",
    "            dataset.append(record)\n",
    "\n",
    "            idx += 1\n",
    "\n",
    "    return dataset"
   ]
  },
  {
   "cell_type": "code",
   "execution_count": null,
   "metadata": {
    "id": "xCH-2mWxDVVu"
   },
   "outputs": [],
   "source": [
    "'''\n",
    "# Remember to add your dataset to DatasetCatalog and MetadataCatalog\n",
    "# Consdier \"data_detection_train\" and \"data_detection_test\" for registration\n",
    "# You can also add an optional \"data_detection_val\" for your validation by spliting the training data\n",
    "# TODO: approx 5 lines\n",
    "'''\n",
    "train_data = get_detection_data('train')\n",
    "test_data = get_detection_data('test')\n",
    "\n",
    "# ---- FOR FINAL DATA SUBMISSION ---------\n",
    "for d in [\"train\", \"test\"]:\n",
    "    if d == \"train\":\n",
    "        DatasetCatalog.register(\"data_detection_\" + d, lambda d=d: train_data)\n",
    "        MetadataCatalog.get(\"data_detection_\" + d).set(thing_classes=[\"plane\"])\n",
    "    else:\n",
    "        DatasetCatalog.register(\"data_detection_\" + d, lambda d=d: test_data)\n",
    "        MetadataCatalog.get(\"data_detection_\" + d).set(thing_classes=[\"plane\"])\n",
    "\n",
    "plane_metadata = MetadataCatalog.get(\"data_detection_train\")\n",
    "\n",
    "# ------- FOR TRAINING AND VALIDATION ------------\n",
    "\n",
    "# ------ Generate a validation data set --------\n",
    "# random.shuffle(train_data)\n",
    "# split = int(len(train_data) * 0.2) # 20% of training data for validation set\n",
    "# detector_val_data = train_data[:split] \n",
    "# detector_train_data = train_data[split:] \n",
    "\n",
    "# --------- Register the datasets --------------\n",
    "# for d in [\"train\", \"val\", \"test\"]:\n",
    "#     if d == \"train\":\n",
    "#         DatasetCatalog.register(\"data_detection_\" + d, lambda d=d: detector_train_data)\n",
    "#         MetadataCatalog.get(\"data_detection_\" + d).set(thing_classes=[\"plane\"])\n",
    "#     elif d == \"val\":\n",
    "#         DatasetCatalog.register(\"data_detection_\" + d, lambda d=d: detector_val_data)\n",
    "#         MetadataCatalog.get(\"data_detection_\" + d).set(thing_classes=[\"plane\"])\n",
    "#     else:\n",
    "#         DatasetCatalog.register(\"data_detection_\" + d, lambda d=d: test_data)\n",
    "#         MetadataCatalog.get(\"data_detection_\" + d).set(thing_classes=[\"plane\"])\n",
    "\n",
    "# plane_metadata = MetadataCatalog.get(\"data_detection_train\")"
   ]
  },
  {
   "cell_type": "code",
   "execution_count": null,
   "metadata": {
    "colab": {
     "base_uri": "https://localhost:8080/",
     "height": 1000
    },
    "id": "qNSdXCL_DVAz",
    "outputId": "740d14bc-0913-4b20-ece4-f402f84dea65"
   },
   "outputs": [],
   "source": [
    "'''\n",
    "# Visualize some samples using Visualizer to make sure that the function works correctly\n",
    "# TODO: approx 5 lines\n",
    "'''\n",
    "\n",
    "for d in random.sample(train_data, 3):\n",
    "    #Read the file_name\n",
    "    img = d['image_data']\n",
    "    visualizer = Visualizer(img[:, :, ::-1], metadata=plane_metadata, scale=0.5)\n",
    "    out = visualizer.draw_dataset_dict(d)\n",
    "    im = Image.fromarray(out.get_image()[:, :, ::-1])\n",
    "#     print(d['filename'])\n",
    "    display(im)\n"
   ]
  },
  {
   "cell_type": "markdown",
   "metadata": {
    "id": "uM1thbN-ntjI"
   },
   "source": [
    "### Set Configs"
   ]
  },
  {
   "cell_type": "code",
   "execution_count": null,
   "metadata": {
    "id": "HUjkwRsOn1O0"
   },
   "outputs": [],
   "source": [
    "'''\n",
    "# Set the configs for the detection part in here.\n",
    "# TODO: approx 15 lines\n",
    "'''\n",
    "cfg = get_cfg()\n",
    "cfg.OUTPUT_DIR = OUTPUT_DIR#\"{}/output/\".format(BASE_DIR)\n",
    "cfg.merge_from_file(model_zoo.get_config_file(\"COCO-Detection/faster_rcnn_R_101_FPN_3x.yaml\"))\n",
    "cfg.DATASETS.TRAIN = (\"data_detection_train\",)\n",
    "cfg.DATASETS.TEST = ()\n",
    "cfg.DATALOADER.NUM_WORKERS = 2\n",
    "cfg.MODEL.WEIGHTS = model_zoo.get_checkpoint_url(\"COCO-Detection/faster_rcnn_R_101_FPN_3x.yaml\")\n",
    "cfg.SOLVER.IMS_PER_BATCH = 4  # \"batch size\" \n",
    "cfg.SOLVER.BASE_LR = 0.0025\n",
    "# cfg.SOLVER.GAMMA = 0.1  \n",
    "cfg.SOLVER.MAX_ITER = 1000   \n",
    "cfg.SOLVER.STEPS = []\n",
    "cfg.MODEL.ROI_HEADS.BATCH_SIZE_PER_IMAGE = 512# The \"RoIHead batch size\".\n",
    "cfg.MODEL.ROI_HEADS.NUM_CLASSES = 1"
   ]
  },
  {
   "cell_type": "code",
   "execution_count": null,
   "metadata": {},
   "outputs": [],
   "source": [
    "mean = [0.3846, 0.4054, 0.4109] \n",
    "std = [0.1991, 0.2027, 0.2061]\n",
    "cfg.INPUT.FORMAT = \"BGR\"\n",
    "cfg.MODEL.PIXEL_MEAN = mean  \n",
    "cfg.MODEL.PIXEL_STD = std "
   ]
  },
  {
   "cell_type": "markdown",
   "metadata": {
    "id": "P4rql8pNokE4"
   },
   "source": [
    "### Training"
   ]
  },
  {
   "cell_type": "code",
   "execution_count": null,
   "metadata": {
    "colab": {
     "base_uri": "https://localhost:8080/"
    },
    "id": "7d3KxiHO_0gb",
    "outputId": "1551e849-ab6b-4d50-fd75-66607be79318"
   },
   "outputs": [],
   "source": [
    "'''\n",
    "# Create a DefaultTrainer using the above config and train the model\n",
    "# TODO: approx 5 lines\n",
    "'''\n",
    "os.makedirs(cfg.OUTPUT_DIR, exist_ok=True)\n",
    "trainer = DefaultTrainer(cfg)\n",
    "trainer.resume_or_load(resume=False)\n",
    "trainer.train()"
   ]
  },
  {
   "cell_type": "code",
   "execution_count": null,
   "metadata": {},
   "outputs": [],
   "source": [
    "# Look at training curves in tensorboard:\n",
    "# %load_ext tensorboard\n",
    "%reload_ext tensorboard\n",
    "%tensorboard --logdir output#OUTPUT_DIR\n",
    "# !kill 2870"
   ]
  },
  {
   "cell_type": "markdown",
   "metadata": {
    "id": "fRVEiICco3SV"
   },
   "source": [
    "### Evaluation and Visualization"
   ]
  },
  {
   "cell_type": "code",
   "execution_count": null,
   "metadata": {
    "colab": {
     "base_uri": "https://localhost:8080/"
    },
    "id": "VYCIXdMZvDYL",
    "outputId": "2d1b1397-d32d-4dc1-946f-106ce276b95b"
   },
   "outputs": [],
   "source": [
    "'''\n",
    "# After training the model, you need to update cfg.MODEL.WEIGHTS\n",
    "# Define a DefaultPredictor\n",
    "'''\n",
    "# Inference should use the config with parameters that are used in training\n",
    "# cfg now already contains everything we've set previously. We changed it a little bit for inference:\n",
    "cfg.MODEL.WEIGHTS = os.path.join(cfg.OUTPUT_DIR, \"model_final.pth\")  # path to the model we just trained\n",
    "cfg.MODEL.ROI_HEADS.SCORE_THRESH_TEST = 0.6   # set a custom testing threshold\n",
    "predictor = DefaultPredictor(cfg)"
   ]
  },
  {
   "cell_type": "code",
   "execution_count": null,
   "metadata": {
    "colab": {
     "background_save": true,
     "base_uri": "https://localhost:8080/",
     "height": 1000
    },
    "id": "_hRCf86KGi5v",
    "outputId": "b34b761b-de8c-42ca-a506-ed990f0c4513"
   },
   "outputs": [],
   "source": [
    "'''\n",
    "# Visualize the output for 3 random test samples\n",
    "# TODO: approx 10 lines\n",
    "'''\n",
    "from detectron2.utils.visualizer import ColorMode\n",
    "for d in random.sample(test_data, 3):\n",
    "    print(d['file_name'])\n",
    "    im = d['image_data']#cv2.imread(d[\"file_name\"])\n",
    "    outputs = predictor(im)  # format is documented at https://detectron2.readthedocs.io/tutorials/models.html#model-output-format\n",
    "    v = Visualizer(im[:, :, ::-1],\n",
    "                   metadata=plane_metadata,\n",
    "                   scale=0.5,\n",
    "                   instance_mode=ColorMode.IMAGE_BW   # remove the colors of unsegmented pixels. This option is only available for segmentation models\n",
    "    )\n",
    "    out = v.draw_instance_predictions(outputs[\"instances\"].to(\"cpu\"))\n",
    "#     cv2_imshow(out.get_image()[:, :, ::-1])\n",
    "    im = Image.fromarray(out.get_image()[:, :, ::-1])\n",
    "    #     print(d['filename'])\n",
    "    display(im)"
   ]
  },
  {
   "cell_type": "code",
   "execution_count": null,
   "metadata": {
    "colab": {
     "base_uri": "https://localhost:8080/"
    },
    "id": "D0wRdlcKo6BD",
    "outputId": "744d7238-00d0-4860-d59f-3a47abdb370b"
   },
   "outputs": [],
   "source": [
    "'''\n",
    "# Use COCOEvaluator and build_detection_train_loader\n",
    "# You can save the output predictions using inference_on_dataset\n",
    "# TODO: approx 5 lines\n",
    "'''\n",
    "from detectron2.evaluation import COCOEvaluator, inference_on_dataset\n",
    "from detectron2.data import build_detection_test_loader\n",
    "evaluator = COCOEvaluator(\"data_detection_train\", output_dir=cfg.OUTPUT_DIR)\n",
    "val_loader = build_detection_test_loader(cfg, \"data_detection_train\")\n",
    "results = inference_on_dataset(predictor.model, val_loader, evaluator)\n",
    "print(results)"
   ]
  },
  {
   "cell_type": "code",
   "execution_count": null,
   "metadata": {},
   "outputs": [],
   "source": [
    "# Visualize specific test images for report\n",
    "from detectron2.utils.visualizer import ColorMode\n",
    "\n",
    "test_imgs = ['{}/test/P0257.png'.format(BASE_DIR),'{}/test/P0261.png'.format(BASE_DIR),'{}/test/P1128.png'.format(BASE_DIR)]\n",
    "disp_count = 0\n",
    "\n",
    "for d in test_data:\n",
    "    if d['file_name'] in test_imgs:\n",
    "        print(d['file_name'])\n",
    "        im = d['image_data']\n",
    "        outputs = predictor(im)  # format is documented at https://detectron2.readthedocs.io/tutorials/models.html#model-output-format\n",
    "        v = Visualizer(im[:, :, ::-1],\n",
    "                       metadata=plane_metadata,\n",
    "                       scale=0.5,\n",
    "                       instance_mode=ColorMode.IMAGE_BW   # remove the colors of unsegmented pixels. This option is only available for segmentation models\n",
    "        )\n",
    "        out = v.draw_instance_predictions(outputs[\"instances\"].to(\"cpu\"))\n",
    "        im = Image.fromarray(out.get_image()[:, :, ::-1])\n",
    "        display(im)\n",
    "        disp_count += 1\n",
    "\n",
    "    if disp_count == 3:\n",
    "        break #get out of loop after 3 displayed\n",
    "    \n"
   ]
  },
  {
   "cell_type": "markdown",
   "metadata": {
    "id": "EwYvbwcjpKBk"
   },
   "source": [
    "### Improvements\n",
    "\n",
    "For this part, you can bring any improvement which you have by adding new input parameters to the previous functions or defining new functions and variables."
   ]
  },
  {
   "cell_type": "code",
   "execution_count": null,
   "metadata": {
    "id": "xdR6KbCZpOlk"
   },
   "outputs": [],
   "source": [
    "'''\n",
    "# Bring any changes and updates regarding the improvement in here\n",
    "\n",
    "The following improvements were done to get a boost from 30% to 57% AP50\n",
    "\n",
    "\n",
    "cfg.SOLVER.IMS_PER_BATCH = 4  # \"batch size\" \n",
    "cfg.SOLVER.BASE_LR = 0.0025\n",
    "cfg.SOLVER.MAX_ITER = 1000   \n",
    "cfg.MODEL.ROI_HEADS.BATCH_SIZE_PER_IMAGE = 512 \n",
    "\n",
    "'''\n"
   ]
  },
  {
   "cell_type": "markdown",
   "metadata": {
    "id": "98_M4TooqSs2"
   },
   "source": [
    "## Part 2: Semantic Segmentation"
   ]
  },
  {
   "cell_type": "markdown",
   "metadata": {
    "id": "ByAEsMtIPLrO"
   },
   "source": [
    "### Data Loader"
   ]
  },
  {
   "cell_type": "code",
   "execution_count": null,
   "metadata": {
    "id": "peQ95zLuIpkk"
   },
   "outputs": [],
   "source": [
    "'''\n",
    "# Write a function that returns the cropped image and corresponding mask regarding the target bounding box\n",
    "# idx is the index of the target bbox in the data\n",
    "# high-resolution image could be passed or could be load from data['file_name']\n",
    "# You can use the mask attribute of detectron2.utils.visualizer.GenericMask\n",
    "#     to convert the segmentation annotations to binary masks\n",
    "# TODO: approx 10 lines\n",
    "'''\n",
    "\n",
    "from detectron2.utils.visualizer import GenericMask\n",
    "\n",
    "def get_instance_sample(data, idx, img=None):\n",
    "  # print(idx)\n",
    "  height = data['height']\n",
    "  width = data['width']\n",
    "  img = data['image_data']\n",
    "\n",
    "  bbox = data['annotations'][idx]['bbox']\n",
    "  segmentation = data['annotations'][idx]['segmentation']\n",
    "\n",
    "  x, y, w, h = [int(pt) for pt in bbox]\n",
    "\n",
    "  obj_img = img[y:y+h,x:x+w]\n",
    "\n",
    "  mask = GenericMask(segmentation, height, width).mask\n",
    "  obj_mask = mask[y:y+h,x:x+w] \n",
    "\n",
    "  return obj_img, obj_mask"
   ]
  },
  {
   "cell_type": "code",
   "execution_count": null,
   "metadata": {},
   "outputs": [],
   "source": [
    "# To find the normalized values\n",
    "\n",
    "# Initialize sums and square sums\n",
    "sum = torch.tensor([0.0, 0.0, 0.0])\n",
    "sum_squared = torch.tensor([0.0, 0.0, 0.0])\n",
    "count = 0\n",
    "\n",
    "for data in tqdm(train_data):\n",
    "    img = data['image_data']\n",
    "    img_tensor = transforms.ToTensor()(img)\n",
    "    sum += img_tensor.mean([1, 2]) # Calculate mean for CxHxW tensor over H and W\n",
    "    sum_squared += (img_tensor ** 2).mean([1, 2]) # Calculate squared mean for CxHxW tensor over H and W\n",
    "    count += 1\n",
    "\n",
    "# Calculate mean and std deviation\n",
    "mean = sum / count\n",
    "std = (sum_squared / count - mean ** 2) ** 0.5\n",
    "\n",
    "print(\"Mean: \", mean)\n",
    "print(\"Std: \", std)"
   ]
  },
  {
   "cell_type": "code",
   "execution_count": null,
   "metadata": {
    "id": "sxrc9X_pjzj-"
   },
   "outputs": [],
   "source": [
    "'''\n",
    "# We have provided a template data loader for your segmentation training\n",
    "# You need to complete the __getitem__() function before running the code\n",
    "# You may also need to add data augmentation or normalization in here\n",
    "'''\n",
    "\n",
    "class PlaneDataset(Dataset):\n",
    "  def __init__(self, set_name, data_list):\n",
    "      self.transforms = transforms.Compose([\n",
    "          transforms.ToTensor(), # Converting the image to tensor and change the image format (Channels-Last => Channels-First)\n",
    "          # Mean:  tensor([0.3846, 0.4054, 0.4109])\n",
    "         # Std:  tensor([0.1991, 0.2027, 0.2061])\n",
    "      ])\n",
    "      self.set_name = set_name\n",
    "      self.data = data_list\n",
    "      self.instance_map = []\n",
    "      for i, d in enumerate(self.data):\n",
    "        for j in range(len(d['annotations'])):\n",
    "          self.instance_map.append([i,j])\n",
    "\n",
    "  '''\n",
    "  # you can change the value of length to a small number like 10 for debugging of your training procedure and overfeating\n",
    "  # make sure to use the correct length for the final training\n",
    "  '''\n",
    "  def __len__(self):\n",
    "      return len(self.instance_map)\n",
    "\n",
    "  def numpy_to_tensor(self, img, mask):\n",
    "    if self.transforms is not None:\n",
    "        img = self.transforms(img)\n",
    "    img = torch.tensor(img, dtype=torch.float)\n",
    "    mask = torch.tensor(mask, dtype=torch.float)\n",
    "    return img, mask\n",
    "\n",
    "  '''\n",
    "  # Complete this part by using get_instance_sample function\n",
    "  # make sure to resize the img and mask to a fixed size (for example 128*128)\n",
    "  # you can use \"interpolate\" function of pytorch or \"numpy.resize\"\n",
    "  # TODO: 5 lines\n",
    "  '''\n",
    "  def __getitem__(self, idx):\n",
    "    if torch.is_tensor(idx):\n",
    "        idx = idx.tolist()\n",
    "    idx = self.instance_map[idx]\n",
    "    data = self.data[idx[0]]\n",
    "    \n",
    "    img, mask = get_instance_sample(data,idx[1])\n",
    "\n",
    "    #permute the img to be channel, height, width to match tensor\n",
    "    img = torch.tensor(img).permute(2,0,1)\n",
    "    img = img.unsqueeze(0) # add batch dimension at 0\n",
    "    img = img.float() / 255.0 # normalize range 0 to 1\n",
    "\n",
    "    mask = torch.tensor(mask).unsqueeze(0).unsqueeze(0) #add two channels in front of hxw\n",
    "    mask = mask.float()\n",
    "\n",
    "    img = F.interpolate(img, size=[128,128], mode='bilinear', align_corners=True)\n",
    "    img = img.squeeze(0) #drop the batch dim\n",
    "\n",
    "    mask = F.interpolate(mask, size=[128,128], mode='nearest')\n",
    "    mask = mask.squeeze(0).squeeze(0) #remove the batch and the channel for the mask\n",
    "\n",
    "    return img, mask\n",
    "\n",
    "def get_plane_dataset(set_name='train', batch_size=2):\n",
    "    my_data_list = DatasetCatalog.get(\"data_detection_{}\".format(set_name))\n",
    "    dataset = PlaneDataset(set_name, my_data_list)\n",
    "    loader = DataLoader(dataset, batch_size=batch_size, num_workers=4,\n",
    "                                              pin_memory=True, shuffle=True)\n",
    "    return loader, dataset"
   ]
  },
  {
   "cell_type": "markdown",
   "metadata": {
    "id": "m6eH3NKaQQfc"
   },
   "source": [
    "### Network"
   ]
  },
  {
   "cell_type": "code",
   "execution_count": null,
   "metadata": {
    "id": "PeqR3s3dSBPN"
   },
   "outputs": [],
   "source": [
    "'''\n",
    "# convolution module as a template layer consists of conv2d layer, batch normalization, and relu activation\n",
    "'''\n",
    "class conv(nn.Module):\n",
    "    def __init__(self, in_ch, out_ch, activation=True):\n",
    "        super(conv, self).__init__()\n",
    "        if(activation):\n",
    "          self.layer = nn.Sequential(\n",
    "             nn.Conv2d(in_ch, out_ch, 3, padding=1),\n",
    "             nn.BatchNorm2d(out_ch),\n",
    "             nn.ReLU(inplace=True)\n",
    "          )\n",
    "        else:\n",
    "          self.layer = nn.Sequential(\n",
    "             nn.Conv2d(in_ch, out_ch, 3, padding=1)\n",
    "             )\n",
    "\n",
    "    def forward(self, x):\n",
    "        x = self.layer(x)\n",
    "        return x\n",
    "\n",
    "'''\n",
    "# downsampling module equal to a conv module followed by a max-pool layer\n",
    "'''\n",
    "class down(nn.Module):\n",
    "    def __init__(self, in_ch, out_ch):\n",
    "        super(down, self).__init__()\n",
    "        self.layer = nn.Sequential(\n",
    "            conv(in_ch, out_ch),\n",
    "            nn.MaxPool2d(2)\n",
    "            )\n",
    "\n",
    "    def forward(self, x):\n",
    "        x = self.layer(x)\n",
    "        return x\n",
    "\n",
    "'''\n",
    "# upsampling module equal to a upsample function followed by a conv module\n",
    "'''\n",
    "class up(nn.Module):\n",
    "    def __init__(self, in_ch, out_ch, bilinear=False):\n",
    "        super(up, self).__init__()\n",
    "        if bilinear:\n",
    "            self.up = nn.Upsample(scale_factor=2, mode='bilinear', align_corners=True)\n",
    "        else:\n",
    "            self.up = nn.ConvTranspose2d(in_ch, in_ch, 2, stride=2)\n",
    "\n",
    "        self.conv = conv(in_ch, out_ch)\n",
    "\n",
    "    def forward(self, x):\n",
    "        y = self.up(x)\n",
    "        y = self.conv(y)\n",
    "        return y\n",
    "\n",
    "'''\n",
    "# the main model which you need to complete by using above modules.\n",
    "# you can also modify the above modules in order to improve your results.\n",
    "'''\n",
    "class MyModel(nn.Module):\n",
    "    def __init__(self):\n",
    "        super(MyModel, self).__init__()\n",
    "\n",
    "        # Encoder\n",
    "\n",
    "        self.input_conv = conv(3, 4)\n",
    "        self.down = down(4, 8)\n",
    "\n",
    "\n",
    "        # Decoder\n",
    "\n",
    "        self.up = up(8, 4)\n",
    "        self.output_conv = conv(4, 1, False) # ReLu activation is removed to keep the logits for the loss function\n",
    "\n",
    "\n",
    "    def forward(self, input):\n",
    "      y = self.input_conv(input)\n",
    "      y = self.down(y)\n",
    "      y = self.up(y)\n",
    "      output = self.output_conv(y)\n",
    "      return output"
   ]
  },
  {
   "cell_type": "markdown",
   "metadata": {
    "id": "rQj86vD9QT_Z"
   },
   "source": [
    "### Training"
   ]
  },
  {
   "cell_type": "code",
   "execution_count": null,
   "metadata": {
    "id": "MaZuO4SKSBuF"
   },
   "outputs": [],
   "source": [
    "'''\n",
    "# The following is a basic training procedure to train the network\n",
    "# You need to update the code to get the best performance\n",
    "# TODO: approx ? lines\n",
    "'''\n",
    "\n",
    "# Set the hyperparameters\n",
    "num_epochs = 5\n",
    "batch_size = 4\n",
    "learning_rate = 0.01\n",
    "weight_decay = 1e-5\n",
    "\n",
    "model = MyModel() # initialize the model\n",
    "model = model.cuda() # move the model to GPU\n",
    "loader, _ = get_plane_dataset('train', batch_size) # initialize data_loader\n",
    "crit = nn.BCEWithLogitsLoss() # Define the loss function\n",
    "optim = torch.optim.SGD(model.parameters(), lr=learning_rate, weight_decay=weight_decay) # Initialize the optimizer as SGD\n",
    "\n",
    "# start the training procedure\n",
    "for epoch in range(num_epochs):\n",
    "  total_loss = 0\n",
    "  for (img, mask) in tqdm(loader):\n",
    "    img = torch.tensor(img, device=torch.device('cuda'), requires_grad = True)\n",
    "    mask = torch.tensor(mask.unsqueeze(1), device=torch.device('cuda'), requires_grad = True)\n",
    "    pred = model(img)\n",
    "    loss = crit(pred, mask)\n",
    "    optim.zero_grad()\n",
    "    loss.backward()\n",
    "    optim.step()\n",
    "    total_loss += loss.cpu().data\n",
    "  print(\"Epoch: {}, Loss: {}\".format(epoch, total_loss/len(loader)))\n",
    "  torch.save(model.state_dict(), '{}/output/{}_segmentation_model.pth'.format(BASE_DIR, epoch))\n",
    "\n",
    "'''\n",
    "# Saving the final model\n",
    "'''\n",
    "torch.save(model.state_dict(), '{}/output/final_segmentation_model.pth'.format(BASE_DIR))\n"
   ]
  },
  {
   "cell_type": "markdown",
   "metadata": {
    "id": "0dyez1fyQYw7"
   },
   "source": [
    "### Evaluation and Visualization"
   ]
  },
  {
   "cell_type": "code",
   "execution_count": null,
   "metadata": {
    "id": "TDeViryUSCL2"
   },
   "outputs": [],
   "source": [
    "'''\n",
    "# Before starting the evaluation, you need to set the model mode to eval\n",
    "# You may load the trained model again, in case if you want to continue your code later\n",
    "# TODO: approx 15 lines\n",
    "'''\n",
    "batch_size = 8\n",
    "model = MyModel().cuda()\n",
    "model.load_state_dict(torch.load('{}/output/final_segmentation_model.pth'.format(BASE_DIR)))\n",
    "model = model.eval() # changing the model to evaluation mode will fix the bachnorm layers\n",
    "loader, dataset = get_plane_dataset('train', batch_size)\n",
    "\n",
    "thres = 0.5\n",
    "total_iou = 0\n",
    "num_iou = 0\n",
    "for (img, mask) in tqdm(loader):\n",
    "  with torch.no_grad():\n",
    "    img = img.cuda()\n",
    "    mask = mask.cuda()\n",
    "    mask = torch.unsqueeze(mask,1)\n",
    "    pred = model(img)\n",
    "\n",
    "    '''\n",
    "    ## Complete the code by obtaining the IoU for each img and print the final Mean IoU\n",
    "    '''\n",
    "    num_iou += img.shape[0]\n",
    "\n",
    "    assert pred.shape[0] == img.shape[0] #in the event the batch size doesnt divide equally, set it to equal the remainder\n",
    "\n",
    "    pred = (pred>thres).float()\n",
    "    intersect = (pred*mask).sum(dim=(1,2,3))\n",
    "    union = (pred+mask).sum(dim=(1,2,3)) - intersect\n",
    "    iou = intersect / union\n",
    "    total_iou += iou.sum().item()\n",
    "\n",
    "mean_iou = total_iou/num_iou\n",
    "\n",
    "print(\"\\n #images: {}, Mean IoU: {}\".format(num_iou, mean_iou))\n"
   ]
  },
  {
   "cell_type": "code",
   "execution_count": null,
   "metadata": {},
   "outputs": [],
   "source": [
    "#To find the image to extract the test plane bounding boxes from part 1\n",
    "d_idx = 0\n",
    "file_name = '/home/shane/lab3/data/test/P1483.png'\n",
    "for d in test_data: #look through the dataset list to make sure image does exit\n",
    "    if d.get('file_name') == file_name:#v['file_name'] in d:\n",
    "        find_flag = True\n",
    "        break\n",
    "    d_idx += 1\n"
   ]
  },
  {
   "cell_type": "code",
   "execution_count": null,
   "metadata": {},
   "outputs": [],
   "source": [
    "# outputs = predictor(train_data[0]['image_data'])\n",
    "# (outputs['instances'].get_fields())"
   ]
  },
  {
   "cell_type": "code",
   "execution_count": null,
   "metadata": {},
   "outputs": [],
   "source": [
    "from detectron2.utils.visualizer import ColorMode\n",
    "d = test_data[d_idx]\n",
    "im = d['image_data']\n",
    "outputs = predictor(im)  \n",
    "x1 = int(outputs['instances'].pred_boxes[2].tensor[0][0])\n",
    "y1 = int(outputs['instances'].pred_boxes[2].tensor[0][1])\n",
    "x2 = int(outputs['instances'].pred_boxes[2].tensor[0][2])\n",
    "y2 = int(outputs['instances'].pred_boxes[2].tensor[0][3])\n",
    "test1 = im[y1:y2,x1:x2]\n",
    "\n",
    "display(Image.fromarray(test1))"
   ]
  },
  {
   "cell_type": "code",
   "execution_count": null,
   "metadata": {},
   "outputs": [],
   "source": [
    "x1 = int(outputs['instances'].pred_boxes[3].tensor[0][0])\n",
    "y1= int(outputs['instances'].pred_boxes[3].tensor[0][1])\n",
    "x2 = int(outputs['instances'].pred_boxes[3].tensor[0][2])\n",
    "y2 = int(outputs['instances'].pred_boxes[3].tensor[0][3])\n",
    "test2 = im[y1:y2,x1:x2]\n",
    "display(Image.fromarray(test2))"
   ]
  },
  {
   "cell_type": "code",
   "execution_count": null,
   "metadata": {},
   "outputs": [],
   "source": [
    "x1 = int(outputs['instances'].pred_boxes[4].tensor[0][0])\n",
    "y1 = int(outputs['instances'].pred_boxes[4].tensor[0][1])\n",
    "x2 = int(outputs['instances'].pred_boxes[4].tensor[0][2])\n",
    "y2 = int(outputs['instances'].pred_boxes[4].tensor[0][3])\n",
    "test3 = im[y1:y2,x1:x2]\n",
    "display(Image.fromarray(test3))"
   ]
  },
  {
   "cell_type": "code",
   "execution_count": null,
   "metadata": {},
   "outputs": [],
   "source": [
    "\n",
    "'''\n",
    "# Visualize 3 sample outputs\n",
    "# TODO: approx 5 lines\n",
    "'''\n",
    "\n",
    "\n",
    "batch_size = 1\n",
    "#------------ THESE LINES ARE ALREADY ABOVE FOR EVALUATION OF TRAINING DATA ----------\n",
    "# model = MyModel().cuda()\n",
    "# model.load_state_dict(torch.load('{}/output/final_segmentation_model.pth'.format(BASE_DIR)))\n",
    "# model = model.eval() # changing the model to evaluation mode will fix the bachnorm layers\n",
    "thres = 0.6\n",
    "\n",
    "for im in [test1, test2, test3]:\n",
    "  with torch.no_grad():\n",
    "\n",
    "    #Copy over from __getitem__\n",
    "    img = torch.tensor(im).permute(2,0,1)\n",
    "    img = img.unsqueeze(0) # add batch dimension at 0\n",
    "    img = img.float() / 255.0 # normalize range 0 to 1\n",
    "\n",
    "    img = F.interpolate(img, size=[128,128], mode='bilinear', align_corners=True)\n",
    "    \n",
    "    #normalize img\n",
    "    \n",
    "    #Now feed it into the model for evaluation\n",
    "    img = img.cuda()\n",
    "    \n",
    "    # print(img.shape)\n",
    "    pred = model(img)\n",
    "\n",
    "    pred = (pred > thres).float().cpu().numpy() #convert to numpy\n",
    "    # print(pred.squeeze())\n",
    "\n",
    "\n",
    "    #so pillow display can visualize\n",
    "    pred = (pred.squeeze() * 255).astype(np.uint8)\n",
    "    \n",
    "    display(Image.fromarray(pred))\n",
    "    # plt.imshow(pred.squeeze(0).squeeze(0))\n",
    "    \n",
    "\n"
   ]
  },
  {
   "cell_type": "markdown",
   "metadata": {
    "id": "navoiGdrqaZT"
   },
   "source": [
    "## Part 3: Instance Segmentation\n",
    "\n",
    "In this part, you need to obtain the instance segmentation results for the test data by using the trained segmentation model in the previous part and the detection model in Part 1."
   ]
  },
  {
   "cell_type": "markdown",
   "metadata": {
    "id": "vBwk33DGBowP"
   },
   "source": [
    "### Get Prediction"
   ]
  },
  {
   "cell_type": "code",
   "execution_count": null,
   "metadata": {},
   "outputs": [],
   "source": [
    "'''\n",
    "# Define a new function to obtain the prediction mask by passing a sample data\n",
    "# For this part, you need to use all the previous parts (predictor, get_instance_sample, data preprocessings, etc)\n",
    "# It is better to keep everything (as well as the output of this funcion) on gpu as tensors to speed up the operations.\n",
    "# pred_mask is the instance segmentation result and should have different values for different planes.\n",
    "# TODO: approx 35 lines\n",
    "'''\n",
    "\n",
    "def get_prediction_mask(data):\n",
    "\n",
    "  height = data['height']\n",
    "  width = data['width']\n",
    "  img = data['image_data']\n",
    "  annos = data['annotations']\n",
    "  \n",
    "  #initialize with zeros\n",
    "  gt_mask = torch.zeros((height, width)).cuda()\n",
    "\n",
    "  #initalize pred_mask\n",
    "  pred_mask = torch.zeros((height, width)).cuda()\n",
    "\n",
    "  if len(data['annotations']) > 0: #this is train data with plane data\n",
    "    \n",
    "    #loop through annotations\n",
    "    for i in range(len(annos)):\n",
    "\n",
    "      #grab segmentation data and convert to binary mask\n",
    "      seg = annos[i]['segmentation']\n",
    "      mask = torch.tensor(GenericMask(seg, height, width).mask).cuda()\n",
    "      # add the mask to the ground truth mask\n",
    "      gt_mask += mask \n",
    "\n",
    "  #run predictor on it to get bounding box data\n",
    "  outputs = predictor(img)  \n",
    "  pred_boxes = outputs['instances'].pred_boxes.tensor\n",
    "  \n",
    "  img = torch.tensor(img).cuda() # put image on cuda\n",
    "\n",
    "  crop_imgs = []\n",
    "  coords = []\n",
    "  for pred_box in pred_boxes:\n",
    "\n",
    "    x1, y1, x2, y2 = pred_box\n",
    "    x1 = int(x1)\n",
    "    y1 = int(y1)\n",
    "    x2 = int(x2)\n",
    "    y2 = int(y2)\n",
    "    crop_imgs.append(img[y1:y2,x1:x2])\n",
    "    coords.append((x1,y1,x2,y2))\n",
    "\n",
    "    #go through the model\n",
    "    # batch_size = 1\n",
    "  thres = 0.6\n",
    "  #----- IN CASE ITS NOT LOADED BEFORE FROM PART 2--------\n",
    "  # model = MyModel().cuda()\n",
    "  # model.load_state_dict(torch.load('{}/output/final_segmentation_model.pth'.format(BASE_DIR)))\n",
    "  # model = model.eval() # changing the model to evaluation mode will fix the bachnorm layers\n",
    "  #--------------\n",
    "\n",
    "  if crop_imgs:\n",
    "  #batch up all the crop images\n",
    "  #since we are passing small images of a single image, we should be able to fit on gpu mem\n",
    "  #for each crop we will resize to 128, divide by 255, add the batch dimension and stack it\n",
    "    # batch_crops = []\n",
    "    # for crop in crop_imgs:\n",
    "    #   crop = crop.permute(2,0,1).unsqueeze(0) # add batch dimension at 0\n",
    "    #   crop = crop.float() / 255.0 # normalize range 0 to 1\n",
    "    #   crop = F.interpolate(crop, size=[128,128], mode='bilinear', align_corners=True)\n",
    "    #   batch_crops.append(crop.squeeze(0)) \n",
    "\n",
    "    batch_crops = [F.interpolate(crop.permute(2,0,1).unsqueeze(0).float()/255.0, size=[128,128], mode='bilinear', align_corners=True).squeeze(0) for crop in crop_imgs]\n",
    "\n",
    "    batch = torch.stack(batch_crops, dim=0)  \n",
    "    with torch.no_grad():\n",
    "      \n",
    "      preds = model(batch)\n",
    "      preds = (preds > thres).float()\n",
    "    \n",
    "    #iterate over the predictions\n",
    "    for i, pred in enumerate(preds):\n",
    "      x1, y1, x2, y2 = coords[i]\n",
    "      h, w = y2-y1, x2-x1\n",
    "\n",
    "      #resize back to original size of crop_imgs based on bounding box\n",
    "      pred = F.interpolate(pred.unsqueeze(0), size=[y2-y1,x2-x1], mode='bilinear', align_corners=True).squeeze()\n",
    "      \n",
    "      #add masks to the zero image\n",
    "      pred_mask[y1:y2,x1:x2] += (pred * (1-(i*0.01))) # the index is used to create individual white levels\n",
    "      # pred_mask[y1:y2, x1:x2].add_(pred, alpha=(1 - (i * 0.01)))\n",
    "\n",
    "  return img, gt_mask, pred_mask # gt_mask could be all zero when the ground truth is not given.\n"
   ]
  },
  {
   "cell_type": "markdown",
   "metadata": {
    "id": "fc7TSK6EBi9u"
   },
   "source": [
    "### Visualization and Submission"
   ]
  },
  {
   "cell_type": "code",
   "execution_count": null,
   "metadata": {
    "id": "H7T2YX8MBiGO"
   },
   "outputs": [],
   "source": [
    "'''\n",
    "# Visualise the output prediction as well as the GT Mask and Input image for a sample input\n",
    "# TODO: approx 10 lines\n",
    "'''\n",
    "\n",
    "img, gt_mask, pred_mask = get_prediction_mask(train_data[0])\n",
    "print('Prediction Mask')\n",
    "display(Image.fromarray((pred_mask *255).cpu().numpy().astype(np.uint8)))\n",
    "print('Ground Truth Mask')\n",
    "display(Image.fromarray((gt_mask * 255).cpu().numpy().astype(np.uint8)))\n",
    "print('Original Input Image')\n",
    "display(Image.fromarray(img.cpu().numpy().astype(np.uint8)))\n",
    "\n"
   ]
  },
  {
   "cell_type": "code",
   "execution_count": null,
   "metadata": {
    "id": "uPo_03up-g_f"
   },
   "outputs": [],
   "source": [
    "'''\n",
    "# ref: https://www.kaggle.com/rakhlin/fast-run-length-encoding-python\n",
    "# https://www.kaggle.com/c/airbus-ship-detection/overview/evaluation\n",
    "'''\n",
    "def rle_encoding(x):\n",
    "    '''\n",
    "    x: pytorch tensor on gpu, 1 - mask, 0 - background\n",
    "    Returns run length as list\n",
    "    '''\n",
    "    dots = torch.where(torch.flatten(x.long())==1)[0]\n",
    "    if(len(dots)==0):\n",
    "      return []\n",
    "    inds = torch.where(dots[1:]!=dots[:-1]+1)[0]+1\n",
    "    inds = torch.cat((torch.tensor([0], device=torch.device('cuda'), dtype=torch.long), inds))\n",
    "    tmpdots = dots[inds]\n",
    "    inds = torch.cat((inds, torch.tensor([len(dots)], device=torch.device('cuda'))))\n",
    "    inds = inds[1:] - inds[:-1]\n",
    "    runs = torch.cat((tmpdots, inds)).reshape((2,-1))\n",
    "    runs = torch.flatten(torch.transpose(runs, 0, 1)).cpu().data.numpy()\n",
    "    return ' '.join([str(i) for i in runs])"
   ]
  },
  {
   "cell_type": "code",
   "execution_count": null,
   "metadata": {
    "id": "zv0rab2LJev-"
   },
   "outputs": [],
   "source": [
    "'''\n",
    "# You need to upload the csv file on kaggle\n",
    "# The speed of your code in the previous parts highly affects the running time of this part\n",
    "'''\n",
    "\n",
    "preddic = {\"ImageId\": [], \"EncodedPixels\": []}\n",
    "\n",
    "'''\n",
    "# Writing the predictions of the training set\n",
    "'''\n",
    "my_data_list = DatasetCatalog.get(\"data_detection_{}\".format('train'))\n",
    "for i in tqdm(range(len(my_data_list)), position=0, leave=True):\n",
    "  sample = my_data_list[i]\n",
    "  sample['image_id'] = sample['file_name'].split(\"/\")[-1][:-4]\n",
    "  img, true_mask, pred_mask = get_prediction_mask(sample)\n",
    "  inds = torch.unique(pred_mask)\n",
    "  if(len(inds)==1):\n",
    "    preddic['ImageId'].append(sample['image_id'])\n",
    "    preddic['EncodedPixels'].append([])\n",
    "  else:\n",
    "    for index in inds:\n",
    "      if(index == 0):\n",
    "        continue\n",
    "      tmp_mask = (pred_mask==index)\n",
    "      encPix = rle_encoding(tmp_mask)\n",
    "      preddic['ImageId'].append(sample['image_id'])\n",
    "      preddic['EncodedPixels'].append(encPix)\n",
    "\n",
    "'''\n",
    "# Writing the predictions of the test set\n",
    "'''\n",
    "\n",
    "my_data_list = DatasetCatalog.get(\"data_detection_{}\".format('test'))\n",
    "for i in tqdm(range(len(my_data_list)), position=0, leave=True):\n",
    "  sample = my_data_list[i]\n",
    "  sample['image_id'] = sample['file_name'].split(\"/\")[-1][:-4]\n",
    "  img, true_mask, pred_mask = get_prediction_mask(sample)\n",
    "  inds = torch.unique(pred_mask)\n",
    "  if(len(inds)==1):\n",
    "    preddic['ImageId'].append(sample['image_id'])\n",
    "    preddic['EncodedPixels'].append([])\n",
    "  else:\n",
    "    for j, index in enumerate(inds):\n",
    "      if(index == 0):\n",
    "        continue\n",
    "      tmp_mask = (pred_mask==index).double()\n",
    "      encPix = rle_encoding(tmp_mask)\n",
    "      preddic['ImageId'].append(sample['image_id'])\n",
    "      preddic['EncodedPixels'].append(encPix)\n",
    "\n",
    "pred_file = open(\"{}/pred.csv\".format(BASE_DIR), 'w')\n",
    "pd.DataFrame(preddic).to_csv(pred_file, index=False)\n",
    "pred_file.close()\n"
   ]
  },
  {
   "cell_type": "markdown",
   "metadata": {
    "id": "p7nN4SduqrpI"
   },
   "source": [
    "## Part 4: Mask R-CNN\n",
    "\n",
    "For this part you need to follow a same procedure to part 2 with the configs of Mask R-CNN, other parts are generally the same as part 2."
   ]
  },
  {
   "cell_type": "markdown",
   "metadata": {
    "id": "axWf7drKNXYd"
   },
   "source": [
    "### Data Loader"
   ]
  },
  {
   "cell_type": "code",
   "execution_count": null,
   "metadata": {
    "id": "yC1FDCcQN2LH"
   },
   "outputs": [],
   "source": [
    "'''\n",
    "# This function should return a list of data samples in which each sample is a dictionary.\n",
    "# Make sure to select the correct bbox_mode for the data\n",
    "# For the test data, you only have access to the images, therefore, the annotations should be empty.\n",
    "# Other values could be obtained from the image files.\n",
    "# TODO: approx 35 lines\n",
    "'''\n",
    "\n",
    "def get_detection_data(set_name):\n",
    "    data_dirs = BASE_DIR#'{}/data'.format(BASE_DIR)\n",
    "    set_dirs = '{}/{}'.format(data_dirs,set_name)\n",
    "    dataset = []\n",
    "\n",
    "\n",
    "    if set_name == 'train':\n",
    "        json_file = os.path.join(data_dirs, \"train.json\")\n",
    "\n",
    "        with open(json_file) as jf:\n",
    "            img_ann = json.load(jf)\n",
    "\n",
    "        for i, v in enumerate(img_ann):\n",
    "            record={}\n",
    "            file_name = os.path.join(set_dirs,v['file_name'])\n",
    "            find_flag = False\n",
    "\n",
    "            d_idx = 0\n",
    "            for d in dataset: #look through the dataset list to make sure image does exit\n",
    "                if d.get('file_name') == file_name:#v['file_name'] in d:\n",
    "                    find_flag = True\n",
    "                    break\n",
    "                d_idx += 1\n",
    "\n",
    "            if find_flag:\n",
    "                d = dataset[d_idx]\n",
    "                #this image is already part the growing dictionary list\n",
    "                # file_name, height and width are already there\n",
    "                #grab the list of annotations\n",
    "                annos = d['annotations']\n",
    "                obj = {\n",
    "                    'bbox': v['bbox'],\n",
    "            #             'bbox_mode': BoxMode.XYXY_ABS,\n",
    "                    'bbox_mode': BoxMode.XYWH_ABS,\n",
    "                    'segmentation': v['segmentation'],\n",
    "                    'category_name': v['category_name'],\n",
    "                    'category_id' : 0, #v['category_id'],\n",
    "                }\n",
    "                annos.append(obj) #add the annotations to existing\n",
    "\n",
    "            else:\n",
    "                #this json record is not part of the growing dataset dict so add it\n",
    "                image = cv2.imread(file_name)\n",
    "                height, width = image.shape[:2]\n",
    "                record['file_name'] = file_name\n",
    "                # record['image_id'] = i\n",
    "                record['image_id'] = v['image_id']\n",
    "                #record['image_id'] = v['id']\n",
    "                record['height'] = height\n",
    "                record['width'] = width\n",
    "                record['image_data'] = image\n",
    "                objs = []\n",
    "                obj = {\n",
    "                    'bbox': v['bbox'],\n",
    "            #             'bbox_mode': BoxMode.XYXY_ABS,\n",
    "                    'bbox_mode': BoxMode.XYWH_ABS,\n",
    "                    'segmentation': v['segmentation'],\n",
    "                    'category_name': v['category_name'],\n",
    "                    'category_id' : 0, #v['category_id'],\n",
    "                }\n",
    "                objs.append(obj)\n",
    "                record['annotations'] = objs\n",
    "                dataset.append(record)\n",
    "\n",
    "    else: # load the test data\n",
    "        set_files = os.listdir(set_dirs)\n",
    "        im_files = [i for i in set_files if i.lower().endswith(('.png','jpg','jpeg'))]\n",
    "\n",
    "        idx = 0\n",
    "        \n",
    "        for im in im_files:\n",
    "            record={}\n",
    "            \n",
    "\n",
    "            file_name = os.path.join(set_dirs,im)\n",
    "\n",
    "#             if im not in image_dict:\n",
    "#                 image = cv2.imread(file_name)\n",
    "#                 image_dict[file_name] = image\n",
    "\n",
    "            image = cv2.imread(file_name)\n",
    "            height, width = image.shape[:2]\n",
    "            record['file_name'] = file_name\n",
    "            record['image_id'] = idx\n",
    "            record['height'] = height\n",
    "            record['width'] = width\n",
    "            record['image_data'] = image\n",
    "            objs = []\n",
    "            record['annotations'] = objs\n",
    "            dataset.append(record)\n",
    "\n",
    "            idx += 1\n",
    "\n",
    "    return dataset"
   ]
  },
  {
   "cell_type": "code",
   "execution_count": null,
   "metadata": {},
   "outputs": [],
   "source": [
    "'''\n",
    "# Remember to add your dataset to DatasetCatalog and MetadataCatalog\n",
    "# Consdier \"data_detection_train\" and \"data_detection_test\" for registration\n",
    "# You can also add an optional \"data_detection_val\" for your validation by spliting the training data\n",
    "# TODO: approx 5 lines\n",
    "'''\n",
    "train_data = get_detection_data('train')\n",
    "test_data = get_detection_data('test')\n",
    "\n",
    "# random.shuffle(dataset_dict)\n",
    "\n",
    "# split = int(len(dataset_dict) * 0.1) # 10% of training data for validation set\n",
    "# train_data = dataset_dict[:split]\n",
    "# val_data = dataset_dict[split:]\n",
    "\n",
    "for d in [\"train\", \"test\"]:\n",
    "    if d == \"train\":\n",
    "        DatasetCatalog.register(\"data_detection_\" + d, lambda d=d: train_data)\n",
    "        MetadataCatalog.get(\"data_detection_\" + d).set(thing_classes=[\"plane\"])\n",
    "    else:\n",
    "        DatasetCatalog.register(\"data_detection_\" + d, lambda d=d: test_data)\n",
    "        MetadataCatalog.get(\"data_detection_\" + d).set(thing_classes=[\"plane\"])\n",
    "\n",
    "plane_metadata = MetadataCatalog.get(\"data_detection_train\")"
   ]
  },
  {
   "cell_type": "markdown",
   "metadata": {
    "id": "lG5slAhQNjE7"
   },
   "source": [
    "### Network"
   ]
  },
  {
   "cell_type": "code",
   "execution_count": null,
   "metadata": {
    "id": "KG1pnKLMOcjS"
   },
   "outputs": [],
   "source": [
    "'''\n",
    "# Set the configs for the detection part in here.\n",
    "# TODO: approx 15 lines\n",
    "'''\n",
    "cfg = get_cfg()\n",
    "cfg.OUTPUT_DIR = OUTPUT_DIR#\"{}/output/\".format(BASE_DIR)\n",
    "cfg.merge_from_file(model_zoo.get_config_file(\"COCO-InstanceSegmentation/mask_rcnn_R_50_FPN_3x.yaml\"))\n",
    "cfg.DATASETS.TRAIN = (\"data_detection_train\",)\n",
    "cfg.DATASETS.TEST = ()\n",
    "cfg.DATALOADER.NUM_WORKERS = 2\n",
    "cfg.MODEL.WEIGHTS = model_zoo.get_checkpoint_url(\"COCO-InstanceSegmentation/mask_rcnn_R_50_FPN_3x.yaml\")\n",
    "cfg.SOLVER.IMS_PER_BATCH = 2  # \"batch size\" \n",
    "cfg.SOLVER.BASE_LR = 0.00025  \n",
    "cfg.SOLVER.MAX_ITER = 500    \n",
    "cfg.SOLVER.STEPS = []        # do not decay learning rate\n",
    "cfg.MODEL.ROI_HEADS.BATCH_SIZE_PER_IMAGE = 512 # The \"RoIHead batch size\".\n",
    "cfg.MODEL.ROI_HEADS.NUM_CLASSES = 1"
   ]
  },
  {
   "cell_type": "markdown",
   "metadata": {
    "id": "t7ifeV1sNvtt"
   },
   "source": [
    "### Training"
   ]
  },
  {
   "cell_type": "code",
   "execution_count": null,
   "metadata": {
    "id": "tc4K0Nz5OeKk"
   },
   "outputs": [],
   "source": [
    "'''\n",
    "# Create a DefaultTrainer using the above config and train the model\n",
    "# TODO: approx 5 lines\n",
    "'''\n",
    "os.makedirs(cfg.OUTPUT_DIR, exist_ok=True)\n",
    "trainer = DefaultTrainer(cfg)\n",
    "trainer.resume_or_load(resume=False)\n",
    "trainer.train()"
   ]
  },
  {
   "cell_type": "markdown",
   "metadata": {
    "id": "298QruFnNxyn"
   },
   "source": [
    "### Evaluation and Visualization"
   ]
  },
  {
   "cell_type": "code",
   "execution_count": null,
   "metadata": {
    "id": "KcGwV5-9Oetp"
   },
   "outputs": [],
   "source": [
    "'''\n",
    "# After training the model, you need to update cfg.MODEL.WEIGHTS\n",
    "# Define a DefaultPredictor\n",
    "'''\n",
    "# Inference should use the config with parameters that are used in training\n",
    "# cfg now already contains everything we've set previously. We changed it a little bit for inference:\n",
    "cfg.MODEL.WEIGHTS = os.path.join(cfg.OUTPUT_DIR, \"model_final.pth\")  # path to the model we just trained\n",
    "cfg.MODEL.ROI_HEADS.SCORE_THRESH_TEST = 0.6   # set a custom testing threshold\n",
    "predictor = DefaultPredictor(cfg)"
   ]
  },
  {
   "cell_type": "code",
   "execution_count": null,
   "metadata": {
    "id": "l_3wS2BFLLGp"
   },
   "outputs": [],
   "source": [
    "'''\n",
    "# Visualize the output for 3 random test samples\n",
    "# TODO: approx 10 lines\n",
    "'''\n",
    "from detectron2.utils.visualizer import ColorMode\n",
    "for d in random.sample(test_data, 3):\n",
    "    print(d['file_name'])\n",
    "    im = d['image_data']#cv2.imread(d[\"file_name\"])\n",
    "    outputs = predictor(im)  # format is documented at https://detectron2.readthedocs.io/tutorials/models.html#model-output-format\n",
    "    v = Visualizer(im[:, :, ::-1],\n",
    "                   metadata=plane_metadata,\n",
    "                   scale=0.5,\n",
    "                   instance_mode=ColorMode.IMAGE_BW   # remove the colors of unsegmented pixels. This option is only available for segmentation models\n",
    "    )\n",
    "    out = v.draw_instance_predictions(outputs[\"instances\"].to(\"cpu\"))\n",
    "#     cv2_imshow(out.get_image()[:, :, ::-1])\n",
    "    im = Image.fromarray(out.get_image()[:, :, ::-1])\n",
    "    #     print(d['filename'])\n",
    "    display(im)"
   ]
  },
  {
   "cell_type": "code",
   "execution_count": null,
   "metadata": {},
   "outputs": [],
   "source": [
    "'''\n",
    "# Use COCOEvaluator and build_detection_train_loader\n",
    "# You can save the output predictions using inference_on_dataset\n",
    "# TODO: approx 5 lines\n",
    "'''\n",
    "from detectron2.evaluation import COCOEvaluator, inference_on_dataset\n",
    "from detectron2.data import build_detection_test_loader\n",
    "evaluator = COCOEvaluator(\"data_detection_train\", output_dir=cfg.OUTPUT_DIR)\n",
    "val_loader = build_detection_test_loader(cfg, \"data_detection_train\")\n",
    "results = inference_on_dataset(predictor.model, val_loader, evaluator)\n",
    "print(results)"
   ]
  },
  {
   "cell_type": "code",
   "execution_count": null,
   "metadata": {},
   "outputs": [],
   "source": []
  }
 ],
 "metadata": {
  "accelerator": "GPU",
  "colab": {
   "machine_shape": "hm",
   "provenance": []
  },
  "kernelspec": {
   "display_name": "Python 3 (ipykernel)",
   "language": "python",
   "name": "python3"
  },
  "language_info": {
   "codemirror_mode": {
    "name": "ipython",
    "version": 3
   },
   "file_extension": ".py",
   "mimetype": "text/x-python",
   "name": "python",
   "nbconvert_exporter": "python",
   "pygments_lexer": "ipython3",
   "version": "3.9.18"
  }
 },
 "nbformat": 4,
 "nbformat_minor": 4
}
